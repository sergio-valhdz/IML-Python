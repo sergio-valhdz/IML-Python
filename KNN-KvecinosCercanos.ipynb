{
 "cells": [
  {
   "cell_type": "markdown",
   "metadata": {},
   "source": [
    "# K vecinos más cercanos o KNN"
   ]
  },
  {
   "cell_type": "markdown",
   "metadata": {},
   "source": [
    "Claseificación supervisada, estima que 'x' pertenece a 'C' con información\n",
    "\n",
    "Se usa para clasificar objetos con ejemplos cercanos\n",
    "\n",
    "Es fácil de entrenar y trabajar"
   ]
  },
  {
   "cell_type": "markdown",
   "metadata": {},
   "source": [
    "## Funcionamiento"
   ]
  },
  {
   "cell_type": "markdown",
   "metadata": {},
   "source": [
    "Toma los elementos más cercanos y predice a que pertenece en función a eso"
   ]
  },
  {
   "cell_type": "markdown",
   "metadata": {},
   "source": [
    "# Ejercicio"
   ]
  },
  {
   "cell_type": "code",
   "execution_count": 2,
   "metadata": {},
   "outputs": [],
   "source": [
    "import pandas as pd \n",
    "import numpy as np \n",
    "import matplotlib.pyplot as plt\n",
    "import seaborn as sns"
   ]
  },
  {
   "cell_type": "code",
   "execution_count": 4,
   "metadata": {},
   "outputs": [
    {
     "output_type": "stream",
     "name": "stdout",
     "text": [
      "[WinError 2] El sistema no puede encontrar el archivo especificado: 'data_sets'\ne:\\Sergio\\Documentos\\Programacion\\Python\\Udemy Machine Free\\data_sets\n"
     ]
    }
   ],
   "source": [
    "cd data_sets"
   ]
  },
  {
   "cell_type": "code",
   "execution_count": 6,
   "metadata": {},
   "outputs": [],
   "source": [
    "dataframe = pd.read_csv('vehiculos.csv')"
   ]
  },
  {
   "cell_type": "code",
   "execution_count": 8,
   "metadata": {},
   "outputs": [
    {
     "output_type": "execute_result",
     "data": {
      "text/plain": [
       "   compactness  circularity  distance_circularity  radius_ratio  \\\n",
       "0         95.0         48.0                  83.0         178.0   \n",
       "1         91.0         41.0                  84.0         141.0   \n",
       "2        104.0         50.0                 106.0         209.0   \n",
       "3         93.0         41.0                  82.0         159.0   \n",
       "4         85.0         44.0                  70.0         205.0   \n",
       "\n",
       "   pr_axis_aspect_ratio  max_length_aspect_ratio  scatter_ratio  \\\n",
       "0                  72.0                     10.0          162.0   \n",
       "1                  57.0                      9.0          149.0   \n",
       "2                  66.0                     10.0          207.0   \n",
       "3                  63.0                      9.0          144.0   \n",
       "4                 103.0                     52.0          149.0   \n",
       "\n",
       "   elongatedness  pr_axis_rectangularity  max_length_rectangularity  \\\n",
       "0           42.0                    20.0                      159.0   \n",
       "1           45.0                    19.0                      143.0   \n",
       "2           32.0                    23.0                      158.0   \n",
       "3           46.0                    19.0                      143.0   \n",
       "4           45.0                    19.0                      144.0   \n",
       "\n",
       "   scaled_variance_major_axis  scaled_variance_minor_axis  \\\n",
       "0                       176.0                       379.0   \n",
       "1                       170.0                       330.0   \n",
       "2                       223.0                       635.0   \n",
       "3                       160.0                       309.0   \n",
       "4                       241.0                       325.0   \n",
       "\n",
       "   scaled_radius_gyration  skewness_major_axis  skewness_minor_axis  \\\n",
       "0                   184.0                 70.0                  6.0   \n",
       "1                   158.0                 72.0                  9.0   \n",
       "2                   220.0                 73.0                 14.0   \n",
       "3                   127.0                 63.0                  6.0   \n",
       "4                   188.0                127.0                  9.0   \n",
       "\n",
       "   kurtosis_minor_axis  kurtosis_major_axis  hollows_ratio vehicle_class  \n",
       "0                 16.0                187.0          197.0           van  \n",
       "1                 14.0                189.0          199.0           van  \n",
       "2                  9.0                188.0          196.0          saab  \n",
       "3                 10.0                199.0          207.0           van  \n",
       "4                 11.0                180.0          183.0           bus  "
      ],
      "text/html": "<div>\n<style scoped>\n    .dataframe tbody tr th:only-of-type {\n        vertical-align: middle;\n    }\n\n    .dataframe tbody tr th {\n        vertical-align: top;\n    }\n\n    .dataframe thead th {\n        text-align: right;\n    }\n</style>\n<table border=\"1\" class=\"dataframe\">\n  <thead>\n    <tr style=\"text-align: right;\">\n      <th></th>\n      <th>compactness</th>\n      <th>circularity</th>\n      <th>distance_circularity</th>\n      <th>radius_ratio</th>\n      <th>pr_axis_aspect_ratio</th>\n      <th>max_length_aspect_ratio</th>\n      <th>scatter_ratio</th>\n      <th>elongatedness</th>\n      <th>pr_axis_rectangularity</th>\n      <th>max_length_rectangularity</th>\n      <th>scaled_variance_major_axis</th>\n      <th>scaled_variance_minor_axis</th>\n      <th>scaled_radius_gyration</th>\n      <th>skewness_major_axis</th>\n      <th>skewness_minor_axis</th>\n      <th>kurtosis_minor_axis</th>\n      <th>kurtosis_major_axis</th>\n      <th>hollows_ratio</th>\n      <th>vehicle_class</th>\n    </tr>\n  </thead>\n  <tbody>\n    <tr>\n      <th>0</th>\n      <td>95.0</td>\n      <td>48.0</td>\n      <td>83.0</td>\n      <td>178.0</td>\n      <td>72.0</td>\n      <td>10.0</td>\n      <td>162.0</td>\n      <td>42.0</td>\n      <td>20.0</td>\n      <td>159.0</td>\n      <td>176.0</td>\n      <td>379.0</td>\n      <td>184.0</td>\n      <td>70.0</td>\n      <td>6.0</td>\n      <td>16.0</td>\n      <td>187.0</td>\n      <td>197.0</td>\n      <td>van</td>\n    </tr>\n    <tr>\n      <th>1</th>\n      <td>91.0</td>\n      <td>41.0</td>\n      <td>84.0</td>\n      <td>141.0</td>\n      <td>57.0</td>\n      <td>9.0</td>\n      <td>149.0</td>\n      <td>45.0</td>\n      <td>19.0</td>\n      <td>143.0</td>\n      <td>170.0</td>\n      <td>330.0</td>\n      <td>158.0</td>\n      <td>72.0</td>\n      <td>9.0</td>\n      <td>14.0</td>\n      <td>189.0</td>\n      <td>199.0</td>\n      <td>van</td>\n    </tr>\n    <tr>\n      <th>2</th>\n      <td>104.0</td>\n      <td>50.0</td>\n      <td>106.0</td>\n      <td>209.0</td>\n      <td>66.0</td>\n      <td>10.0</td>\n      <td>207.0</td>\n      <td>32.0</td>\n      <td>23.0</td>\n      <td>158.0</td>\n      <td>223.0</td>\n      <td>635.0</td>\n      <td>220.0</td>\n      <td>73.0</td>\n      <td>14.0</td>\n      <td>9.0</td>\n      <td>188.0</td>\n      <td>196.0</td>\n      <td>saab</td>\n    </tr>\n    <tr>\n      <th>3</th>\n      <td>93.0</td>\n      <td>41.0</td>\n      <td>82.0</td>\n      <td>159.0</td>\n      <td>63.0</td>\n      <td>9.0</td>\n      <td>144.0</td>\n      <td>46.0</td>\n      <td>19.0</td>\n      <td>143.0</td>\n      <td>160.0</td>\n      <td>309.0</td>\n      <td>127.0</td>\n      <td>63.0</td>\n      <td>6.0</td>\n      <td>10.0</td>\n      <td>199.0</td>\n      <td>207.0</td>\n      <td>van</td>\n    </tr>\n    <tr>\n      <th>4</th>\n      <td>85.0</td>\n      <td>44.0</td>\n      <td>70.0</td>\n      <td>205.0</td>\n      <td>103.0</td>\n      <td>52.0</td>\n      <td>149.0</td>\n      <td>45.0</td>\n      <td>19.0</td>\n      <td>144.0</td>\n      <td>241.0</td>\n      <td>325.0</td>\n      <td>188.0</td>\n      <td>127.0</td>\n      <td>9.0</td>\n      <td>11.0</td>\n      <td>180.0</td>\n      <td>183.0</td>\n      <td>bus</td>\n    </tr>\n  </tbody>\n</table>\n</div>"
     },
     "metadata": {},
     "execution_count": 8
    }
   ],
   "source": [
    "dataframe.head()"
   ]
  },
  {
   "cell_type": "code",
   "execution_count": 10,
   "metadata": {},
   "outputs": [
    {
     "output_type": "execute_result",
     "data": {
      "text/plain": [
       "array(['van', 'saab', 'bus', 'opel'], dtype=object)"
      ]
     },
     "metadata": {},
     "execution_count": 10
    }
   ],
   "source": [
    "dataframe['vehicle_class'].unique()"
   ]
  },
  {
   "cell_type": "code",
   "execution_count": 12,
   "metadata": {},
   "outputs": [],
   "source": [
    "y = dataframe['vehicle_class']\n",
    "X = dataframe.drop('vehicle_class',axis=1)"
   ]
  },
  {
   "cell_type": "code",
   "execution_count": 14,
   "metadata": {},
   "outputs": [],
   "source": [
    "from sklearn.model_selection import train_test_split"
   ]
  },
  {
   "cell_type": "code",
   "execution_count": 16,
   "metadata": {},
   "outputs": [],
   "source": [
    "X_train, X_test, y_train, y_test = train_test_split(X, y, test_size=0.3, random_state=45)"
   ]
  },
  {
   "cell_type": "code",
   "execution_count": 18,
   "metadata": {},
   "outputs": [],
   "source": [
    "from sklearn.neighbors import KNeighborsClassifier\n",
    "knn = KNeighborsClassifier(n_neighbors=1)"
   ]
  },
  {
   "cell_type": "code",
   "execution_count": 20,
   "metadata": {},
   "outputs": [
    {
     "output_type": "execute_result",
     "data": {
      "text/plain": [
       "KNeighborsClassifier(n_neighbors=1)"
      ]
     },
     "metadata": {},
     "execution_count": 20
    }
   ],
   "source": [
    "knn.fit(X_train,y_train)"
   ]
  },
  {
   "cell_type": "code",
   "execution_count": 22,
   "metadata": {},
   "outputs": [],
   "source": [
    "predicciones = knn.predict(X_test)"
   ]
  },
  {
   "cell_type": "code",
   "execution_count": 24,
   "metadata": {},
   "outputs": [
    {
     "output_type": "stream",
     "name": "stdout",
     "text": [
      "[[65  0  7  5]\n [ 7 24 28  6]\n [ 5 26 23  3]\n [ 2  0  2 51]]\n"
     ]
    }
   ],
   "source": [
    "from sklearn.metrics import classification_report, confusion_matrix\n",
    "\n",
    "print(confusion_matrix(y_test,predicciones))"
   ]
  },
  {
   "cell_type": "code",
   "execution_count": 26,
   "metadata": {},
   "outputs": [
    {
     "output_type": "stream",
     "name": "stdout",
     "text": [
      "              precision    recall  f1-score   support\n\n         bus       0.82      0.84      0.83        77\n        opel       0.48      0.37      0.42        65\n        saab       0.38      0.40      0.39        57\n         van       0.78      0.93      0.85        55\n\n    accuracy                           0.64       254\n   macro avg       0.62      0.64      0.62       254\nweighted avg       0.63      0.64      0.63       254\n\n"
     ]
    }
   ],
   "source": [
    "print(classification_report(y_test,predicciones))"
   ]
  },
  {
   "cell_type": "code",
   "execution_count": 28,
   "metadata": {},
   "outputs": [],
   "source": [
    "#Hacer un sistema más preciso\n",
    "tasa_error=[]\n",
    "for i in range(1,30):\n",
    "    knn=KNeighborsClassifier(n_neighbors=i)\n",
    "    knn.fit(X_train,y_train)\n",
    "    prediccion_i = knn.predict(X_test)\n",
    "    tasa_error.append(np.mean(prediccion_i != y_test))"
   ]
  },
  {
   "cell_type": "code",
   "execution_count": 30,
   "metadata": {},
   "outputs": [
    {
     "output_type": "execute_result",
     "data": {
      "text/plain": [
       "[0.35826771653543305,\n",
       " 0.3464566929133858,\n",
       " 0.3188976377952756,\n",
       " 0.3228346456692913,\n",
       " 0.33858267716535434,\n",
       " 0.3346456692913386,\n",
       " 0.3228346456692913,\n",
       " 0.33858267716535434,\n",
       " 0.36220472440944884,\n",
       " 0.3661417322834646,\n",
       " 0.35039370078740156,\n",
       " 0.3661417322834646,\n",
       " 0.36220472440944884,\n",
       " 0.38188976377952755,\n",
       " 0.35039370078740156,\n",
       " 0.3661417322834646,\n",
       " 0.3661417322834646,\n",
       " 0.3700787401574803,\n",
       " 0.3661417322834646,\n",
       " 0.3779527559055118,\n",
       " 0.3661417322834646,\n",
       " 0.37401574803149606,\n",
       " 0.37401574803149606,\n",
       " 0.37401574803149606,\n",
       " 0.3779527559055118,\n",
       " 0.38976377952755903,\n",
       " 0.38188976377952755,\n",
       " 0.3700787401574803,\n",
       " 0.37401574803149606]"
      ]
     },
     "metadata": {},
     "execution_count": 30
    }
   ],
   "source": [
    "tasa_error"
   ]
  },
  {
   "cell_type": "code",
   "execution_count": 32,
   "metadata": {},
   "outputs": [
    {
     "output_type": "execute_result",
     "data": {
      "text/plain": [
       "[<matplotlib.lines.Line2D at 0x158ab99c7c8>]"
      ]
     },
     "metadata": {},
     "execution_count": 32
    },
    {
     "output_type": "display_data",
     "data": {
      "text/plain": "<Figure size 432x288 with 1 Axes>",
      "image/svg+xml": "<?xml version=\"1.0\" encoding=\"utf-8\" standalone=\"no\"?>\r\n<!DOCTYPE svg PUBLIC \"-//W3C//DTD SVG 1.1//EN\"\r\n  \"http://www.w3.org/Graphics/SVG/1.1/DTD/svg11.dtd\">\r\n<!-- Created with matplotlib (https://matplotlib.org/) -->\r\n<svg height=\"248.518125pt\" version=\"1.1\" viewBox=\"0 0 380.480073 248.518125\" width=\"380.480073pt\" xmlns=\"http://www.w3.org/2000/svg\" xmlns:xlink=\"http://www.w3.org/1999/xlink\">\r\n <metadata>\r\n  <rdf:RDF xmlns:cc=\"http://creativecommons.org/ns#\" xmlns:dc=\"http://purl.org/dc/elements/1.1/\" xmlns:rdf=\"http://www.w3.org/1999/02/22-rdf-syntax-ns#\">\r\n   <cc:Work>\r\n    <dc:type rdf:resource=\"http://purl.org/dc/dcmitype/StillImage\"/>\r\n    <dc:date>2021-03-11T19:05:28.602502</dc:date>\r\n    <dc:format>image/svg+xml</dc:format>\r\n    <dc:creator>\r\n     <cc:Agent>\r\n      <dc:title>Matplotlib v3.3.3, https://matplotlib.org/</dc:title>\r\n     </cc:Agent>\r\n    </dc:creator>\r\n   </cc:Work>\r\n  </rdf:RDF>\r\n </metadata>\r\n <defs>\r\n  <style type=\"text/css\">*{stroke-linecap:butt;stroke-linejoin:round;}</style>\r\n </defs>\r\n <g id=\"figure_1\">\r\n  <g id=\"patch_1\">\r\n   <path d=\"M 0 248.518125 \r\nL 380.480073 248.518125 \r\nL 380.480073 0 \r\nL 0 0 \r\nz\r\n\" style=\"fill:none;\"/>\r\n  </g>\r\n  <g id=\"axes_1\">\r\n   <g id=\"patch_2\">\r\n    <path d=\"M 36.465625 224.64 \r\nL 371.265625 224.64 \r\nL 371.265625 7.2 \r\nL 36.465625 7.2 \r\nz\r\n\" style=\"fill:#ffffff;\"/>\r\n   </g>\r\n   <g id=\"matplotlib.axis_1\">\r\n    <g id=\"xtick_1\">\r\n     <g id=\"line2d_1\">\r\n      <defs>\r\n       <path d=\"M 0 0 \r\nL 0 3.5 \r\n\" id=\"m5f6f918a85\" style=\"stroke:#000000;stroke-width:0.8;\"/>\r\n      </defs>\r\n      <g>\r\n       <use style=\"stroke:#000000;stroke-width:0.8;\" x=\"40.813677\" xlink:href=\"#m5f6f918a85\" y=\"224.64\"/>\r\n      </g>\r\n     </g>\r\n     <g id=\"text_1\">\r\n      <!-- 0 -->\r\n      <g transform=\"translate(37.632427 239.238437)scale(0.1 -0.1)\">\r\n       <defs>\r\n        <path d=\"M 31.78125 66.40625 \r\nQ 24.171875 66.40625 20.328125 58.90625 \r\nQ 16.5 51.421875 16.5 36.375 \r\nQ 16.5 21.390625 20.328125 13.890625 \r\nQ 24.171875 6.390625 31.78125 6.390625 \r\nQ 39.453125 6.390625 43.28125 13.890625 \r\nQ 47.125 21.390625 47.125 36.375 \r\nQ 47.125 51.421875 43.28125 58.90625 \r\nQ 39.453125 66.40625 31.78125 66.40625 \r\nz\r\nM 31.78125 74.21875 \r\nQ 44.046875 74.21875 50.515625 64.515625 \r\nQ 56.984375 54.828125 56.984375 36.375 \r\nQ 56.984375 17.96875 50.515625 8.265625 \r\nQ 44.046875 -1.421875 31.78125 -1.421875 \r\nQ 19.53125 -1.421875 13.0625 8.265625 \r\nQ 6.59375 17.96875 6.59375 36.375 \r\nQ 6.59375 54.828125 13.0625 64.515625 \r\nQ 19.53125 74.21875 31.78125 74.21875 \r\nz\r\n\" id=\"DejaVuSans-48\"/>\r\n       </defs>\r\n       <use xlink:href=\"#DejaVuSans-48\"/>\r\n      </g>\r\n     </g>\r\n    </g>\r\n    <g id=\"xtick_2\">\r\n     <g id=\"line2d_2\">\r\n      <g>\r\n       <use style=\"stroke:#000000;stroke-width:0.8;\" x=\"95.164326\" xlink:href=\"#m5f6f918a85\" y=\"224.64\"/>\r\n      </g>\r\n     </g>\r\n     <g id=\"text_2\">\r\n      <!-- 5 -->\r\n      <g transform=\"translate(91.983076 239.238437)scale(0.1 -0.1)\">\r\n       <defs>\r\n        <path d=\"M 10.796875 72.90625 \r\nL 49.515625 72.90625 \r\nL 49.515625 64.59375 \r\nL 19.828125 64.59375 \r\nL 19.828125 46.734375 \r\nQ 21.96875 47.46875 24.109375 47.828125 \r\nQ 26.265625 48.1875 28.421875 48.1875 \r\nQ 40.625 48.1875 47.75 41.5 \r\nQ 54.890625 34.8125 54.890625 23.390625 \r\nQ 54.890625 11.625 47.5625 5.09375 \r\nQ 40.234375 -1.421875 26.90625 -1.421875 \r\nQ 22.3125 -1.421875 17.546875 -0.640625 \r\nQ 12.796875 0.140625 7.71875 1.703125 \r\nL 7.71875 11.625 \r\nQ 12.109375 9.234375 16.796875 8.0625 \r\nQ 21.484375 6.890625 26.703125 6.890625 \r\nQ 35.15625 6.890625 40.078125 11.328125 \r\nQ 45.015625 15.765625 45.015625 23.390625 \r\nQ 45.015625 31 40.078125 35.4375 \r\nQ 35.15625 39.890625 26.703125 39.890625 \r\nQ 22.75 39.890625 18.8125 39.015625 \r\nQ 14.890625 38.140625 10.796875 36.28125 \r\nz\r\n\" id=\"DejaVuSans-53\"/>\r\n       </defs>\r\n       <use xlink:href=\"#DejaVuSans-53\"/>\r\n      </g>\r\n     </g>\r\n    </g>\r\n    <g id=\"xtick_3\">\r\n     <g id=\"line2d_3\">\r\n      <g>\r\n       <use style=\"stroke:#000000;stroke-width:0.8;\" x=\"149.514976\" xlink:href=\"#m5f6f918a85\" y=\"224.64\"/>\r\n      </g>\r\n     </g>\r\n     <g id=\"text_3\">\r\n      <!-- 10 -->\r\n      <g transform=\"translate(143.152476 239.238437)scale(0.1 -0.1)\">\r\n       <defs>\r\n        <path d=\"M 12.40625 8.296875 \r\nL 28.515625 8.296875 \r\nL 28.515625 63.921875 \r\nL 10.984375 60.40625 \r\nL 10.984375 69.390625 \r\nL 28.421875 72.90625 \r\nL 38.28125 72.90625 \r\nL 38.28125 8.296875 \r\nL 54.390625 8.296875 \r\nL 54.390625 0 \r\nL 12.40625 0 \r\nz\r\n\" id=\"DejaVuSans-49\"/>\r\n       </defs>\r\n       <use xlink:href=\"#DejaVuSans-49\"/>\r\n       <use x=\"63.623047\" xlink:href=\"#DejaVuSans-48\"/>\r\n      </g>\r\n     </g>\r\n    </g>\r\n    <g id=\"xtick_4\">\r\n     <g id=\"line2d_4\">\r\n      <g>\r\n       <use style=\"stroke:#000000;stroke-width:0.8;\" x=\"203.865625\" xlink:href=\"#m5f6f918a85\" y=\"224.64\"/>\r\n      </g>\r\n     </g>\r\n     <g id=\"text_4\">\r\n      <!-- 15 -->\r\n      <g transform=\"translate(197.503125 239.238437)scale(0.1 -0.1)\">\r\n       <use xlink:href=\"#DejaVuSans-49\"/>\r\n       <use x=\"63.623047\" xlink:href=\"#DejaVuSans-53\"/>\r\n      </g>\r\n     </g>\r\n    </g>\r\n    <g id=\"xtick_5\">\r\n     <g id=\"line2d_5\">\r\n      <g>\r\n       <use style=\"stroke:#000000;stroke-width:0.8;\" x=\"258.216274\" xlink:href=\"#m5f6f918a85\" y=\"224.64\"/>\r\n      </g>\r\n     </g>\r\n     <g id=\"text_5\">\r\n      <!-- 20 -->\r\n      <g transform=\"translate(251.853774 239.238437)scale(0.1 -0.1)\">\r\n       <defs>\r\n        <path d=\"M 19.1875 8.296875 \r\nL 53.609375 8.296875 \r\nL 53.609375 0 \r\nL 7.328125 0 \r\nL 7.328125 8.296875 \r\nQ 12.9375 14.109375 22.625 23.890625 \r\nQ 32.328125 33.6875 34.8125 36.53125 \r\nQ 39.546875 41.84375 41.421875 45.53125 \r\nQ 43.3125 49.21875 43.3125 52.78125 \r\nQ 43.3125 58.59375 39.234375 62.25 \r\nQ 35.15625 65.921875 28.609375 65.921875 \r\nQ 23.96875 65.921875 18.8125 64.3125 \r\nQ 13.671875 62.703125 7.8125 59.421875 \r\nL 7.8125 69.390625 \r\nQ 13.765625 71.78125 18.9375 73 \r\nQ 24.125 74.21875 28.421875 74.21875 \r\nQ 39.75 74.21875 46.484375 68.546875 \r\nQ 53.21875 62.890625 53.21875 53.421875 \r\nQ 53.21875 48.921875 51.53125 44.890625 \r\nQ 49.859375 40.875 45.40625 35.40625 \r\nQ 44.1875 33.984375 37.640625 27.21875 \r\nQ 31.109375 20.453125 19.1875 8.296875 \r\nz\r\n\" id=\"DejaVuSans-50\"/>\r\n       </defs>\r\n       <use xlink:href=\"#DejaVuSans-50\"/>\r\n       <use x=\"63.623047\" xlink:href=\"#DejaVuSans-48\"/>\r\n      </g>\r\n     </g>\r\n    </g>\r\n    <g id=\"xtick_6\">\r\n     <g id=\"line2d_6\">\r\n      <g>\r\n       <use style=\"stroke:#000000;stroke-width:0.8;\" x=\"312.566924\" xlink:href=\"#m5f6f918a85\" y=\"224.64\"/>\r\n      </g>\r\n     </g>\r\n     <g id=\"text_6\">\r\n      <!-- 25 -->\r\n      <g transform=\"translate(306.204424 239.238437)scale(0.1 -0.1)\">\r\n       <use xlink:href=\"#DejaVuSans-50\"/>\r\n       <use x=\"63.623047\" xlink:href=\"#DejaVuSans-53\"/>\r\n      </g>\r\n     </g>\r\n    </g>\r\n    <g id=\"xtick_7\">\r\n     <g id=\"line2d_7\">\r\n      <g>\r\n       <use style=\"stroke:#000000;stroke-width:0.8;\" x=\"366.917573\" xlink:href=\"#m5f6f918a85\" y=\"224.64\"/>\r\n      </g>\r\n     </g>\r\n     <g id=\"text_7\">\r\n      <!-- 30 -->\r\n      <g transform=\"translate(360.555073 239.238437)scale(0.1 -0.1)\">\r\n       <defs>\r\n        <path d=\"M 40.578125 39.3125 \r\nQ 47.65625 37.796875 51.625 33 \r\nQ 55.609375 28.21875 55.609375 21.1875 \r\nQ 55.609375 10.40625 48.1875 4.484375 \r\nQ 40.765625 -1.421875 27.09375 -1.421875 \r\nQ 22.515625 -1.421875 17.65625 -0.515625 \r\nQ 12.796875 0.390625 7.625 2.203125 \r\nL 7.625 11.71875 \r\nQ 11.71875 9.328125 16.59375 8.109375 \r\nQ 21.484375 6.890625 26.8125 6.890625 \r\nQ 36.078125 6.890625 40.9375 10.546875 \r\nQ 45.796875 14.203125 45.796875 21.1875 \r\nQ 45.796875 27.640625 41.28125 31.265625 \r\nQ 36.765625 34.90625 28.71875 34.90625 \r\nL 20.21875 34.90625 \r\nL 20.21875 43.015625 \r\nL 29.109375 43.015625 \r\nQ 36.375 43.015625 40.234375 45.921875 \r\nQ 44.09375 48.828125 44.09375 54.296875 \r\nQ 44.09375 59.90625 40.109375 62.90625 \r\nQ 36.140625 65.921875 28.71875 65.921875 \r\nQ 24.65625 65.921875 20.015625 65.03125 \r\nQ 15.375 64.15625 9.8125 62.3125 \r\nL 9.8125 71.09375 \r\nQ 15.4375 72.65625 20.34375 73.4375 \r\nQ 25.25 74.21875 29.59375 74.21875 \r\nQ 40.828125 74.21875 47.359375 69.109375 \r\nQ 53.90625 64.015625 53.90625 55.328125 \r\nQ 53.90625 49.265625 50.4375 45.09375 \r\nQ 46.96875 40.921875 40.578125 39.3125 \r\nz\r\n\" id=\"DejaVuSans-51\"/>\r\n       </defs>\r\n       <use xlink:href=\"#DejaVuSans-51\"/>\r\n       <use x=\"63.623047\" xlink:href=\"#DejaVuSans-48\"/>\r\n      </g>\r\n     </g>\r\n    </g>\r\n   </g>\r\n   <g id=\"matplotlib.axis_2\">\r\n    <g id=\"ytick_1\">\r\n     <g id=\"line2d_8\">\r\n      <defs>\r\n       <path d=\"M 0 0 \r\nL -3.5 0 \r\n\" id=\"m48431e5a18\" style=\"stroke:#000000;stroke-width:0.8;\"/>\r\n      </defs>\r\n      <g>\r\n       <use style=\"stroke:#000000;stroke-width:0.8;\" x=\"36.465625\" xlink:href=\"#m48431e5a18\" y=\"211.681455\"/>\r\n      </g>\r\n     </g>\r\n     <g id=\"text_8\">\r\n      <!-- 0.32 -->\r\n      <g transform=\"translate(7.2 215.480673)scale(0.1 -0.1)\">\r\n       <defs>\r\n        <path d=\"M 10.6875 12.40625 \r\nL 21 12.40625 \r\nL 21 0 \r\nL 10.6875 0 \r\nz\r\n\" id=\"DejaVuSans-46\"/>\r\n       </defs>\r\n       <use xlink:href=\"#DejaVuSans-48\"/>\r\n       <use x=\"63.623047\" xlink:href=\"#DejaVuSans-46\"/>\r\n       <use x=\"95.410156\" xlink:href=\"#DejaVuSans-51\"/>\r\n       <use x=\"159.033203\" xlink:href=\"#DejaVuSans-50\"/>\r\n      </g>\r\n     </g>\r\n    </g>\r\n    <g id=\"ytick_2\">\r\n     <g id=\"line2d_9\">\r\n      <g>\r\n       <use style=\"stroke:#000000;stroke-width:0.8;\" x=\"36.465625\" xlink:href=\"#m48431e5a18\" y=\"183.787636\"/>\r\n      </g>\r\n     </g>\r\n     <g id=\"text_9\">\r\n      <!-- 0.33 -->\r\n      <g transform=\"translate(7.2 187.586855)scale(0.1 -0.1)\">\r\n       <use xlink:href=\"#DejaVuSans-48\"/>\r\n       <use x=\"63.623047\" xlink:href=\"#DejaVuSans-46\"/>\r\n       <use x=\"95.410156\" xlink:href=\"#DejaVuSans-51\"/>\r\n       <use x=\"159.033203\" xlink:href=\"#DejaVuSans-51\"/>\r\n      </g>\r\n     </g>\r\n    </g>\r\n    <g id=\"ytick_3\">\r\n     <g id=\"line2d_10\">\r\n      <g>\r\n       <use style=\"stroke:#000000;stroke-width:0.8;\" x=\"36.465625\" xlink:href=\"#m48431e5a18\" y=\"155.893818\"/>\r\n      </g>\r\n     </g>\r\n     <g id=\"text_10\">\r\n      <!-- 0.34 -->\r\n      <g transform=\"translate(7.2 159.693037)scale(0.1 -0.1)\">\r\n       <defs>\r\n        <path d=\"M 37.796875 64.3125 \r\nL 12.890625 25.390625 \r\nL 37.796875 25.390625 \r\nz\r\nM 35.203125 72.90625 \r\nL 47.609375 72.90625 \r\nL 47.609375 25.390625 \r\nL 58.015625 25.390625 \r\nL 58.015625 17.1875 \r\nL 47.609375 17.1875 \r\nL 47.609375 0 \r\nL 37.796875 0 \r\nL 37.796875 17.1875 \r\nL 4.890625 17.1875 \r\nL 4.890625 26.703125 \r\nz\r\n\" id=\"DejaVuSans-52\"/>\r\n       </defs>\r\n       <use xlink:href=\"#DejaVuSans-48\"/>\r\n       <use x=\"63.623047\" xlink:href=\"#DejaVuSans-46\"/>\r\n       <use x=\"95.410156\" xlink:href=\"#DejaVuSans-51\"/>\r\n       <use x=\"159.033203\" xlink:href=\"#DejaVuSans-52\"/>\r\n      </g>\r\n     </g>\r\n    </g>\r\n    <g id=\"ytick_4\">\r\n     <g id=\"line2d_11\">\r\n      <g>\r\n       <use style=\"stroke:#000000;stroke-width:0.8;\" x=\"36.465625\" xlink:href=\"#m48431e5a18\" y=\"128\"/>\r\n      </g>\r\n     </g>\r\n     <g id=\"text_11\">\r\n      <!-- 0.35 -->\r\n      <g transform=\"translate(7.2 131.799219)scale(0.1 -0.1)\">\r\n       <use xlink:href=\"#DejaVuSans-48\"/>\r\n       <use x=\"63.623047\" xlink:href=\"#DejaVuSans-46\"/>\r\n       <use x=\"95.410156\" xlink:href=\"#DejaVuSans-51\"/>\r\n       <use x=\"159.033203\" xlink:href=\"#DejaVuSans-53\"/>\r\n      </g>\r\n     </g>\r\n    </g>\r\n    <g id=\"ytick_5\">\r\n     <g id=\"line2d_12\">\r\n      <g>\r\n       <use style=\"stroke:#000000;stroke-width:0.8;\" x=\"36.465625\" xlink:href=\"#m48431e5a18\" y=\"100.106182\"/>\r\n      </g>\r\n     </g>\r\n     <g id=\"text_12\">\r\n      <!-- 0.36 -->\r\n      <g transform=\"translate(7.2 103.905401)scale(0.1 -0.1)\">\r\n       <defs>\r\n        <path d=\"M 33.015625 40.375 \r\nQ 26.375 40.375 22.484375 35.828125 \r\nQ 18.609375 31.296875 18.609375 23.390625 \r\nQ 18.609375 15.53125 22.484375 10.953125 \r\nQ 26.375 6.390625 33.015625 6.390625 \r\nQ 39.65625 6.390625 43.53125 10.953125 \r\nQ 47.40625 15.53125 47.40625 23.390625 \r\nQ 47.40625 31.296875 43.53125 35.828125 \r\nQ 39.65625 40.375 33.015625 40.375 \r\nz\r\nM 52.59375 71.296875 \r\nL 52.59375 62.3125 \r\nQ 48.875 64.0625 45.09375 64.984375 \r\nQ 41.3125 65.921875 37.59375 65.921875 \r\nQ 27.828125 65.921875 22.671875 59.328125 \r\nQ 17.53125 52.734375 16.796875 39.40625 \r\nQ 19.671875 43.65625 24.015625 45.921875 \r\nQ 28.375 48.1875 33.59375 48.1875 \r\nQ 44.578125 48.1875 50.953125 41.515625 \r\nQ 57.328125 34.859375 57.328125 23.390625 \r\nQ 57.328125 12.15625 50.6875 5.359375 \r\nQ 44.046875 -1.421875 33.015625 -1.421875 \r\nQ 20.359375 -1.421875 13.671875 8.265625 \r\nQ 6.984375 17.96875 6.984375 36.375 \r\nQ 6.984375 53.65625 15.1875 63.9375 \r\nQ 23.390625 74.21875 37.203125 74.21875 \r\nQ 40.921875 74.21875 44.703125 73.484375 \r\nQ 48.484375 72.75 52.59375 71.296875 \r\nz\r\n\" id=\"DejaVuSans-54\"/>\r\n       </defs>\r\n       <use xlink:href=\"#DejaVuSans-48\"/>\r\n       <use x=\"63.623047\" xlink:href=\"#DejaVuSans-46\"/>\r\n       <use x=\"95.410156\" xlink:href=\"#DejaVuSans-51\"/>\r\n       <use x=\"159.033203\" xlink:href=\"#DejaVuSans-54\"/>\r\n      </g>\r\n     </g>\r\n    </g>\r\n    <g id=\"ytick_6\">\r\n     <g id=\"line2d_13\">\r\n      <g>\r\n       <use style=\"stroke:#000000;stroke-width:0.8;\" x=\"36.465625\" xlink:href=\"#m48431e5a18\" y=\"72.212364\"/>\r\n      </g>\r\n     </g>\r\n     <g id=\"text_13\">\r\n      <!-- 0.37 -->\r\n      <g transform=\"translate(7.2 76.011582)scale(0.1 -0.1)\">\r\n       <defs>\r\n        <path d=\"M 8.203125 72.90625 \r\nL 55.078125 72.90625 \r\nL 55.078125 68.703125 \r\nL 28.609375 0 \r\nL 18.3125 0 \r\nL 43.21875 64.59375 \r\nL 8.203125 64.59375 \r\nz\r\n\" id=\"DejaVuSans-55\"/>\r\n       </defs>\r\n       <use xlink:href=\"#DejaVuSans-48\"/>\r\n       <use x=\"63.623047\" xlink:href=\"#DejaVuSans-46\"/>\r\n       <use x=\"95.410156\" xlink:href=\"#DejaVuSans-51\"/>\r\n       <use x=\"159.033203\" xlink:href=\"#DejaVuSans-55\"/>\r\n      </g>\r\n     </g>\r\n    </g>\r\n    <g id=\"ytick_7\">\r\n     <g id=\"line2d_14\">\r\n      <g>\r\n       <use style=\"stroke:#000000;stroke-width:0.8;\" x=\"36.465625\" xlink:href=\"#m48431e5a18\" y=\"44.318545\"/>\r\n      </g>\r\n     </g>\r\n     <g id=\"text_14\">\r\n      <!-- 0.38 -->\r\n      <g transform=\"translate(7.2 48.117764)scale(0.1 -0.1)\">\r\n       <defs>\r\n        <path d=\"M 31.78125 34.625 \r\nQ 24.75 34.625 20.71875 30.859375 \r\nQ 16.703125 27.09375 16.703125 20.515625 \r\nQ 16.703125 13.921875 20.71875 10.15625 \r\nQ 24.75 6.390625 31.78125 6.390625 \r\nQ 38.8125 6.390625 42.859375 10.171875 \r\nQ 46.921875 13.96875 46.921875 20.515625 \r\nQ 46.921875 27.09375 42.890625 30.859375 \r\nQ 38.875 34.625 31.78125 34.625 \r\nz\r\nM 21.921875 38.8125 \r\nQ 15.578125 40.375 12.03125 44.71875 \r\nQ 8.5 49.078125 8.5 55.328125 \r\nQ 8.5 64.0625 14.71875 69.140625 \r\nQ 20.953125 74.21875 31.78125 74.21875 \r\nQ 42.671875 74.21875 48.875 69.140625 \r\nQ 55.078125 64.0625 55.078125 55.328125 \r\nQ 55.078125 49.078125 51.53125 44.71875 \r\nQ 48 40.375 41.703125 38.8125 \r\nQ 48.828125 37.15625 52.796875 32.3125 \r\nQ 56.78125 27.484375 56.78125 20.515625 \r\nQ 56.78125 9.90625 50.3125 4.234375 \r\nQ 43.84375 -1.421875 31.78125 -1.421875 \r\nQ 19.734375 -1.421875 13.25 4.234375 \r\nQ 6.78125 9.90625 6.78125 20.515625 \r\nQ 6.78125 27.484375 10.78125 32.3125 \r\nQ 14.796875 37.15625 21.921875 38.8125 \r\nz\r\nM 18.3125 54.390625 \r\nQ 18.3125 48.734375 21.84375 45.5625 \r\nQ 25.390625 42.390625 31.78125 42.390625 \r\nQ 38.140625 42.390625 41.71875 45.5625 \r\nQ 45.3125 48.734375 45.3125 54.390625 \r\nQ 45.3125 60.0625 41.71875 63.234375 \r\nQ 38.140625 66.40625 31.78125 66.40625 \r\nQ 25.390625 66.40625 21.84375 63.234375 \r\nQ 18.3125 60.0625 18.3125 54.390625 \r\nz\r\n\" id=\"DejaVuSans-56\"/>\r\n       </defs>\r\n       <use xlink:href=\"#DejaVuSans-48\"/>\r\n       <use x=\"63.623047\" xlink:href=\"#DejaVuSans-46\"/>\r\n       <use x=\"95.410156\" xlink:href=\"#DejaVuSans-51\"/>\r\n       <use x=\"159.033203\" xlink:href=\"#DejaVuSans-56\"/>\r\n      </g>\r\n     </g>\r\n    </g>\r\n    <g id=\"ytick_8\">\r\n     <g id=\"line2d_15\">\r\n      <g>\r\n       <use style=\"stroke:#000000;stroke-width:0.8;\" x=\"36.465625\" xlink:href=\"#m48431e5a18\" y=\"16.424727\"/>\r\n      </g>\r\n     </g>\r\n     <g id=\"text_15\">\r\n      <!-- 0.39 -->\r\n      <g transform=\"translate(7.2 20.223946)scale(0.1 -0.1)\">\r\n       <defs>\r\n        <path d=\"M 10.984375 1.515625 \r\nL 10.984375 10.5 \r\nQ 14.703125 8.734375 18.5 7.8125 \r\nQ 22.3125 6.890625 25.984375 6.890625 \r\nQ 35.75 6.890625 40.890625 13.453125 \r\nQ 46.046875 20.015625 46.78125 33.40625 \r\nQ 43.953125 29.203125 39.59375 26.953125 \r\nQ 35.25 24.703125 29.984375 24.703125 \r\nQ 19.046875 24.703125 12.671875 31.3125 \r\nQ 6.296875 37.9375 6.296875 49.421875 \r\nQ 6.296875 60.640625 12.9375 67.421875 \r\nQ 19.578125 74.21875 30.609375 74.21875 \r\nQ 43.265625 74.21875 49.921875 64.515625 \r\nQ 56.59375 54.828125 56.59375 36.375 \r\nQ 56.59375 19.140625 48.40625 8.859375 \r\nQ 40.234375 -1.421875 26.421875 -1.421875 \r\nQ 22.703125 -1.421875 18.890625 -0.6875 \r\nQ 15.09375 0.046875 10.984375 1.515625 \r\nz\r\nM 30.609375 32.421875 \r\nQ 37.25 32.421875 41.125 36.953125 \r\nQ 45.015625 41.5 45.015625 49.421875 \r\nQ 45.015625 57.28125 41.125 61.84375 \r\nQ 37.25 66.40625 30.609375 66.40625 \r\nQ 23.96875 66.40625 20.09375 61.84375 \r\nQ 16.21875 57.28125 16.21875 49.421875 \r\nQ 16.21875 41.5 20.09375 36.953125 \r\nQ 23.96875 32.421875 30.609375 32.421875 \r\nz\r\n\" id=\"DejaVuSans-57\"/>\r\n       </defs>\r\n       <use xlink:href=\"#DejaVuSans-48\"/>\r\n       <use x=\"63.623047\" xlink:href=\"#DejaVuSans-46\"/>\r\n       <use x=\"95.410156\" xlink:href=\"#DejaVuSans-51\"/>\r\n       <use x=\"159.033203\" xlink:href=\"#DejaVuSans-57\"/>\r\n      </g>\r\n     </g>\r\n    </g>\r\n   </g>\r\n   <g id=\"line2d_16\">\r\n    <path clip-path=\"url(#p599ef27b76)\" d=\"M 51.683807 104.938182 \r\nL 62.553937 137.883636 \r\nL 73.424067 214.756364 \r\nL 84.294196 203.774545 \r\nL 95.164326 159.847273 \r\nL 106.034456 170.829091 \r\nL 116.904586 203.774545 \r\nL 127.774716 159.847273 \r\nL 138.644846 93.956364 \r\nL 149.514976 82.974545 \r\nL 160.385106 126.901818 \r\nL 171.255235 82.974545 \r\nL 182.125365 93.956364 \r\nL 192.995495 39.047273 \r\nL 203.865625 126.901818 \r\nL 214.735755 82.974545 \r\nL 225.605885 82.974545 \r\nL 236.476015 71.992727 \r\nL 247.346144 82.974545 \r\nL 258.216274 50.029091 \r\nL 269.086404 82.974545 \r\nL 279.956534 61.010909 \r\nL 290.826664 61.010909 \r\nL 301.696794 61.010909 \r\nL 312.566924 50.029091 \r\nL 323.437054 17.083636 \r\nL 334.307183 39.047273 \r\nL 345.177313 71.992727 \r\nL 356.047443 61.010909 \r\n\" style=\"fill:none;stroke:#008000;stroke-linecap:square;stroke-width:1.5;\"/>\r\n    <defs>\r\n     <path d=\"M 0 4 \r\nC 1.060812 4 2.078319 3.578535 2.828427 2.828427 \r\nC 3.578535 2.078319 4 1.060812 4 0 \r\nC 4 -1.060812 3.578535 -2.078319 2.828427 -2.828427 \r\nC 2.078319 -3.578535 1.060812 -4 0 -4 \r\nC -1.060812 -4 -2.078319 -3.578535 -2.828427 -2.828427 \r\nC -3.578535 -2.078319 -4 -1.060812 -4 0 \r\nC -4 1.060812 -3.578535 2.078319 -2.828427 2.828427 \r\nC -2.078319 3.578535 -1.060812 4 0 4 \r\nz\r\n\" id=\"mbf56c35ad3\" style=\"stroke:#008000;\"/>\r\n    </defs>\r\n    <g clip-path=\"url(#p599ef27b76)\">\r\n     <use style=\"fill:#ff0000;stroke:#008000;\" x=\"51.683807\" xlink:href=\"#mbf56c35ad3\" y=\"104.938182\"/>\r\n     <use style=\"fill:#ff0000;stroke:#008000;\" x=\"62.553937\" xlink:href=\"#mbf56c35ad3\" y=\"137.883636\"/>\r\n     <use style=\"fill:#ff0000;stroke:#008000;\" x=\"73.424067\" xlink:href=\"#mbf56c35ad3\" y=\"214.756364\"/>\r\n     <use style=\"fill:#ff0000;stroke:#008000;\" x=\"84.294196\" xlink:href=\"#mbf56c35ad3\" y=\"203.774545\"/>\r\n     <use style=\"fill:#ff0000;stroke:#008000;\" x=\"95.164326\" xlink:href=\"#mbf56c35ad3\" y=\"159.847273\"/>\r\n     <use style=\"fill:#ff0000;stroke:#008000;\" x=\"106.034456\" xlink:href=\"#mbf56c35ad3\" y=\"170.829091\"/>\r\n     <use style=\"fill:#ff0000;stroke:#008000;\" x=\"116.904586\" xlink:href=\"#mbf56c35ad3\" y=\"203.774545\"/>\r\n     <use style=\"fill:#ff0000;stroke:#008000;\" x=\"127.774716\" xlink:href=\"#mbf56c35ad3\" y=\"159.847273\"/>\r\n     <use style=\"fill:#ff0000;stroke:#008000;\" x=\"138.644846\" xlink:href=\"#mbf56c35ad3\" y=\"93.956364\"/>\r\n     <use style=\"fill:#ff0000;stroke:#008000;\" x=\"149.514976\" xlink:href=\"#mbf56c35ad3\" y=\"82.974545\"/>\r\n     <use style=\"fill:#ff0000;stroke:#008000;\" x=\"160.385106\" xlink:href=\"#mbf56c35ad3\" y=\"126.901818\"/>\r\n     <use style=\"fill:#ff0000;stroke:#008000;\" x=\"171.255235\" xlink:href=\"#mbf56c35ad3\" y=\"82.974545\"/>\r\n     <use style=\"fill:#ff0000;stroke:#008000;\" x=\"182.125365\" xlink:href=\"#mbf56c35ad3\" y=\"93.956364\"/>\r\n     <use style=\"fill:#ff0000;stroke:#008000;\" x=\"192.995495\" xlink:href=\"#mbf56c35ad3\" y=\"39.047273\"/>\r\n     <use style=\"fill:#ff0000;stroke:#008000;\" x=\"203.865625\" xlink:href=\"#mbf56c35ad3\" y=\"126.901818\"/>\r\n     <use style=\"fill:#ff0000;stroke:#008000;\" x=\"214.735755\" xlink:href=\"#mbf56c35ad3\" y=\"82.974545\"/>\r\n     <use style=\"fill:#ff0000;stroke:#008000;\" x=\"225.605885\" xlink:href=\"#mbf56c35ad3\" y=\"82.974545\"/>\r\n     <use style=\"fill:#ff0000;stroke:#008000;\" x=\"236.476015\" xlink:href=\"#mbf56c35ad3\" y=\"71.992727\"/>\r\n     <use style=\"fill:#ff0000;stroke:#008000;\" x=\"247.346144\" xlink:href=\"#mbf56c35ad3\" y=\"82.974545\"/>\r\n     <use style=\"fill:#ff0000;stroke:#008000;\" x=\"258.216274\" xlink:href=\"#mbf56c35ad3\" y=\"50.029091\"/>\r\n     <use style=\"fill:#ff0000;stroke:#008000;\" x=\"269.086404\" xlink:href=\"#mbf56c35ad3\" y=\"82.974545\"/>\r\n     <use style=\"fill:#ff0000;stroke:#008000;\" x=\"279.956534\" xlink:href=\"#mbf56c35ad3\" y=\"61.010909\"/>\r\n     <use style=\"fill:#ff0000;stroke:#008000;\" x=\"290.826664\" xlink:href=\"#mbf56c35ad3\" y=\"61.010909\"/>\r\n     <use style=\"fill:#ff0000;stroke:#008000;\" x=\"301.696794\" xlink:href=\"#mbf56c35ad3\" y=\"61.010909\"/>\r\n     <use style=\"fill:#ff0000;stroke:#008000;\" x=\"312.566924\" xlink:href=\"#mbf56c35ad3\" y=\"50.029091\"/>\r\n     <use style=\"fill:#ff0000;stroke:#008000;\" x=\"323.437054\" xlink:href=\"#mbf56c35ad3\" y=\"17.083636\"/>\r\n     <use style=\"fill:#ff0000;stroke:#008000;\" x=\"334.307183\" xlink:href=\"#mbf56c35ad3\" y=\"39.047273\"/>\r\n     <use style=\"fill:#ff0000;stroke:#008000;\" x=\"345.177313\" xlink:href=\"#mbf56c35ad3\" y=\"71.992727\"/>\r\n     <use style=\"fill:#ff0000;stroke:#008000;\" x=\"356.047443\" xlink:href=\"#mbf56c35ad3\" y=\"61.010909\"/>\r\n    </g>\r\n   </g>\r\n   <g id=\"patch_3\">\r\n    <path d=\"M 36.465625 224.64 \r\nL 36.465625 7.2 \r\n\" style=\"fill:none;stroke:#000000;stroke-linecap:square;stroke-linejoin:miter;stroke-width:0.8;\"/>\r\n   </g>\r\n   <g id=\"patch_4\">\r\n    <path d=\"M 371.265625 224.64 \r\nL 371.265625 7.2 \r\n\" style=\"fill:none;stroke:#000000;stroke-linecap:square;stroke-linejoin:miter;stroke-width:0.8;\"/>\r\n   </g>\r\n   <g id=\"patch_5\">\r\n    <path d=\"M 36.465625 224.64 \r\nL 371.265625 224.64 \r\n\" style=\"fill:none;stroke:#000000;stroke-linecap:square;stroke-linejoin:miter;stroke-width:0.8;\"/>\r\n   </g>\r\n   <g id=\"patch_6\">\r\n    <path d=\"M 36.465625 7.2 \r\nL 371.265625 7.2 \r\n\" style=\"fill:none;stroke:#000000;stroke-linecap:square;stroke-linejoin:miter;stroke-width:0.8;\"/>\r\n   </g>\r\n  </g>\r\n </g>\r\n <defs>\r\n  <clipPath id=\"p599ef27b76\">\r\n   <rect height=\"217.44\" width=\"334.8\" x=\"36.465625\" y=\"7.2\"/>\r\n  </clipPath>\r\n </defs>\r\n</svg>\r\n",
      "image/png": "[encoded data removed]"
     },
     "metadata": {
      "needs_background": "light"
     }
    }
   ],
   "source": [
    "valores = range(1,30)\n",
    "plt.plot(valores,tasa_error,color='green',marker='o',markerfacecolor='red',markersize=8)"
   ]
  },
  {
   "cell_type": "code",
   "execution_count": 34,
   "metadata": {},
   "outputs": [],
   "source": [
    "i = 3\n",
    "knn=KNeighborsClassifier(n_neighbors=i)\n",
    "knn.fit(X_train,y_train)\n",
    "prediccion = knn.predict(X_test)"
   ]
  },
  {
   "cell_type": "code",
   "execution_count": 36,
   "metadata": {},
   "outputs": [
    {
     "output_type": "stream",
     "name": "stdout",
     "text": [
      "              precision    recall  f1-score   support\n\n         bus       0.82      0.84      0.83        77\n        opel       0.48      0.37      0.42        65\n        saab       0.38      0.40      0.39        57\n         van       0.78      0.93      0.85        55\n\n    accuracy                           0.64       254\n   macro avg       0.62      0.64      0.62       254\nweighted avg       0.63      0.64      0.63       254\n\n"
     ]
    }
   ],
   "source": [
    "print(classification_report(y_test,predicciones))"
   ]
  },
  {
   "cell_type": "code",
   "execution_count": null,
   "metadata": {},
   "outputs": [],
   "source": []
  }
 ],
 "metadata": {
  "kernelspec": {
   "display_name": "Python 3",
   "language": "python",
   "name": "python3"
  },
  "language_info": {
   "codemirror_mode": {
    "name": "ipython",
    "version": 3
   },
   "file_extension": ".py",
   "mimetype": "text/x-python",
   "name": "python",
   "nbconvert_exporter": "python",
   "pygments_lexer": "ipython3",
   "version": "3.7.6-final"
  }
 },
 "nbformat": 4,
 "nbformat_minor": 2
}