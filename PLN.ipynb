{
 "metadata": {
  "language_info": {
   "codemirror_mode": {
    "name": "ipython",
    "version": 3
   },
   "file_extension": ".py",
   "mimetype": "text/x-python",
   "name": "python",
   "nbconvert_exporter": "python",
   "pygments_lexer": "ipython3",
   "version": "3.7.6-final"
  },
  "orig_nbformat": 2,
  "kernelspec": {
   "name": "python3",
   "display_name": "Python 3.7.6 64-bit (conda)",
   "metadata": {
    "interpreter": {
     "hash": "236800c5432e986302cd57e89d5239905bd501e641008110284ab7f0deba095c"
    }
   }
  }
 },
 "nbformat": 4,
 "nbformat_minor": 2,
 "cells": [
  {
   "source": [
    "# Procesamiento del lenguaje natural"
   ],
   "cell_type": "markdown",
   "metadata": {}
  },
  {
   "source": [
    "El PLN es el campo que estudia las interacciones entre las computadores y el lenguaje humano"
   ],
   "cell_type": "markdown",
   "metadata": {}
  },
  {
   "source": [
    "# Ejemplo de detección de spam"
   ],
   "cell_type": "markdown",
   "metadata": {}
  },
  {
   "cell_type": "code",
   "execution_count": 1,
   "metadata": {},
   "outputs": [],
   "source": [
    "import nltk\n",
    "import pandas as pd "
   ]
  },
  {
   "cell_type": "code",
   "execution_count": 2,
   "metadata": {},
   "outputs": [
    {
     "output_type": "stream",
     "name": "stdout",
     "text": [
      "e:\\Sergio\\Documentos\\Programacion\\Python\\Udemy Machine Free\\data_sets\n"
     ]
    }
   ],
   "source": [
    "cd data_sets"
   ]
  },
  {
   "cell_type": "code",
   "execution_count": 3,
   "metadata": {},
   "outputs": [
    {
     "output_type": "stream",
     "name": "stdout",
     "text": [
      " El volumen de la unidad E es Principal\n El n�mero de serie del volumen es: 580F-2192\n\n Directorio de e:\\Sergio\\Documentos\\Programacion\\Python\\Udemy Machine Free\\data_sets\n\n11/03/2021  11:43 p. m.    <DIR>          .\n11/03/2021  11:43 p. m.    <DIR>          ..\n11/03/2021  08:33 p. m.            18,708 1615456567315.jfif\n11/03/2021  08:32 p. m.             9,418 1615456567406.jfif\n11/03/2021  08:32 p. m.            37,652 1615456567695.jfif\n08/12/2020  03:56 p. m.           371,432 archive.zip\n11/12/2019  02:17 a. m.             3,258 gender_submission.csv\n11/03/2021  11:43 p. m.    <DIR>          smsspamcollection\n11/03/2021  11:37 p. m.           203,415 smsspamcollection.zip\n11/12/2019  02:17 a. m.            28,629 test.csv\n08/12/2020  04:45 p. m.            34,877 titanic.zip\n11/12/2019  02:17 a. m.            61,194 train.csv\n25/09/2019  08:26 a. m.           726,209 USA_Housing.csv\n21/01/2021  02:12 p. m.            86,768 vehiculos.csv\n11/03/2021  07:09 p. m.            12,895 vino.csv\n              12 archivos      1,594,455 bytes\n               3 dirs  719,888,785,408 bytes libres\n"
     ]
    }
   ],
   "source": [
    "ls"
   ]
  },
  {
   "cell_type": "code",
   "execution_count": 4,
   "metadata": {},
   "outputs": [],
   "source": [
    "mensajes = [line.rstrip() for line in open(\"smsspamcollection/SMSSpamCollection\")]"
   ]
  },
  {
   "source": [
    "mensajes[0]"
   ],
   "cell_type": "code",
   "metadata": {},
   "execution_count": 5,
   "outputs": [
    {
     "output_type": "execute_result",
     "data": {
      "text/plain": [
       "'ham\\tGo until jurong point, crazy.. Available only in bugis n great world la e buffet... Cine there got amore wat...'"
      ]
     },
     "metadata": {},
     "execution_count": 5
    }
   ]
  },
  {
   "cell_type": "code",
   "execution_count": 6,
   "metadata": {},
   "outputs": [
    {
     "output_type": "stream",
     "name": "stdout",
     "text": [
      "5574\n"
     ]
    }
   ],
   "source": [
    "print(len(mensajes))"
   ]
  },
  {
   "cell_type": "code",
   "execution_count": 7,
   "metadata": {},
   "outputs": [
    {
     "output_type": "stream",
     "name": "stdout",
     "text": [
      "(0, 'ham\\tGo until jurong point, crazy.. Available only in bugis n great world la e buffet... Cine there got amore wat...')\n(1, 'ham\\tOk lar... Joking wif u oni...')\n(2, \"spam\\tFree entry in 2 a wkly comp to win FA Cup final tkts 21st May 2005. Text FA to 87121 to receive entry question(std txt rate)T&C's apply 08452810075over18's\")\n(3, 'ham\\tU dun say so early hor... U c already then say...')\n(4, \"ham\\tNah I don't think he goes to usf, he lives around here though\")\n"
     ]
    }
   ],
   "source": [
    "for mensaje in enumerate(mensajes[:5]):\n",
    "    print(mensaje)"
   ]
  },
  {
   "cell_type": "code",
   "execution_count": 8,
   "metadata": {},
   "outputs": [],
   "source": [
    "mensajesdf = pd.read_csv(\"smsspamcollection/SMSSpamCollection\",sep=\"\\t\",names=[\"Etiqueta\",\"Mensaje\"])"
   ]
  },
  {
   "cell_type": "code",
   "execution_count": 9,
   "metadata": {},
   "outputs": [
    {
     "output_type": "execute_result",
     "data": {
      "text/plain": [
       "  Etiqueta                                            Mensaje\n",
       "0      ham  Go until jurong point, crazy.. Available only ...\n",
       "1      ham                      Ok lar... Joking wif u oni...\n",
       "2     spam  Free entry in 2 a wkly comp to win FA Cup fina...\n",
       "3      ham  U dun say so early hor... U c already then say...\n",
       "4      ham  Nah I don't think he goes to usf, he lives aro..."
      ],
      "text/html": "<div>\n<style scoped>\n    .dataframe tbody tr th:only-of-type {\n        vertical-align: middle;\n    }\n\n    .dataframe tbody tr th {\n        vertical-align: top;\n    }\n\n    .dataframe thead th {\n        text-align: right;\n    }\n</style>\n<table border=\"1\" class=\"dataframe\">\n  <thead>\n    <tr style=\"text-align: right;\">\n      <th></th>\n      <th>Etiqueta</th>\n      <th>Mensaje</th>\n    </tr>\n  </thead>\n  <tbody>\n    <tr>\n      <th>0</th>\n      <td>ham</td>\n      <td>Go until jurong point, crazy.. Available only ...</td>\n    </tr>\n    <tr>\n      <th>1</th>\n      <td>ham</td>\n      <td>Ok lar... Joking wif u oni...</td>\n    </tr>\n    <tr>\n      <th>2</th>\n      <td>spam</td>\n      <td>Free entry in 2 a wkly comp to win FA Cup fina...</td>\n    </tr>\n    <tr>\n      <th>3</th>\n      <td>ham</td>\n      <td>U dun say so early hor... U c already then say...</td>\n    </tr>\n    <tr>\n      <th>4</th>\n      <td>ham</td>\n      <td>Nah I don't think he goes to usf, he lives aro...</td>\n    </tr>\n  </tbody>\n</table>\n</div>"
     },
     "metadata": {},
     "execution_count": 9
    }
   ],
   "source": [
    "mensajesdf.head()"
   ]
  },
  {
   "cell_type": "code",
   "execution_count": 10,
   "metadata": {},
   "outputs": [],
   "source": [
    "mensajesdf[\"Longitud\"] = mensajesdf[\"Mensaje\"].apply(len)"
   ]
  },
  {
   "cell_type": "code",
   "execution_count": 11,
   "metadata": {},
   "outputs": [
    {
     "output_type": "execute_result",
     "data": {
      "text/plain": [
       "  Etiqueta                                            Mensaje  Longitud\n",
       "0      ham  Go until jurong point, crazy.. Available only ...       111\n",
       "1      ham                      Ok lar... Joking wif u oni...        29\n",
       "2     spam  Free entry in 2 a wkly comp to win FA Cup fina...       155\n",
       "3      ham  U dun say so early hor... U c already then say...        49\n",
       "4      ham  Nah I don't think he goes to usf, he lives aro...        61"
      ],
      "text/html": "<div>\n<style scoped>\n    .dataframe tbody tr th:only-of-type {\n        vertical-align: middle;\n    }\n\n    .dataframe tbody tr th {\n        vertical-align: top;\n    }\n\n    .dataframe thead th {\n        text-align: right;\n    }\n</style>\n<table border=\"1\" class=\"dataframe\">\n  <thead>\n    <tr style=\"text-align: right;\">\n      <th></th>\n      <th>Etiqueta</th>\n      <th>Mensaje</th>\n      <th>Longitud</th>\n    </tr>\n  </thead>\n  <tbody>\n    <tr>\n      <th>0</th>\n      <td>ham</td>\n      <td>Go until jurong point, crazy.. Available only ...</td>\n      <td>111</td>\n    </tr>\n    <tr>\n      <th>1</th>\n      <td>ham</td>\n      <td>Ok lar... Joking wif u oni...</td>\n      <td>29</td>\n    </tr>\n    <tr>\n      <th>2</th>\n      <td>spam</td>\n      <td>Free entry in 2 a wkly comp to win FA Cup fina...</td>\n      <td>155</td>\n    </tr>\n    <tr>\n      <th>3</th>\n      <td>ham</td>\n      <td>U dun say so early hor... U c already then say...</td>\n      <td>49</td>\n    </tr>\n    <tr>\n      <th>4</th>\n      <td>ham</td>\n      <td>Nah I don't think he goes to usf, he lives aro...</td>\n      <td>61</td>\n    </tr>\n  </tbody>\n</table>\n</div>"
     },
     "metadata": {},
     "execution_count": 11
    }
   ],
   "source": [
    "mensajesdf.head()"
   ]
  },
  {
   "cell_type": "code",
   "execution_count": 12,
   "metadata": {},
   "outputs": [],
   "source": [
    "import matplotlib.pyplot as plt \n",
    "import seaborn as sns"
   ]
  },
  {
   "cell_type": "code",
   "execution_count": 13,
   "metadata": {},
   "outputs": [
    {
     "output_type": "execute_result",
     "data": {
      "text/plain": [
       "<AxesSubplot:ylabel='Frequency'>"
      ]
     },
     "metadata": {},
     "execution_count": 13
    },
    {
     "output_type": "display_data",
     "data": {
      "text/plain": "<Figure size 432x288 with 1 Axes>",
      "image/svg+xml": "<?xml version=\"1.0\" encoding=\"utf-8\" standalone=\"no\"?>\r\n<!DOCTYPE svg PUBLIC \"-//W3C//DTD SVG 1.1//EN\"\r\n  \"http://www.w3.org/Graphics/SVG/1.1/DTD/svg11.dtd\">\r\n<!-- Created with matplotlib (https://matplotlib.org/) -->\r\n<svg height=\"248.518125pt\" version=\"1.1\" viewBox=\"0 0 388.965625 248.518125\" width=\"388.965625pt\" xmlns=\"http://www.w3.org/2000/svg\" xmlns:xlink=\"http://www.w3.org/1999/xlink\">\r\n <metadata>\r\n  <rdf:RDF xmlns:cc=\"http://creativecommons.org/ns#\" xmlns:dc=\"http://purl.org/dc/elements/1.1/\" xmlns:rdf=\"http://www.w3.org/1999/02/22-rdf-syntax-ns#\">\r\n   <cc:Work>\r\n    <dc:type rdf:resource=\"http://purl.org/dc/dcmitype/StillImage\"/>\r\n    <dc:date>2021-03-12T00:17:17.811102</dc:date>\r\n    <dc:format>image/svg+xml</dc:format>\r\n    <dc:creator>\r\n     <cc:Agent>\r\n      <dc:title>Matplotlib v3.3.3, https://matplotlib.org/</dc:title>\r\n     </cc:Agent>\r\n    </dc:creator>\r\n   </cc:Work>\r\n  </rdf:RDF>\r\n </metadata>\r\n <defs>\r\n  <style type=\"text/css\">*{stroke-linecap:butt;stroke-linejoin:round;}</style>\r\n </defs>\r\n <g id=\"figure_1\">\r\n  <g id=\"patch_1\">\r\n   <path d=\"M 0 248.518125 \r\nL 388.965625 248.518125 \r\nL 388.965625 0 \r\nL 0 0 \r\nz\r\n\" style=\"fill:none;\"/>\r\n  </g>\r\n  <g id=\"axes_1\">\r\n   <g id=\"patch_2\">\r\n    <path d=\"M 46.965625 224.64 \r\nL 381.765625 224.64 \r\nL 381.765625 7.2 \r\nL 46.965625 7.2 \r\nz\r\n\" style=\"fill:#ffffff;\"/>\r\n   </g>\r\n   <g id=\"patch_3\">\r\n    <path clip-path=\"url(#pc877751ef7)\" d=\"M 62.183807 224.64 \r\nL 65.227443 224.64 \r\nL 65.227443 206.090879 \r\nL 62.183807 206.090879 \r\nz\r\n\" style=\"fill:#1f77b4;\"/>\r\n   </g>\r\n   <g id=\"patch_4\">\r\n    <path clip-path=\"url(#pc877751ef7)\" d=\"M 65.227443 224.64 \r\nL 68.27108 224.64 \r\nL 68.27108 197.231597 \r\nL 65.227443 197.231597 \r\nz\r\n\" style=\"fill:#1f77b4;\"/>\r\n   </g>\r\n   <g id=\"patch_5\">\r\n    <path clip-path=\"url(#pc877751ef7)\" d=\"M 68.27108 224.64 \r\nL 71.314716 224.64 \r\nL 71.314716 17.554286 \r\nL 68.27108 17.554286 \r\nz\r\n\" style=\"fill:#1f77b4;\"/>\r\n   </g>\r\n   <g id=\"patch_6\">\r\n    <path clip-path=\"url(#pc877751ef7)\" d=\"M 71.314716 224.64 \r\nL 74.358352 224.64 \r\nL 74.358352 28.628388 \r\nL 71.314716 28.628388 \r\nz\r\n\" style=\"fill:#1f77b4;\"/>\r\n   </g>\r\n   <g id=\"patch_7\">\r\n    <path clip-path=\"url(#pc877751ef7)\" d=\"M 74.358352 224.64 \r\nL 77.401989 224.64 \r\nL 77.401989 69.879419 \r\nL 74.358352 69.879419 \r\nz\r\n\" style=\"fill:#1f77b4;\"/>\r\n   </g>\r\n   <g id=\"patch_8\">\r\n    <path clip-path=\"url(#pc877751ef7)\" d=\"M 77.401989 224.64 \r\nL 80.445625 224.64 \r\nL 80.445625 102.824874 \r\nL 77.401989 102.824874 \r\nz\r\n\" style=\"fill:#1f77b4;\"/>\r\n   </g>\r\n   <g id=\"patch_9\">\r\n    <path clip-path=\"url(#pc877751ef7)\" d=\"M 80.445625 224.64 \r\nL 83.489261 224.64 \r\nL 83.489261 139.646264 \r\nL 80.445625 139.646264 \r\nz\r\n\" style=\"fill:#1f77b4;\"/>\r\n   </g>\r\n   <g id=\"patch_10\">\r\n    <path clip-path=\"url(#pc877751ef7)\" d=\"M 83.489261 224.64 \r\nL 86.532898 224.64 \r\nL 86.532898 140.199969 \r\nL 83.489261 140.199969 \r\nz\r\n\" style=\"fill:#1f77b4;\"/>\r\n   </g>\r\n   <g id=\"patch_11\">\r\n    <path clip-path=\"url(#pc877751ef7)\" d=\"M 86.532898 224.64 \r\nL 89.576534 224.64 \r\nL 89.576534 160.133354 \r\nL 86.532898 160.133354 \r\nz\r\n\" style=\"fill:#1f77b4;\"/>\r\n   </g>\r\n   <g id=\"patch_12\">\r\n    <path clip-path=\"url(#pc877751ef7)\" d=\"M 89.576534 224.64 \r\nL 92.62017 224.64 \r\nL 92.62017 165.670405 \r\nL 89.576534 165.670405 \r\nz\r\n\" style=\"fill:#1f77b4;\"/>\r\n   </g>\r\n   <g id=\"patch_13\">\r\n    <path clip-path=\"url(#pc877751ef7)\" d=\"M 92.62017 224.64 \r\nL 95.663807 224.64 \r\nL 95.663807 182.835264 \r\nL 92.62017 182.835264 \r\nz\r\n\" style=\"fill:#1f77b4;\"/>\r\n   </g>\r\n   <g id=\"patch_14\">\r\n    <path clip-path=\"url(#pc877751ef7)\" d=\"M 95.663807 224.64 \r\nL 98.707443 224.64 \r\nL 98.707443 183.112116 \r\nL 95.663807 183.112116 \r\nz\r\n\" style=\"fill:#1f77b4;\"/>\r\n   </g>\r\n   <g id=\"patch_15\">\r\n    <path clip-path=\"url(#pc877751ef7)\" d=\"M 98.707443 224.64 \r\nL 101.75108 224.64 \r\nL 101.75108 180.066738 \r\nL 98.707443 180.066738 \r\nz\r\n\" style=\"fill:#1f77b4;\"/>\r\n   </g>\r\n   <g id=\"patch_16\">\r\n    <path clip-path=\"url(#pc877751ef7)\" d=\"M 101.75108 224.64 \r\nL 104.794716 224.64 \r\nL 104.794716 181.174148 \r\nL 101.75108 181.174148 \r\nz\r\n\" style=\"fill:#1f77b4;\"/>\r\n   </g>\r\n   <g id=\"patch_17\">\r\n    <path clip-path=\"url(#pc877751ef7)\" d=\"M 104.794716 224.64 \r\nL 107.838352 224.64 \r\nL 107.838352 172.038014 \r\nL 104.794716 172.038014 \r\nz\r\n\" style=\"fill:#1f77b4;\"/>\r\n   </g>\r\n   <g id=\"patch_18\">\r\n    <path clip-path=\"url(#pc877751ef7)\" d=\"M 107.838352 224.64 \r\nL 110.881989 224.64 \r\nL 110.881989 164.839847 \r\nL 107.838352 164.839847 \r\nz\r\n\" style=\"fill:#1f77b4;\"/>\r\n   </g>\r\n   <g id=\"patch_19\">\r\n    <path clip-path=\"url(#pc877751ef7)\" d=\"M 110.881989 224.64 \r\nL 113.925625 224.64 \r\nL 113.925625 125.526784 \r\nL 110.881989 125.526784 \r\nz\r\n\" style=\"fill:#1f77b4;\"/>\r\n   </g>\r\n   <g id=\"patch_20\">\r\n    <path clip-path=\"url(#pc877751ef7)\" d=\"M 113.925625 224.64 \r\nL 116.969261 224.64 \r\nL 116.969261 141.584232 \r\nL 113.925625 141.584232 \r\nz\r\n\" style=\"fill:#1f77b4;\"/>\r\n   </g>\r\n   <g id=\"patch_21\">\r\n    <path clip-path=\"url(#pc877751ef7)\" d=\"M 116.969261 224.64 \r\nL 120.012898 224.64 \r\nL 120.012898 213.012193 \r\nL 116.969261 213.012193 \r\nz\r\n\" style=\"fill:#1f77b4;\"/>\r\n   </g>\r\n   <g id=\"patch_22\">\r\n    <path clip-path=\"url(#pc877751ef7)\" d=\"M 120.012898 224.64 \r\nL 123.056534 224.64 \r\nL 123.056534 216.057571 \r\nL 120.012898 216.057571 \r\nz\r\n\" style=\"fill:#1f77b4;\"/>\r\n   </g>\r\n   <g id=\"patch_23\">\r\n    <path clip-path=\"url(#pc877751ef7)\" d=\"M 123.056534 224.64 \r\nL 126.10017 224.64 \r\nL 126.10017 220.764064 \r\nL 123.056534 220.764064 \r\nz\r\n\" style=\"fill:#1f77b4;\"/>\r\n   </g>\r\n   <g id=\"patch_24\">\r\n    <path clip-path=\"url(#pc877751ef7)\" d=\"M 126.10017 224.64 \r\nL 129.143807 224.64 \r\nL 129.143807 221.317769 \r\nL 126.10017 221.317769 \r\nz\r\n\" style=\"fill:#1f77b4;\"/>\r\n   </g>\r\n   <g id=\"patch_25\">\r\n    <path clip-path=\"url(#pc877751ef7)\" d=\"M 129.143807 224.64 \r\nL 132.187443 224.64 \r\nL 132.187443 221.317769 \r\nL 129.143807 221.317769 \r\nz\r\n\" style=\"fill:#1f77b4;\"/>\r\n   </g>\r\n   <g id=\"patch_26\">\r\n    <path clip-path=\"url(#pc877751ef7)\" d=\"M 132.187443 224.64 \r\nL 135.23108 224.64 \r\nL 135.23108 223.809442 \r\nL 132.187443 223.809442 \r\nz\r\n\" style=\"fill:#1f77b4;\"/>\r\n   </g>\r\n   <g id=\"patch_27\">\r\n    <path clip-path=\"url(#pc877751ef7)\" d=\"M 135.23108 224.64 \r\nL 138.274716 224.64 \r\nL 138.274716 222.42518 \r\nL 135.23108 222.42518 \r\nz\r\n\" style=\"fill:#1f77b4;\"/>\r\n   </g>\r\n   <g id=\"patch_28\">\r\n    <path clip-path=\"url(#pc877751ef7)\" d=\"M 138.274716 224.64 \r\nL 141.318352 224.64 \r\nL 141.318352 221.871474 \r\nL 138.274716 221.871474 \r\nz\r\n\" style=\"fill:#1f77b4;\"/>\r\n   </g>\r\n   <g id=\"patch_29\">\r\n    <path clip-path=\"url(#pc877751ef7)\" d=\"M 141.318352 224.64 \r\nL 144.361989 224.64 \r\nL 144.361989 222.42518 \r\nL 141.318352 222.42518 \r\nz\r\n\" style=\"fill:#1f77b4;\"/>\r\n   </g>\r\n   <g id=\"patch_30\">\r\n    <path clip-path=\"url(#pc877751ef7)\" d=\"M 144.361989 224.64 \r\nL 147.405625 224.64 \r\nL 147.405625 223.53259 \r\nL 144.361989 223.53259 \r\nz\r\n\" style=\"fill:#1f77b4;\"/>\r\n   </g>\r\n   <g id=\"patch_31\">\r\n    <path clip-path=\"url(#pc877751ef7)\" d=\"M 147.405625 224.64 \r\nL 150.449261 224.64 \r\nL 150.449261 223.809442 \r\nL 147.405625 223.809442 \r\nz\r\n\" style=\"fill:#1f77b4;\"/>\r\n   </g>\r\n   <g id=\"patch_32\">\r\n    <path clip-path=\"url(#pc877751ef7)\" d=\"M 150.449261 224.64 \r\nL 153.492898 224.64 \r\nL 153.492898 224.086295 \r\nL 150.449261 224.086295 \r\nz\r\n\" style=\"fill:#1f77b4;\"/>\r\n   </g>\r\n   <g id=\"patch_33\">\r\n    <path clip-path=\"url(#pc877751ef7)\" d=\"M 153.492898 224.64 \r\nL 156.536534 224.64 \r\nL 156.536534 221.871474 \r\nL 153.492898 221.871474 \r\nz\r\n\" style=\"fill:#1f77b4;\"/>\r\n   </g>\r\n   <g id=\"patch_34\">\r\n    <path clip-path=\"url(#pc877751ef7)\" d=\"M 156.536534 224.64 \r\nL 159.58017 224.64 \r\nL 159.58017 223.53259 \r\nL 156.536534 223.53259 \r\nz\r\n\" style=\"fill:#1f77b4;\"/>\r\n   </g>\r\n   <g id=\"patch_35\">\r\n    <path clip-path=\"url(#pc877751ef7)\" d=\"M 159.58017 224.64 \r\nL 162.623807 224.64 \r\nL 162.623807 222.702032 \r\nL 159.58017 222.702032 \r\nz\r\n\" style=\"fill:#1f77b4;\"/>\r\n   </g>\r\n   <g id=\"patch_36\">\r\n    <path clip-path=\"url(#pc877751ef7)\" d=\"M 162.623807 224.64 \r\nL 165.667443 224.64 \r\nL 165.667443 224.363147 \r\nL 162.623807 224.363147 \r\nz\r\n\" style=\"fill:#1f77b4;\"/>\r\n   </g>\r\n   <g id=\"patch_37\">\r\n    <path clip-path=\"url(#pc877751ef7)\" d=\"M 165.667443 224.64 \r\nL 168.71108 224.64 \r\nL 168.71108 224.086295 \r\nL 165.667443 224.086295 \r\nz\r\n\" style=\"fill:#1f77b4;\"/>\r\n   </g>\r\n   <g id=\"patch_38\">\r\n    <path clip-path=\"url(#pc877751ef7)\" d=\"M 168.71108 224.64 \r\nL 171.754716 224.64 \r\nL 171.754716 222.702032 \r\nL 168.71108 222.702032 \r\nz\r\n\" style=\"fill:#1f77b4;\"/>\r\n   </g>\r\n   <g id=\"patch_39\">\r\n    <path clip-path=\"url(#pc877751ef7)\" d=\"M 171.754716 224.64 \r\nL 174.798352 224.64 \r\nL 174.798352 223.53259 \r\nL 171.754716 223.53259 \r\nz\r\n\" style=\"fill:#1f77b4;\"/>\r\n   </g>\r\n   <g id=\"patch_40\">\r\n    <path clip-path=\"url(#pc877751ef7)\" d=\"M 174.798352 224.64 \r\nL 177.841989 224.64 \r\nL 177.841989 224.363147 \r\nL 174.798352 224.363147 \r\nz\r\n\" style=\"fill:#1f77b4;\"/>\r\n   </g>\r\n   <g id=\"patch_41\">\r\n    <path clip-path=\"url(#pc877751ef7)\" d=\"M 177.841989 224.64 \r\nL 180.885625 224.64 \r\nL 180.885625 224.363147 \r\nL 177.841989 224.363147 \r\nz\r\n\" style=\"fill:#1f77b4;\"/>\r\n   </g>\r\n   <g id=\"patch_42\">\r\n    <path clip-path=\"url(#pc877751ef7)\" d=\"M 180.885625 224.64 \r\nL 183.929261 224.64 \r\nL 183.929261 224.363147 \r\nL 180.885625 224.363147 \r\nz\r\n\" style=\"fill:#1f77b4;\"/>\r\n   </g>\r\n   <g id=\"patch_43\">\r\n    <path clip-path=\"url(#pc877751ef7)\" d=\"M 183.929261 224.64 \r\nL 186.972898 224.64 \r\nL 186.972898 224.086295 \r\nL 183.929261 224.086295 \r\nz\r\n\" style=\"fill:#1f77b4;\"/>\r\n   </g>\r\n   <g id=\"patch_44\">\r\n    <path clip-path=\"url(#pc877751ef7)\" d=\"M 186.972898 224.64 \r\nL 190.016534 224.64 \r\nL 190.016534 223.809442 \r\nL 186.972898 223.809442 \r\nz\r\n\" style=\"fill:#1f77b4;\"/>\r\n   </g>\r\n   <g id=\"patch_45\">\r\n    <path clip-path=\"url(#pc877751ef7)\" d=\"M 190.016534 224.64 \r\nL 193.06017 224.64 \r\nL 193.06017 224.363147 \r\nL 190.016534 224.363147 \r\nz\r\n\" style=\"fill:#1f77b4;\"/>\r\n   </g>\r\n   <g id=\"patch_46\">\r\n    <path clip-path=\"url(#pc877751ef7)\" d=\"M 193.06017 224.64 \r\nL 196.103807 224.64 \r\nL 196.103807 224.64 \r\nL 193.06017 224.64 \r\nz\r\n\" style=\"fill:#1f77b4;\"/>\r\n   </g>\r\n   <g id=\"patch_47\">\r\n    <path clip-path=\"url(#pc877751ef7)\" d=\"M 196.103807 224.64 \r\nL 199.147443 224.64 \r\nL 199.147443 224.363147 \r\nL 196.103807 224.363147 \r\nz\r\n\" style=\"fill:#1f77b4;\"/>\r\n   </g>\r\n   <g id=\"patch_48\">\r\n    <path clip-path=\"url(#pc877751ef7)\" d=\"M 199.147443 224.64 \r\nL 202.19108 224.64 \r\nL 202.19108 224.363147 \r\nL 199.147443 224.363147 \r\nz\r\n\" style=\"fill:#1f77b4;\"/>\r\n   </g>\r\n   <g id=\"patch_49\">\r\n    <path clip-path=\"url(#pc877751ef7)\" d=\"M 202.19108 224.64 \r\nL 205.234716 224.64 \r\nL 205.234716 224.64 \r\nL 202.19108 224.64 \r\nz\r\n\" style=\"fill:#1f77b4;\"/>\r\n   </g>\r\n   <g id=\"patch_50\">\r\n    <path clip-path=\"url(#pc877751ef7)\" d=\"M 205.234716 224.64 \r\nL 208.278352 224.64 \r\nL 208.278352 224.363147 \r\nL 205.234716 224.363147 \r\nz\r\n\" style=\"fill:#1f77b4;\"/>\r\n   </g>\r\n   <g id=\"patch_51\">\r\n    <path clip-path=\"url(#pc877751ef7)\" d=\"M 208.278352 224.64 \r\nL 211.321989 224.64 \r\nL 211.321989 223.255737 \r\nL 208.278352 223.255737 \r\nz\r\n\" style=\"fill:#1f77b4;\"/>\r\n   </g>\r\n   <g id=\"patch_52\">\r\n    <path clip-path=\"url(#pc877751ef7)\" d=\"M 211.321989 224.64 \r\nL 214.365625 224.64 \r\nL 214.365625 224.64 \r\nL 211.321989 224.64 \r\nz\r\n\" style=\"fill:#1f77b4;\"/>\r\n   </g>\r\n   <g id=\"patch_53\">\r\n    <path clip-path=\"url(#pc877751ef7)\" d=\"M 214.365625 224.64 \r\nL 217.409261 224.64 \r\nL 217.409261 224.086295 \r\nL 214.365625 224.086295 \r\nz\r\n\" style=\"fill:#1f77b4;\"/>\r\n   </g>\r\n   <g id=\"patch_54\">\r\n    <path clip-path=\"url(#pc877751ef7)\" d=\"M 217.409261 224.64 \r\nL 220.452898 224.64 \r\nL 220.452898 224.64 \r\nL 217.409261 224.64 \r\nz\r\n\" style=\"fill:#1f77b4;\"/>\r\n   </g>\r\n   <g id=\"patch_55\">\r\n    <path clip-path=\"url(#pc877751ef7)\" d=\"M 220.452898 224.64 \r\nL 223.496534 224.64 \r\nL 223.496534 224.363147 \r\nL 220.452898 224.363147 \r\nz\r\n\" style=\"fill:#1f77b4;\"/>\r\n   </g>\r\n   <g id=\"patch_56\">\r\n    <path clip-path=\"url(#pc877751ef7)\" d=\"M 223.496534 224.64 \r\nL 226.54017 224.64 \r\nL 226.54017 224.64 \r\nL 223.496534 224.64 \r\nz\r\n\" style=\"fill:#1f77b4;\"/>\r\n   </g>\r\n   <g id=\"patch_57\">\r\n    <path clip-path=\"url(#pc877751ef7)\" d=\"M 226.54017 224.64 \r\nL 229.583807 224.64 \r\nL 229.583807 224.64 \r\nL 226.54017 224.64 \r\nz\r\n\" style=\"fill:#1f77b4;\"/>\r\n   </g>\r\n   <g id=\"patch_58\">\r\n    <path clip-path=\"url(#pc877751ef7)\" d=\"M 229.583807 224.64 \r\nL 232.627443 224.64 \r\nL 232.627443 224.64 \r\nL 229.583807 224.64 \r\nz\r\n\" style=\"fill:#1f77b4;\"/>\r\n   </g>\r\n   <g id=\"patch_59\">\r\n    <path clip-path=\"url(#pc877751ef7)\" d=\"M 232.627443 224.64 \r\nL 235.67108 224.64 \r\nL 235.67108 224.64 \r\nL 232.627443 224.64 \r\nz\r\n\" style=\"fill:#1f77b4;\"/>\r\n   </g>\r\n   <g id=\"patch_60\">\r\n    <path clip-path=\"url(#pc877751ef7)\" d=\"M 235.67108 224.64 \r\nL 238.714716 224.64 \r\nL 238.714716 224.64 \r\nL 235.67108 224.64 \r\nz\r\n\" style=\"fill:#1f77b4;\"/>\r\n   </g>\r\n   <g id=\"patch_61\">\r\n    <path clip-path=\"url(#pc877751ef7)\" d=\"M 238.714716 224.64 \r\nL 241.758352 224.64 \r\nL 241.758352 224.64 \r\nL 238.714716 224.64 \r\nz\r\n\" style=\"fill:#1f77b4;\"/>\r\n   </g>\r\n   <g id=\"patch_62\">\r\n    <path clip-path=\"url(#pc877751ef7)\" d=\"M 241.758352 224.64 \r\nL 244.801989 224.64 \r\nL 244.801989 224.64 \r\nL 241.758352 224.64 \r\nz\r\n\" style=\"fill:#1f77b4;\"/>\r\n   </g>\r\n   <g id=\"patch_63\">\r\n    <path clip-path=\"url(#pc877751ef7)\" d=\"M 244.801989 224.64 \r\nL 247.845625 224.64 \r\nL 247.845625 224.64 \r\nL 244.801989 224.64 \r\nz\r\n\" style=\"fill:#1f77b4;\"/>\r\n   </g>\r\n   <g id=\"patch_64\">\r\n    <path clip-path=\"url(#pc877751ef7)\" d=\"M 247.845625 224.64 \r\nL 250.889261 224.64 \r\nL 250.889261 224.64 \r\nL 247.845625 224.64 \r\nz\r\n\" style=\"fill:#1f77b4;\"/>\r\n   </g>\r\n   <g id=\"patch_65\">\r\n    <path clip-path=\"url(#pc877751ef7)\" d=\"M 250.889261 224.64 \r\nL 253.932898 224.64 \r\nL 253.932898 224.64 \r\nL 250.889261 224.64 \r\nz\r\n\" style=\"fill:#1f77b4;\"/>\r\n   </g>\r\n   <g id=\"patch_66\">\r\n    <path clip-path=\"url(#pc877751ef7)\" d=\"M 253.932898 224.64 \r\nL 256.976534 224.64 \r\nL 256.976534 224.64 \r\nL 253.932898 224.64 \r\nz\r\n\" style=\"fill:#1f77b4;\"/>\r\n   </g>\r\n   <g id=\"patch_67\">\r\n    <path clip-path=\"url(#pc877751ef7)\" d=\"M 256.976534 224.64 \r\nL 260.02017 224.64 \r\nL 260.02017 224.086295 \r\nL 256.976534 224.086295 \r\nz\r\n\" style=\"fill:#1f77b4;\"/>\r\n   </g>\r\n   <g id=\"patch_68\">\r\n    <path clip-path=\"url(#pc877751ef7)\" d=\"M 260.02017 224.64 \r\nL 263.063807 224.64 \r\nL 263.063807 224.64 \r\nL 260.02017 224.64 \r\nz\r\n\" style=\"fill:#1f77b4;\"/>\r\n   </g>\r\n   <g id=\"patch_69\">\r\n    <path clip-path=\"url(#pc877751ef7)\" d=\"M 263.063807 224.64 \r\nL 266.107443 224.64 \r\nL 266.107443 224.64 \r\nL 263.063807 224.64 \r\nz\r\n\" style=\"fill:#1f77b4;\"/>\r\n   </g>\r\n   <g id=\"patch_70\">\r\n    <path clip-path=\"url(#pc877751ef7)\" d=\"M 266.107443 224.64 \r\nL 269.15108 224.64 \r\nL 269.15108 224.363147 \r\nL 266.107443 224.363147 \r\nz\r\n\" style=\"fill:#1f77b4;\"/>\r\n   </g>\r\n   <g id=\"patch_71\">\r\n    <path clip-path=\"url(#pc877751ef7)\" d=\"M 269.15108 224.64 \r\nL 272.194716 224.64 \r\nL 272.194716 224.64 \r\nL 269.15108 224.64 \r\nz\r\n\" style=\"fill:#1f77b4;\"/>\r\n   </g>\r\n   <g id=\"patch_72\">\r\n    <path clip-path=\"url(#pc877751ef7)\" d=\"M 272.194716 224.64 \r\nL 275.238352 224.64 \r\nL 275.238352 224.363147 \r\nL 272.194716 224.363147 \r\nz\r\n\" style=\"fill:#1f77b4;\"/>\r\n   </g>\r\n   <g id=\"patch_73\">\r\n    <path clip-path=\"url(#pc877751ef7)\" d=\"M 275.238352 224.64 \r\nL 278.281989 224.64 \r\nL 278.281989 224.64 \r\nL 275.238352 224.64 \r\nz\r\n\" style=\"fill:#1f77b4;\"/>\r\n   </g>\r\n   <g id=\"patch_74\">\r\n    <path clip-path=\"url(#pc877751ef7)\" d=\"M 278.281989 224.64 \r\nL 281.325625 224.64 \r\nL 281.325625 224.64 \r\nL 278.281989 224.64 \r\nz\r\n\" style=\"fill:#1f77b4;\"/>\r\n   </g>\r\n   <g id=\"patch_75\">\r\n    <path clip-path=\"url(#pc877751ef7)\" d=\"M 281.325625 224.64 \r\nL 284.369261 224.64 \r\nL 284.369261 224.64 \r\nL 281.325625 224.64 \r\nz\r\n\" style=\"fill:#1f77b4;\"/>\r\n   </g>\r\n   <g id=\"patch_76\">\r\n    <path clip-path=\"url(#pc877751ef7)\" d=\"M 284.369261 224.64 \r\nL 287.412898 224.64 \r\nL 287.412898 224.64 \r\nL 284.369261 224.64 \r\nz\r\n\" style=\"fill:#1f77b4;\"/>\r\n   </g>\r\n   <g id=\"patch_77\">\r\n    <path clip-path=\"url(#pc877751ef7)\" d=\"M 287.412898 224.64 \r\nL 290.456534 224.64 \r\nL 290.456534 224.64 \r\nL 287.412898 224.64 \r\nz\r\n\" style=\"fill:#1f77b4;\"/>\r\n   </g>\r\n   <g id=\"patch_78\">\r\n    <path clip-path=\"url(#pc877751ef7)\" d=\"M 290.456534 224.64 \r\nL 293.50017 224.64 \r\nL 293.50017 224.64 \r\nL 290.456534 224.64 \r\nz\r\n\" style=\"fill:#1f77b4;\"/>\r\n   </g>\r\n   <g id=\"patch_79\">\r\n    <path clip-path=\"url(#pc877751ef7)\" d=\"M 293.50017 224.64 \r\nL 296.543807 224.64 \r\nL 296.543807 224.64 \r\nL 293.50017 224.64 \r\nz\r\n\" style=\"fill:#1f77b4;\"/>\r\n   </g>\r\n   <g id=\"patch_80\">\r\n    <path clip-path=\"url(#pc877751ef7)\" d=\"M 296.543807 224.64 \r\nL 299.587443 224.64 \r\nL 299.587443 224.64 \r\nL 296.543807 224.64 \r\nz\r\n\" style=\"fill:#1f77b4;\"/>\r\n   </g>\r\n   <g id=\"patch_81\">\r\n    <path clip-path=\"url(#pc877751ef7)\" d=\"M 299.587443 224.64 \r\nL 302.63108 224.64 \r\nL 302.63108 224.64 \r\nL 299.587443 224.64 \r\nz\r\n\" style=\"fill:#1f77b4;\"/>\r\n   </g>\r\n   <g id=\"patch_82\">\r\n    <path clip-path=\"url(#pc877751ef7)\" d=\"M 302.63108 224.64 \r\nL 305.674716 224.64 \r\nL 305.674716 224.64 \r\nL 302.63108 224.64 \r\nz\r\n\" style=\"fill:#1f77b4;\"/>\r\n   </g>\r\n   <g id=\"patch_83\">\r\n    <path clip-path=\"url(#pc877751ef7)\" d=\"M 305.674716 224.64 \r\nL 308.718352 224.64 \r\nL 308.718352 224.64 \r\nL 305.674716 224.64 \r\nz\r\n\" style=\"fill:#1f77b4;\"/>\r\n   </g>\r\n   <g id=\"patch_84\">\r\n    <path clip-path=\"url(#pc877751ef7)\" d=\"M 308.718352 224.64 \r\nL 311.761989 224.64 \r\nL 311.761989 224.64 \r\nL 308.718352 224.64 \r\nz\r\n\" style=\"fill:#1f77b4;\"/>\r\n   </g>\r\n   <g id=\"patch_85\">\r\n    <path clip-path=\"url(#pc877751ef7)\" d=\"M 311.761989 224.64 \r\nL 314.805625 224.64 \r\nL 314.805625 224.64 \r\nL 311.761989 224.64 \r\nz\r\n\" style=\"fill:#1f77b4;\"/>\r\n   </g>\r\n   <g id=\"patch_86\">\r\n    <path clip-path=\"url(#pc877751ef7)\" d=\"M 314.805625 224.64 \r\nL 317.849261 224.64 \r\nL 317.849261 224.64 \r\nL 314.805625 224.64 \r\nz\r\n\" style=\"fill:#1f77b4;\"/>\r\n   </g>\r\n   <g id=\"patch_87\">\r\n    <path clip-path=\"url(#pc877751ef7)\" d=\"M 317.849261 224.64 \r\nL 320.892898 224.64 \r\nL 320.892898 224.64 \r\nL 317.849261 224.64 \r\nz\r\n\" style=\"fill:#1f77b4;\"/>\r\n   </g>\r\n   <g id=\"patch_88\">\r\n    <path clip-path=\"url(#pc877751ef7)\" d=\"M 320.892898 224.64 \r\nL 323.936534 224.64 \r\nL 323.936534 224.64 \r\nL 320.892898 224.64 \r\nz\r\n\" style=\"fill:#1f77b4;\"/>\r\n   </g>\r\n   <g id=\"patch_89\">\r\n    <path clip-path=\"url(#pc877751ef7)\" d=\"M 323.936534 224.64 \r\nL 326.98017 224.64 \r\nL 326.98017 224.363147 \r\nL 323.936534 224.363147 \r\nz\r\n\" style=\"fill:#1f77b4;\"/>\r\n   </g>\r\n   <g id=\"patch_90\">\r\n    <path clip-path=\"url(#pc877751ef7)\" d=\"M 326.98017 224.64 \r\nL 330.023807 224.64 \r\nL 330.023807 224.64 \r\nL 326.98017 224.64 \r\nz\r\n\" style=\"fill:#1f77b4;\"/>\r\n   </g>\r\n   <g id=\"patch_91\">\r\n    <path clip-path=\"url(#pc877751ef7)\" d=\"M 330.023807 224.64 \r\nL 333.067443 224.64 \r\nL 333.067443 224.64 \r\nL 330.023807 224.64 \r\nz\r\n\" style=\"fill:#1f77b4;\"/>\r\n   </g>\r\n   <g id=\"patch_92\">\r\n    <path clip-path=\"url(#pc877751ef7)\" d=\"M 333.067443 224.64 \r\nL 336.11108 224.64 \r\nL 336.11108 224.64 \r\nL 333.067443 224.64 \r\nz\r\n\" style=\"fill:#1f77b4;\"/>\r\n   </g>\r\n   <g id=\"patch_93\">\r\n    <path clip-path=\"url(#pc877751ef7)\" d=\"M 336.11108 224.64 \r\nL 339.154716 224.64 \r\nL 339.154716 224.64 \r\nL 336.11108 224.64 \r\nz\r\n\" style=\"fill:#1f77b4;\"/>\r\n   </g>\r\n   <g id=\"patch_94\">\r\n    <path clip-path=\"url(#pc877751ef7)\" d=\"M 339.154716 224.64 \r\nL 342.198352 224.64 \r\nL 342.198352 224.64 \r\nL 339.154716 224.64 \r\nz\r\n\" style=\"fill:#1f77b4;\"/>\r\n   </g>\r\n   <g id=\"patch_95\">\r\n    <path clip-path=\"url(#pc877751ef7)\" d=\"M 342.198352 224.64 \r\nL 345.241989 224.64 \r\nL 345.241989 224.64 \r\nL 342.198352 224.64 \r\nz\r\n\" style=\"fill:#1f77b4;\"/>\r\n   </g>\r\n   <g id=\"patch_96\">\r\n    <path clip-path=\"url(#pc877751ef7)\" d=\"M 345.241989 224.64 \r\nL 348.285625 224.64 \r\nL 348.285625 224.64 \r\nL 345.241989 224.64 \r\nz\r\n\" style=\"fill:#1f77b4;\"/>\r\n   </g>\r\n   <g id=\"patch_97\">\r\n    <path clip-path=\"url(#pc877751ef7)\" d=\"M 348.285625 224.64 \r\nL 351.329261 224.64 \r\nL 351.329261 224.64 \r\nL 348.285625 224.64 \r\nz\r\n\" style=\"fill:#1f77b4;\"/>\r\n   </g>\r\n   <g id=\"patch_98\">\r\n    <path clip-path=\"url(#pc877751ef7)\" d=\"M 351.329261 224.64 \r\nL 354.372898 224.64 \r\nL 354.372898 224.64 \r\nL 351.329261 224.64 \r\nz\r\n\" style=\"fill:#1f77b4;\"/>\r\n   </g>\r\n   <g id=\"patch_99\">\r\n    <path clip-path=\"url(#pc877751ef7)\" d=\"M 354.372898 224.64 \r\nL 357.416534 224.64 \r\nL 357.416534 224.64 \r\nL 354.372898 224.64 \r\nz\r\n\" style=\"fill:#1f77b4;\"/>\r\n   </g>\r\n   <g id=\"patch_100\">\r\n    <path clip-path=\"url(#pc877751ef7)\" d=\"M 357.416534 224.64 \r\nL 360.46017 224.64 \r\nL 360.46017 224.64 \r\nL 357.416534 224.64 \r\nz\r\n\" style=\"fill:#1f77b4;\"/>\r\n   </g>\r\n   <g id=\"patch_101\">\r\n    <path clip-path=\"url(#pc877751ef7)\" d=\"M 360.46017 224.64 \r\nL 363.503807 224.64 \r\nL 363.503807 224.64 \r\nL 360.46017 224.64 \r\nz\r\n\" style=\"fill:#1f77b4;\"/>\r\n   </g>\r\n   <g id=\"patch_102\">\r\n    <path clip-path=\"url(#pc877751ef7)\" d=\"M 363.503807 224.64 \r\nL 366.547443 224.64 \r\nL 366.547443 224.363147 \r\nL 363.503807 224.363147 \r\nz\r\n\" style=\"fill:#1f77b4;\"/>\r\n   </g>\r\n   <g id=\"matplotlib.axis_1\">\r\n    <g id=\"xtick_1\">\r\n     <g id=\"line2d_1\">\r\n      <defs>\r\n       <path d=\"M 0 0 \r\nL 0 3.5 \r\n\" id=\"m33d939a4dd\" style=\"stroke:#000000;stroke-width:0.8;\"/>\r\n      </defs>\r\n      <g>\r\n       <use style=\"stroke:#000000;stroke-width:0.8;\" x=\"61.513402\" xlink:href=\"#m33d939a4dd\" y=\"224.64\"/>\r\n      </g>\r\n     </g>\r\n     <g id=\"text_1\">\r\n      <!-- 0 -->\r\n      <g transform=\"translate(58.332152 239.238437)scale(0.1 -0.1)\">\r\n       <defs>\r\n        <path d=\"M 31.78125 66.40625 \r\nQ 24.171875 66.40625 20.328125 58.90625 \r\nQ 16.5 51.421875 16.5 36.375 \r\nQ 16.5 21.390625 20.328125 13.890625 \r\nQ 24.171875 6.390625 31.78125 6.390625 \r\nQ 39.453125 6.390625 43.28125 13.890625 \r\nQ 47.125 21.390625 47.125 36.375 \r\nQ 47.125 51.421875 43.28125 58.90625 \r\nQ 39.453125 66.40625 31.78125 66.40625 \r\nz\r\nM 31.78125 74.21875 \r\nQ 44.046875 74.21875 50.515625 64.515625 \r\nQ 56.984375 54.828125 56.984375 36.375 \r\nQ 56.984375 17.96875 50.515625 8.265625 \r\nQ 44.046875 -1.421875 31.78125 -1.421875 \r\nQ 19.53125 -1.421875 13.0625 8.265625 \r\nQ 6.59375 17.96875 6.59375 36.375 \r\nQ 6.59375 54.828125 13.0625 64.515625 \r\nQ 19.53125 74.21875 31.78125 74.21875 \r\nz\r\n\" id=\"DejaVuSans-48\"/>\r\n       </defs>\r\n       <use xlink:href=\"#DejaVuSans-48\"/>\r\n      </g>\r\n     </g>\r\n    </g>\r\n    <g id=\"xtick_2\">\r\n     <g id=\"line2d_2\">\r\n      <g>\r\n       <use style=\"stroke:#000000;stroke-width:0.8;\" x=\"128.553851\" xlink:href=\"#m33d939a4dd\" y=\"224.64\"/>\r\n      </g>\r\n     </g>\r\n     <g id=\"text_2\">\r\n      <!-- 200 -->\r\n      <g transform=\"translate(119.010101 239.238437)scale(0.1 -0.1)\">\r\n       <defs>\r\n        <path d=\"M 19.1875 8.296875 \r\nL 53.609375 8.296875 \r\nL 53.609375 0 \r\nL 7.328125 0 \r\nL 7.328125 8.296875 \r\nQ 12.9375 14.109375 22.625 23.890625 \r\nQ 32.328125 33.6875 34.8125 36.53125 \r\nQ 39.546875 41.84375 41.421875 45.53125 \r\nQ 43.3125 49.21875 43.3125 52.78125 \r\nQ 43.3125 58.59375 39.234375 62.25 \r\nQ 35.15625 65.921875 28.609375 65.921875 \r\nQ 23.96875 65.921875 18.8125 64.3125 \r\nQ 13.671875 62.703125 7.8125 59.421875 \r\nL 7.8125 69.390625 \r\nQ 13.765625 71.78125 18.9375 73 \r\nQ 24.125 74.21875 28.421875 74.21875 \r\nQ 39.75 74.21875 46.484375 68.546875 \r\nQ 53.21875 62.890625 53.21875 53.421875 \r\nQ 53.21875 48.921875 51.53125 44.890625 \r\nQ 49.859375 40.875 45.40625 35.40625 \r\nQ 44.1875 33.984375 37.640625 27.21875 \r\nQ 31.109375 20.453125 19.1875 8.296875 \r\nz\r\n\" id=\"DejaVuSans-50\"/>\r\n       </defs>\r\n       <use xlink:href=\"#DejaVuSans-50\"/>\r\n       <use x=\"63.623047\" xlink:href=\"#DejaVuSans-48\"/>\r\n       <use x=\"127.246094\" xlink:href=\"#DejaVuSans-48\"/>\r\n      </g>\r\n     </g>\r\n    </g>\r\n    <g id=\"xtick_3\">\r\n     <g id=\"line2d_3\">\r\n      <g>\r\n       <use style=\"stroke:#000000;stroke-width:0.8;\" x=\"195.594299\" xlink:href=\"#m33d939a4dd\" y=\"224.64\"/>\r\n      </g>\r\n     </g>\r\n     <g id=\"text_3\">\r\n      <!-- 400 -->\r\n      <g transform=\"translate(186.050549 239.238437)scale(0.1 -0.1)\">\r\n       <defs>\r\n        <path d=\"M 37.796875 64.3125 \r\nL 12.890625 25.390625 \r\nL 37.796875 25.390625 \r\nz\r\nM 35.203125 72.90625 \r\nL 47.609375 72.90625 \r\nL 47.609375 25.390625 \r\nL 58.015625 25.390625 \r\nL 58.015625 17.1875 \r\nL 47.609375 17.1875 \r\nL 47.609375 0 \r\nL 37.796875 0 \r\nL 37.796875 17.1875 \r\nL 4.890625 17.1875 \r\nL 4.890625 26.703125 \r\nz\r\n\" id=\"DejaVuSans-52\"/>\r\n       </defs>\r\n       <use xlink:href=\"#DejaVuSans-52\"/>\r\n       <use x=\"63.623047\" xlink:href=\"#DejaVuSans-48\"/>\r\n       <use x=\"127.246094\" xlink:href=\"#DejaVuSans-48\"/>\r\n      </g>\r\n     </g>\r\n    </g>\r\n    <g id=\"xtick_4\">\r\n     <g id=\"line2d_4\">\r\n      <g>\r\n       <use style=\"stroke:#000000;stroke-width:0.8;\" x=\"262.634748\" xlink:href=\"#m33d939a4dd\" y=\"224.64\"/>\r\n      </g>\r\n     </g>\r\n     <g id=\"text_4\">\r\n      <!-- 600 -->\r\n      <g transform=\"translate(253.090998 239.238437)scale(0.1 -0.1)\">\r\n       <defs>\r\n        <path d=\"M 33.015625 40.375 \r\nQ 26.375 40.375 22.484375 35.828125 \r\nQ 18.609375 31.296875 18.609375 23.390625 \r\nQ 18.609375 15.53125 22.484375 10.953125 \r\nQ 26.375 6.390625 33.015625 6.390625 \r\nQ 39.65625 6.390625 43.53125 10.953125 \r\nQ 47.40625 15.53125 47.40625 23.390625 \r\nQ 47.40625 31.296875 43.53125 35.828125 \r\nQ 39.65625 40.375 33.015625 40.375 \r\nz\r\nM 52.59375 71.296875 \r\nL 52.59375 62.3125 \r\nQ 48.875 64.0625 45.09375 64.984375 \r\nQ 41.3125 65.921875 37.59375 65.921875 \r\nQ 27.828125 65.921875 22.671875 59.328125 \r\nQ 17.53125 52.734375 16.796875 39.40625 \r\nQ 19.671875 43.65625 24.015625 45.921875 \r\nQ 28.375 48.1875 33.59375 48.1875 \r\nQ 44.578125 48.1875 50.953125 41.515625 \r\nQ 57.328125 34.859375 57.328125 23.390625 \r\nQ 57.328125 12.15625 50.6875 5.359375 \r\nQ 44.046875 -1.421875 33.015625 -1.421875 \r\nQ 20.359375 -1.421875 13.671875 8.265625 \r\nQ 6.984375 17.96875 6.984375 36.375 \r\nQ 6.984375 53.65625 15.1875 63.9375 \r\nQ 23.390625 74.21875 37.203125 74.21875 \r\nQ 40.921875 74.21875 44.703125 73.484375 \r\nQ 48.484375 72.75 52.59375 71.296875 \r\nz\r\n\" id=\"DejaVuSans-54\"/>\r\n       </defs>\r\n       <use xlink:href=\"#DejaVuSans-54\"/>\r\n       <use x=\"63.623047\" xlink:href=\"#DejaVuSans-48\"/>\r\n       <use x=\"127.246094\" xlink:href=\"#DejaVuSans-48\"/>\r\n      </g>\r\n     </g>\r\n    </g>\r\n    <g id=\"xtick_5\">\r\n     <g id=\"line2d_5\">\r\n      <g>\r\n       <use style=\"stroke:#000000;stroke-width:0.8;\" x=\"329.675196\" xlink:href=\"#m33d939a4dd\" y=\"224.64\"/>\r\n      </g>\r\n     </g>\r\n     <g id=\"text_5\">\r\n      <!-- 800 -->\r\n      <g transform=\"translate(320.131446 239.238437)scale(0.1 -0.1)\">\r\n       <defs>\r\n        <path d=\"M 31.78125 34.625 \r\nQ 24.75 34.625 20.71875 30.859375 \r\nQ 16.703125 27.09375 16.703125 20.515625 \r\nQ 16.703125 13.921875 20.71875 10.15625 \r\nQ 24.75 6.390625 31.78125 6.390625 \r\nQ 38.8125 6.390625 42.859375 10.171875 \r\nQ 46.921875 13.96875 46.921875 20.515625 \r\nQ 46.921875 27.09375 42.890625 30.859375 \r\nQ 38.875 34.625 31.78125 34.625 \r\nz\r\nM 21.921875 38.8125 \r\nQ 15.578125 40.375 12.03125 44.71875 \r\nQ 8.5 49.078125 8.5 55.328125 \r\nQ 8.5 64.0625 14.71875 69.140625 \r\nQ 20.953125 74.21875 31.78125 74.21875 \r\nQ 42.671875 74.21875 48.875 69.140625 \r\nQ 55.078125 64.0625 55.078125 55.328125 \r\nQ 55.078125 49.078125 51.53125 44.71875 \r\nQ 48 40.375 41.703125 38.8125 \r\nQ 48.828125 37.15625 52.796875 32.3125 \r\nQ 56.78125 27.484375 56.78125 20.515625 \r\nQ 56.78125 9.90625 50.3125 4.234375 \r\nQ 43.84375 -1.421875 31.78125 -1.421875 \r\nQ 19.734375 -1.421875 13.25 4.234375 \r\nQ 6.78125 9.90625 6.78125 20.515625 \r\nQ 6.78125 27.484375 10.78125 32.3125 \r\nQ 14.796875 37.15625 21.921875 38.8125 \r\nz\r\nM 18.3125 54.390625 \r\nQ 18.3125 48.734375 21.84375 45.5625 \r\nQ 25.390625 42.390625 31.78125 42.390625 \r\nQ 38.140625 42.390625 41.71875 45.5625 \r\nQ 45.3125 48.734375 45.3125 54.390625 \r\nQ 45.3125 60.0625 41.71875 63.234375 \r\nQ 38.140625 66.40625 31.78125 66.40625 \r\nQ 25.390625 66.40625 21.84375 63.234375 \r\nQ 18.3125 60.0625 18.3125 54.390625 \r\nz\r\n\" id=\"DejaVuSans-56\"/>\r\n       </defs>\r\n       <use xlink:href=\"#DejaVuSans-56\"/>\r\n       <use x=\"63.623047\" xlink:href=\"#DejaVuSans-48\"/>\r\n       <use x=\"127.246094\" xlink:href=\"#DejaVuSans-48\"/>\r\n      </g>\r\n     </g>\r\n    </g>\r\n   </g>\r\n   <g id=\"matplotlib.axis_2\">\r\n    <g id=\"ytick_1\">\r\n     <g id=\"line2d_6\">\r\n      <defs>\r\n       <path d=\"M 0 0 \r\nL -3.5 0 \r\n\" id=\"m0f86ee1ca6\" style=\"stroke:#000000;stroke-width:0.8;\"/>\r\n      </defs>\r\n      <g>\r\n       <use style=\"stroke:#000000;stroke-width:0.8;\" x=\"46.965625\" xlink:href=\"#m0f86ee1ca6\" y=\"224.64\"/>\r\n      </g>\r\n     </g>\r\n     <g id=\"text_6\">\r\n      <!-- 0 -->\r\n      <g transform=\"translate(33.603125 228.439219)scale(0.1 -0.1)\">\r\n       <use xlink:href=\"#DejaVuSans-48\"/>\r\n      </g>\r\n     </g>\r\n    </g>\r\n    <g id=\"ytick_2\">\r\n     <g id=\"line2d_7\">\r\n      <g>\r\n       <use style=\"stroke:#000000;stroke-width:0.8;\" x=\"46.965625\" xlink:href=\"#m0f86ee1ca6\" y=\"196.954744\"/>\r\n      </g>\r\n     </g>\r\n     <g id=\"text_7\">\r\n      <!-- 100 -->\r\n      <g transform=\"translate(20.878125 200.753963)scale(0.1 -0.1)\">\r\n       <defs>\r\n        <path d=\"M 12.40625 8.296875 \r\nL 28.515625 8.296875 \r\nL 28.515625 63.921875 \r\nL 10.984375 60.40625 \r\nL 10.984375 69.390625 \r\nL 28.421875 72.90625 \r\nL 38.28125 72.90625 \r\nL 38.28125 8.296875 \r\nL 54.390625 8.296875 \r\nL 54.390625 0 \r\nL 12.40625 0 \r\nz\r\n\" id=\"DejaVuSans-49\"/>\r\n       </defs>\r\n       <use xlink:href=\"#DejaVuSans-49\"/>\r\n       <use x=\"63.623047\" xlink:href=\"#DejaVuSans-48\"/>\r\n       <use x=\"127.246094\" xlink:href=\"#DejaVuSans-48\"/>\r\n      </g>\r\n     </g>\r\n    </g>\r\n    <g id=\"ytick_3\">\r\n     <g id=\"line2d_8\">\r\n      <g>\r\n       <use style=\"stroke:#000000;stroke-width:0.8;\" x=\"46.965625\" xlink:href=\"#m0f86ee1ca6\" y=\"169.269488\"/>\r\n      </g>\r\n     </g>\r\n     <g id=\"text_8\">\r\n      <!-- 200 -->\r\n      <g transform=\"translate(20.878125 173.068707)scale(0.1 -0.1)\">\r\n       <use xlink:href=\"#DejaVuSans-50\"/>\r\n       <use x=\"63.623047\" xlink:href=\"#DejaVuSans-48\"/>\r\n       <use x=\"127.246094\" xlink:href=\"#DejaVuSans-48\"/>\r\n      </g>\r\n     </g>\r\n    </g>\r\n    <g id=\"ytick_4\">\r\n     <g id=\"line2d_9\">\r\n      <g>\r\n       <use style=\"stroke:#000000;stroke-width:0.8;\" x=\"46.965625\" xlink:href=\"#m0f86ee1ca6\" y=\"141.584232\"/>\r\n      </g>\r\n     </g>\r\n     <g id=\"text_9\">\r\n      <!-- 300 -->\r\n      <g transform=\"translate(20.878125 145.383451)scale(0.1 -0.1)\">\r\n       <defs>\r\n        <path d=\"M 40.578125 39.3125 \r\nQ 47.65625 37.796875 51.625 33 \r\nQ 55.609375 28.21875 55.609375 21.1875 \r\nQ 55.609375 10.40625 48.1875 4.484375 \r\nQ 40.765625 -1.421875 27.09375 -1.421875 \r\nQ 22.515625 -1.421875 17.65625 -0.515625 \r\nQ 12.796875 0.390625 7.625 2.203125 \r\nL 7.625 11.71875 \r\nQ 11.71875 9.328125 16.59375 8.109375 \r\nQ 21.484375 6.890625 26.8125 6.890625 \r\nQ 36.078125 6.890625 40.9375 10.546875 \r\nQ 45.796875 14.203125 45.796875 21.1875 \r\nQ 45.796875 27.640625 41.28125 31.265625 \r\nQ 36.765625 34.90625 28.71875 34.90625 \r\nL 20.21875 34.90625 \r\nL 20.21875 43.015625 \r\nL 29.109375 43.015625 \r\nQ 36.375 43.015625 40.234375 45.921875 \r\nQ 44.09375 48.828125 44.09375 54.296875 \r\nQ 44.09375 59.90625 40.109375 62.90625 \r\nQ 36.140625 65.921875 28.71875 65.921875 \r\nQ 24.65625 65.921875 20.015625 65.03125 \r\nQ 15.375 64.15625 9.8125 62.3125 \r\nL 9.8125 71.09375 \r\nQ 15.4375 72.65625 20.34375 73.4375 \r\nQ 25.25 74.21875 29.59375 74.21875 \r\nQ 40.828125 74.21875 47.359375 69.109375 \r\nQ 53.90625 64.015625 53.90625 55.328125 \r\nQ 53.90625 49.265625 50.4375 45.09375 \r\nQ 46.96875 40.921875 40.578125 39.3125 \r\nz\r\n\" id=\"DejaVuSans-51\"/>\r\n       </defs>\r\n       <use xlink:href=\"#DejaVuSans-51\"/>\r\n       <use x=\"63.623047\" xlink:href=\"#DejaVuSans-48\"/>\r\n       <use x=\"127.246094\" xlink:href=\"#DejaVuSans-48\"/>\r\n      </g>\r\n     </g>\r\n    </g>\r\n    <g id=\"ytick_5\">\r\n     <g id=\"line2d_10\">\r\n      <g>\r\n       <use style=\"stroke:#000000;stroke-width:0.8;\" x=\"46.965625\" xlink:href=\"#m0f86ee1ca6\" y=\"113.898976\"/>\r\n      </g>\r\n     </g>\r\n     <g id=\"text_10\">\r\n      <!-- 400 -->\r\n      <g transform=\"translate(20.878125 117.698195)scale(0.1 -0.1)\">\r\n       <use xlink:href=\"#DejaVuSans-52\"/>\r\n       <use x=\"63.623047\" xlink:href=\"#DejaVuSans-48\"/>\r\n       <use x=\"127.246094\" xlink:href=\"#DejaVuSans-48\"/>\r\n      </g>\r\n     </g>\r\n    </g>\r\n    <g id=\"ytick_6\">\r\n     <g id=\"line2d_11\">\r\n      <g>\r\n       <use style=\"stroke:#000000;stroke-width:0.8;\" x=\"46.965625\" xlink:href=\"#m0f86ee1ca6\" y=\"86.21372\"/>\r\n      </g>\r\n     </g>\r\n     <g id=\"text_11\">\r\n      <!-- 500 -->\r\n      <g transform=\"translate(20.878125 90.012939)scale(0.1 -0.1)\">\r\n       <defs>\r\n        <path d=\"M 10.796875 72.90625 \r\nL 49.515625 72.90625 \r\nL 49.515625 64.59375 \r\nL 19.828125 64.59375 \r\nL 19.828125 46.734375 \r\nQ 21.96875 47.46875 24.109375 47.828125 \r\nQ 26.265625 48.1875 28.421875 48.1875 \r\nQ 40.625 48.1875 47.75 41.5 \r\nQ 54.890625 34.8125 54.890625 23.390625 \r\nQ 54.890625 11.625 47.5625 5.09375 \r\nQ 40.234375 -1.421875 26.90625 -1.421875 \r\nQ 22.3125 -1.421875 17.546875 -0.640625 \r\nQ 12.796875 0.140625 7.71875 1.703125 \r\nL 7.71875 11.625 \r\nQ 12.109375 9.234375 16.796875 8.0625 \r\nQ 21.484375 6.890625 26.703125 6.890625 \r\nQ 35.15625 6.890625 40.078125 11.328125 \r\nQ 45.015625 15.765625 45.015625 23.390625 \r\nQ 45.015625 31 40.078125 35.4375 \r\nQ 35.15625 39.890625 26.703125 39.890625 \r\nQ 22.75 39.890625 18.8125 39.015625 \r\nQ 14.890625 38.140625 10.796875 36.28125 \r\nz\r\n\" id=\"DejaVuSans-53\"/>\r\n       </defs>\r\n       <use xlink:href=\"#DejaVuSans-53\"/>\r\n       <use x=\"63.623047\" xlink:href=\"#DejaVuSans-48\"/>\r\n       <use x=\"127.246094\" xlink:href=\"#DejaVuSans-48\"/>\r\n      </g>\r\n     </g>\r\n    </g>\r\n    <g id=\"ytick_7\">\r\n     <g id=\"line2d_12\">\r\n      <g>\r\n       <use style=\"stroke:#000000;stroke-width:0.8;\" x=\"46.965625\" xlink:href=\"#m0f86ee1ca6\" y=\"58.528464\"/>\r\n      </g>\r\n     </g>\r\n     <g id=\"text_12\">\r\n      <!-- 600 -->\r\n      <g transform=\"translate(20.878125 62.327683)scale(0.1 -0.1)\">\r\n       <use xlink:href=\"#DejaVuSans-54\"/>\r\n       <use x=\"63.623047\" xlink:href=\"#DejaVuSans-48\"/>\r\n       <use x=\"127.246094\" xlink:href=\"#DejaVuSans-48\"/>\r\n      </g>\r\n     </g>\r\n    </g>\r\n    <g id=\"ytick_8\">\r\n     <g id=\"line2d_13\">\r\n      <g>\r\n       <use style=\"stroke:#000000;stroke-width:0.8;\" x=\"46.965625\" xlink:href=\"#m0f86ee1ca6\" y=\"30.843209\"/>\r\n      </g>\r\n     </g>\r\n     <g id=\"text_13\">\r\n      <!-- 700 -->\r\n      <g transform=\"translate(20.878125 34.642427)scale(0.1 -0.1)\">\r\n       <defs>\r\n        <path d=\"M 8.203125 72.90625 \r\nL 55.078125 72.90625 \r\nL 55.078125 68.703125 \r\nL 28.609375 0 \r\nL 18.3125 0 \r\nL 43.21875 64.59375 \r\nL 8.203125 64.59375 \r\nz\r\n\" id=\"DejaVuSans-55\"/>\r\n       </defs>\r\n       <use xlink:href=\"#DejaVuSans-55\"/>\r\n       <use x=\"63.623047\" xlink:href=\"#DejaVuSans-48\"/>\r\n       <use x=\"127.246094\" xlink:href=\"#DejaVuSans-48\"/>\r\n      </g>\r\n     </g>\r\n    </g>\r\n    <g id=\"text_14\">\r\n     <!-- Frequency -->\r\n     <g transform=\"translate(14.798438 141.749687)rotate(-90)scale(0.1 -0.1)\">\r\n      <defs>\r\n       <path d=\"M 9.8125 72.90625 \r\nL 51.703125 72.90625 \r\nL 51.703125 64.59375 \r\nL 19.671875 64.59375 \r\nL 19.671875 43.109375 \r\nL 48.578125 43.109375 \r\nL 48.578125 34.8125 \r\nL 19.671875 34.8125 \r\nL 19.671875 0 \r\nL 9.8125 0 \r\nz\r\n\" id=\"DejaVuSans-70\"/>\r\n       <path d=\"M 41.109375 46.296875 \r\nQ 39.59375 47.171875 37.8125 47.578125 \r\nQ 36.03125 48 33.890625 48 \r\nQ 26.265625 48 22.1875 43.046875 \r\nQ 18.109375 38.09375 18.109375 28.8125 \r\nL 18.109375 0 \r\nL 9.078125 0 \r\nL 9.078125 54.6875 \r\nL 18.109375 54.6875 \r\nL 18.109375 46.1875 \r\nQ 20.953125 51.171875 25.484375 53.578125 \r\nQ 30.03125 56 36.53125 56 \r\nQ 37.453125 56 38.578125 55.875 \r\nQ 39.703125 55.765625 41.0625 55.515625 \r\nz\r\n\" id=\"DejaVuSans-114\"/>\r\n       <path d=\"M 56.203125 29.59375 \r\nL 56.203125 25.203125 \r\nL 14.890625 25.203125 \r\nQ 15.484375 15.921875 20.484375 11.0625 \r\nQ 25.484375 6.203125 34.421875 6.203125 \r\nQ 39.59375 6.203125 44.453125 7.46875 \r\nQ 49.3125 8.734375 54.109375 11.28125 \r\nL 54.109375 2.78125 \r\nQ 49.265625 0.734375 44.1875 -0.34375 \r\nQ 39.109375 -1.421875 33.890625 -1.421875 \r\nQ 20.796875 -1.421875 13.15625 6.1875 \r\nQ 5.515625 13.8125 5.515625 26.8125 \r\nQ 5.515625 40.234375 12.765625 48.109375 \r\nQ 20.015625 56 32.328125 56 \r\nQ 43.359375 56 49.78125 48.890625 \r\nQ 56.203125 41.796875 56.203125 29.59375 \r\nz\r\nM 47.21875 32.234375 \r\nQ 47.125 39.59375 43.09375 43.984375 \r\nQ 39.0625 48.390625 32.421875 48.390625 \r\nQ 24.90625 48.390625 20.390625 44.140625 \r\nQ 15.875 39.890625 15.1875 32.171875 \r\nz\r\n\" id=\"DejaVuSans-101\"/>\r\n       <path d=\"M 14.796875 27.296875 \r\nQ 14.796875 17.390625 18.875 11.75 \r\nQ 22.953125 6.109375 30.078125 6.109375 \r\nQ 37.203125 6.109375 41.296875 11.75 \r\nQ 45.40625 17.390625 45.40625 27.296875 \r\nQ 45.40625 37.203125 41.296875 42.84375 \r\nQ 37.203125 48.484375 30.078125 48.484375 \r\nQ 22.953125 48.484375 18.875 42.84375 \r\nQ 14.796875 37.203125 14.796875 27.296875 \r\nz\r\nM 45.40625 8.203125 \r\nQ 42.578125 3.328125 38.25 0.953125 \r\nQ 33.9375 -1.421875 27.875 -1.421875 \r\nQ 17.96875 -1.421875 11.734375 6.484375 \r\nQ 5.515625 14.40625 5.515625 27.296875 \r\nQ 5.515625 40.1875 11.734375 48.09375 \r\nQ 17.96875 56 27.875 56 \r\nQ 33.9375 56 38.25 53.625 \r\nQ 42.578125 51.265625 45.40625 46.390625 \r\nL 45.40625 54.6875 \r\nL 54.390625 54.6875 \r\nL 54.390625 -20.796875 \r\nL 45.40625 -20.796875 \r\nz\r\n\" id=\"DejaVuSans-113\"/>\r\n       <path d=\"M 8.5 21.578125 \r\nL 8.5 54.6875 \r\nL 17.484375 54.6875 \r\nL 17.484375 21.921875 \r\nQ 17.484375 14.15625 20.5 10.265625 \r\nQ 23.53125 6.390625 29.59375 6.390625 \r\nQ 36.859375 6.390625 41.078125 11.03125 \r\nQ 45.3125 15.671875 45.3125 23.6875 \r\nL 45.3125 54.6875 \r\nL 54.296875 54.6875 \r\nL 54.296875 0 \r\nL 45.3125 0 \r\nL 45.3125 8.40625 \r\nQ 42.046875 3.421875 37.71875 1 \r\nQ 33.40625 -1.421875 27.6875 -1.421875 \r\nQ 18.265625 -1.421875 13.375 4.4375 \r\nQ 8.5 10.296875 8.5 21.578125 \r\nz\r\nM 31.109375 56 \r\nz\r\n\" id=\"DejaVuSans-117\"/>\r\n       <path d=\"M 54.890625 33.015625 \r\nL 54.890625 0 \r\nL 45.90625 0 \r\nL 45.90625 32.71875 \r\nQ 45.90625 40.484375 42.875 44.328125 \r\nQ 39.84375 48.1875 33.796875 48.1875 \r\nQ 26.515625 48.1875 22.3125 43.546875 \r\nQ 18.109375 38.921875 18.109375 30.90625 \r\nL 18.109375 0 \r\nL 9.078125 0 \r\nL 9.078125 54.6875 \r\nL 18.109375 54.6875 \r\nL 18.109375 46.1875 \r\nQ 21.34375 51.125 25.703125 53.5625 \r\nQ 30.078125 56 35.796875 56 \r\nQ 45.21875 56 50.046875 50.171875 \r\nQ 54.890625 44.34375 54.890625 33.015625 \r\nz\r\n\" id=\"DejaVuSans-110\"/>\r\n       <path d=\"M 48.78125 52.59375 \r\nL 48.78125 44.1875 \r\nQ 44.96875 46.296875 41.140625 47.34375 \r\nQ 37.3125 48.390625 33.40625 48.390625 \r\nQ 24.65625 48.390625 19.8125 42.84375 \r\nQ 14.984375 37.3125 14.984375 27.296875 \r\nQ 14.984375 17.28125 19.8125 11.734375 \r\nQ 24.65625 6.203125 33.40625 6.203125 \r\nQ 37.3125 6.203125 41.140625 7.25 \r\nQ 44.96875 8.296875 48.78125 10.40625 \r\nL 48.78125 2.09375 \r\nQ 45.015625 0.34375 40.984375 -0.53125 \r\nQ 36.96875 -1.421875 32.421875 -1.421875 \r\nQ 20.0625 -1.421875 12.78125 6.34375 \r\nQ 5.515625 14.109375 5.515625 27.296875 \r\nQ 5.515625 40.671875 12.859375 48.328125 \r\nQ 20.21875 56 33.015625 56 \r\nQ 37.15625 56 41.109375 55.140625 \r\nQ 45.0625 54.296875 48.78125 52.59375 \r\nz\r\n\" id=\"DejaVuSans-99\"/>\r\n       <path d=\"M 32.171875 -5.078125 \r\nQ 28.375 -14.84375 24.75 -17.8125 \r\nQ 21.140625 -20.796875 15.09375 -20.796875 \r\nL 7.90625 -20.796875 \r\nL 7.90625 -13.28125 \r\nL 13.1875 -13.28125 \r\nQ 16.890625 -13.28125 18.9375 -11.515625 \r\nQ 21 -9.765625 23.484375 -3.21875 \r\nL 25.09375 0.875 \r\nL 2.984375 54.6875 \r\nL 12.5 54.6875 \r\nL 29.59375 11.921875 \r\nL 46.6875 54.6875 \r\nL 56.203125 54.6875 \r\nz\r\n\" id=\"DejaVuSans-121\"/>\r\n      </defs>\r\n      <use xlink:href=\"#DejaVuSans-70\"/>\r\n      <use x=\"50.269531\" xlink:href=\"#DejaVuSans-114\"/>\r\n      <use x=\"89.132812\" xlink:href=\"#DejaVuSans-101\"/>\r\n      <use x=\"150.65625\" xlink:href=\"#DejaVuSans-113\"/>\r\n      <use x=\"214.132812\" xlink:href=\"#DejaVuSans-117\"/>\r\n      <use x=\"277.511719\" xlink:href=\"#DejaVuSans-101\"/>\r\n      <use x=\"339.035156\" xlink:href=\"#DejaVuSans-110\"/>\r\n      <use x=\"402.414062\" xlink:href=\"#DejaVuSans-99\"/>\r\n      <use x=\"457.394531\" xlink:href=\"#DejaVuSans-121\"/>\r\n     </g>\r\n    </g>\r\n   </g>\r\n   <g id=\"patch_103\">\r\n    <path d=\"M 46.965625 224.64 \r\nL 46.965625 7.2 \r\n\" style=\"fill:none;stroke:#000000;stroke-linecap:square;stroke-linejoin:miter;stroke-width:0.8;\"/>\r\n   </g>\r\n   <g id=\"patch_104\">\r\n    <path d=\"M 381.765625 224.64 \r\nL 381.765625 7.2 \r\n\" style=\"fill:none;stroke:#000000;stroke-linecap:square;stroke-linejoin:miter;stroke-width:0.8;\"/>\r\n   </g>\r\n   <g id=\"patch_105\">\r\n    <path d=\"M 46.965625 224.64 \r\nL 381.765625 224.64 \r\n\" style=\"fill:none;stroke:#000000;stroke-linecap:square;stroke-linejoin:miter;stroke-width:0.8;\"/>\r\n   </g>\r\n   <g id=\"patch_106\">\r\n    <path d=\"M 46.965625 7.2 \r\nL 381.765625 7.2 \r\n\" style=\"fill:none;stroke:#000000;stroke-linecap:square;stroke-linejoin:miter;stroke-width:0.8;\"/>\r\n   </g>\r\n  </g>\r\n </g>\r\n <defs>\r\n  <clipPath id=\"pc877751ef7\">\r\n   <rect height=\"217.44\" width=\"334.8\" x=\"46.965625\" y=\"7.2\"/>\r\n  </clipPath>\r\n </defs>\r\n</svg>\r\n",
      "image/png": "[encoded data removed]"
     },
     "metadata": {
      "needs_background": "light"
     }
    }
   ],
   "source": [
    "mensajesdf[\"Longitud\"].plot.hist(bins=100)"
   ]
  },
  {
   "cell_type": "code",
   "execution_count": 14,
   "metadata": {},
   "outputs": [
    {
     "output_type": "execute_result",
     "data": {
      "text/plain": [
       "count    5572.000000\n",
       "mean       80.489950\n",
       "std        59.942907\n",
       "min         2.000000\n",
       "25%        36.000000\n",
       "50%        62.000000\n",
       "75%       122.000000\n",
       "max       910.000000\n",
       "Name: Longitud, dtype: float64"
      ]
     },
     "metadata": {},
     "execution_count": 14
    }
   ],
   "source": [
    "mensajesdf[\"Longitud\"].describe()"
   ]
  },
  {
   "cell_type": "code",
   "execution_count": 15,
   "metadata": {},
   "outputs": [
    {
     "output_type": "execute_result",
     "data": {
      "text/plain": [
       "1085    For me the love should start with attraction.i...\n",
       "Name: Mensaje, dtype: object"
      ]
     },
     "metadata": {},
     "execution_count": 15
    }
   ],
   "source": [
    "mensajesdf[mensajesdf[\"Longitud\"] == 910][\"Mensaje\"]"
   ]
  },
  {
   "cell_type": "code",
   "execution_count": 16,
   "metadata": {},
   "outputs": [
    {
     "output_type": "execute_result",
     "data": {
      "text/plain": [
       "array([<AxesSubplot:title={'center':'ham'}>,\n",
       "       <AxesSubplot:title={'center':'spam'}>], dtype=object)"
      ]
     },
     "metadata": {},
     "execution_count": 16
    },
    {
     "output_type": "display_data",
     "data": {
      "text/plain": "<Figure size 720x360 with 2 Axes>",
      "image/svg+xml": "<?xml version=\"1.0\" encoding=\"utf-8\" standalone=\"no\"?>\r\n<!DOCTYPE svg PUBLIC \"-//W3C//DTD SVG 1.1//EN\"\r\n  \"http://www.w3.org/Graphics/SVG/1.1/DTD/svg11.dtd\">\r\n<!-- Created with matplotlib (https://matplotlib.org/) -->\r\n<svg height=\"325.605625pt\" version=\"1.1\" viewBox=\"0 0 616.4875 325.605625\" width=\"616.4875pt\" xmlns=\"http://www.w3.org/2000/svg\" xmlns:xlink=\"http://www.w3.org/1999/xlink\">\r\n <metadata>\r\n  <rdf:RDF xmlns:cc=\"http://creativecommons.org/ns#\" xmlns:dc=\"http://purl.org/dc/elements/1.1/\" xmlns:rdf=\"http://www.w3.org/1999/02/22-rdf-syntax-ns#\">\r\n   <cc:Work>\r\n    <dc:type rdf:resource=\"http://purl.org/dc/dcmitype/StillImage\"/>\r\n    <dc:date>2021-03-12T00:17:18.393232</dc:date>\r\n    <dc:format>image/svg+xml</dc:format>\r\n    <dc:creator>\r\n     <cc:Agent>\r\n      <dc:title>Matplotlib v3.3.3, https://matplotlib.org/</dc:title>\r\n     </cc:Agent>\r\n    </dc:creator>\r\n   </cc:Work>\r\n  </rdf:RDF>\r\n </metadata>\r\n <defs>\r\n  <style type=\"text/css\">*{stroke-linecap:butt;stroke-linejoin:round;}</style>\r\n </defs>\r\n <g id=\"figure_1\">\r\n  <g id=\"patch_1\">\r\n   <path d=\"M 0 325.605625 \r\nL 616.4875 325.605625 \r\nL 616.4875 0 \r\nL 0 0 \r\nz\r\n\" style=\"fill:none;\"/>\r\n  </g>\r\n  <g id=\"axes_1\">\r\n   <g id=\"patch_2\">\r\n    <path d=\"M 33.2875 292.318125 \r\nL 283.722283 292.318125 \r\nL 283.722283 22.318125 \r\nL 33.2875 22.318125 \r\nz\r\n\" style=\"fill:#ffffff;\"/>\r\n   </g>\r\n   <g id=\"patch_3\">\r\n    <path clip-path=\"url(#p74952520c9)\" d=\"M 44.670899 292.318125 \r\nL 46.947579 292.318125 \r\nL 46.947579 269.254442 \r\nL 44.670899 269.254442 \r\nz\r\n\" style=\"fill:#1f77b4;\"/>\r\n   </g>\r\n   <g id=\"patch_4\">\r\n    <path clip-path=\"url(#p74952520c9)\" d=\"M 46.947579 292.318125 \r\nL 49.224259 292.318125 \r\nL 49.224259 258.927419 \r\nL 46.947579 258.927419 \r\nz\r\n\" style=\"fill:#1f77b4;\"/>\r\n   </g>\r\n   <g id=\"patch_5\">\r\n    <path clip-path=\"url(#p74952520c9)\" d=\"M 49.224259 292.318125 \r\nL 51.500939 292.318125 \r\nL 51.500939 35.175268 \r\nL 49.224259 35.175268 \r\nz\r\n\" style=\"fill:#1f77b4;\"/>\r\n   </g>\r\n   <g id=\"patch_6\">\r\n    <path clip-path=\"url(#p74952520c9)\" d=\"M 51.500939 292.318125 \r\nL 53.777619 292.318125 \r\nL 53.777619 50.321567 \r\nL 51.500939 50.321567 \r\nz\r\n\" style=\"fill:#1f77b4;\"/>\r\n   </g>\r\n   <g id=\"patch_7\">\r\n    <path clip-path=\"url(#p74952520c9)\" d=\"M 53.777619 292.318125 \r\nL 56.054298 292.318125 \r\nL 56.054298 102.300913 \r\nL 53.777619 102.300913 \r\nz\r\n\" style=\"fill:#1f77b4;\"/>\r\n   </g>\r\n   <g id=\"patch_8\">\r\n    <path clip-path=\"url(#p74952520c9)\" d=\"M 56.054298 292.318125 \r\nL 58.330978 292.318125 \r\nL 58.330978 143.609003 \r\nL 56.054298 143.609003 \r\nz\r\n\" style=\"fill:#1f77b4;\"/>\r\n   </g>\r\n   <g id=\"patch_9\">\r\n    <path clip-path=\"url(#p74952520c9)\" d=\"M 58.330978 292.318125 \r\nL 60.607658 292.318125 \r\nL 60.607658 188.359433 \r\nL 58.330978 188.359433 \r\nz\r\n\" style=\"fill:#1f77b4;\"/>\r\n   </g>\r\n   <g id=\"patch_10\">\r\n    <path clip-path=\"url(#p74952520c9)\" d=\"M 60.607658 292.318125 \r\nL 62.884338 292.318125 \r\nL 62.884338 193.522944 \r\nL 60.607658 193.522944 \r\nz\r\n\" style=\"fill:#1f77b4;\"/>\r\n   </g>\r\n   <g id=\"patch_11\">\r\n    <path clip-path=\"url(#p74952520c9)\" d=\"M 62.884338 292.318125 \r\nL 65.161018 292.318125 \r\nL 65.161018 215.209691 \r\nL 62.884338 215.209691 \r\nz\r\n\" style=\"fill:#1f77b4;\"/>\r\n   </g>\r\n   <g id=\"patch_12\">\r\n    <path clip-path=\"url(#p74952520c9)\" d=\"M 65.161018 292.318125 \r\nL 67.437698 292.318125 \r\nL 67.437698 222.094373 \r\nL 65.161018 222.094373 \r\nz\r\n\" style=\"fill:#1f77b4;\"/>\r\n   </g>\r\n   <g id=\"patch_13\">\r\n    <path clip-path=\"url(#p74952520c9)\" d=\"M 67.437698 292.318125 \r\nL 69.714377 292.318125 \r\nL 69.714377 246.879227 \r\nL 67.437698 246.879227 \r\nz\r\n\" style=\"fill:#1f77b4;\"/>\r\n   </g>\r\n   <g id=\"patch_14\">\r\n    <path clip-path=\"url(#p74952520c9)\" d=\"M 69.714377 292.318125 \r\nL 71.991057 292.318125 \r\nL 71.991057 248.944631 \r\nL 69.714377 248.944631 \r\nz\r\n\" style=\"fill:#1f77b4;\"/>\r\n   </g>\r\n   <g id=\"patch_15\">\r\n    <path clip-path=\"url(#p74952520c9)\" d=\"M 71.991057 292.318125 \r\nL 74.267737 292.318125 \r\nL 74.267737 246.534992 \r\nL 71.991057 246.534992 \r\nz\r\n\" style=\"fill:#1f77b4;\"/>\r\n   </g>\r\n   <g id=\"patch_16\">\r\n    <path clip-path=\"url(#p74952520c9)\" d=\"M 74.267737 292.318125 \r\nL 76.544417 292.318125 \r\nL 76.544417 248.944631 \r\nL 74.267737 248.944631 \r\nz\r\n\" style=\"fill:#1f77b4;\"/>\r\n   </g>\r\n   <g id=\"patch_17\">\r\n    <path clip-path=\"url(#p74952520c9)\" d=\"M 76.544417 292.318125 \r\nL 78.821097 292.318125 \r\nL 78.821097 254.108142 \r\nL 76.544417 254.108142 \r\nz\r\n\" style=\"fill:#1f77b4;\"/>\r\n   </g>\r\n   <g id=\"patch_18\">\r\n    <path clip-path=\"url(#p74952520c9)\" d=\"M 78.821097 292.318125 \r\nL 81.097777 292.318125 \r\nL 81.097777 254.79661 \r\nL 78.821097 254.79661 \r\nz\r\n\" style=\"fill:#1f77b4;\"/>\r\n   </g>\r\n   <g id=\"patch_19\">\r\n    <path clip-path=\"url(#p74952520c9)\" d=\"M 81.097777 292.318125 \r\nL 83.374457 292.318125 \r\nL 83.374457 235.863736 \r\nL 81.097777 235.863736 \r\nz\r\n\" style=\"fill:#1f77b4;\"/>\r\n   </g>\r\n   <g id=\"patch_20\">\r\n    <path clip-path=\"url(#p74952520c9)\" d=\"M 83.374457 292.318125 \r\nL 85.651136 292.318125 \r\nL 85.651136 251.698504 \r\nL 83.374457 251.698504 \r\nz\r\n\" style=\"fill:#1f77b4;\"/>\r\n   </g>\r\n   <g id=\"patch_21\">\r\n    <path clip-path=\"url(#p74952520c9)\" d=\"M 85.651136 292.318125 \r\nL 87.927816 292.318125 \r\nL 87.927816 281.646869 \r\nL 85.651136 281.646869 \r\nz\r\n\" style=\"fill:#1f77b4;\"/>\r\n   </g>\r\n   <g id=\"patch_22\">\r\n    <path clip-path=\"url(#p74952520c9)\" d=\"M 87.927816 292.318125 \r\nL 90.204496 292.318125 \r\nL 90.204496 283.712273 \r\nL 87.927816 283.712273 \r\nz\r\n\" style=\"fill:#1f77b4;\"/>\r\n   </g>\r\n   <g id=\"patch_23\">\r\n    <path clip-path=\"url(#p74952520c9)\" d=\"M 90.204496 292.318125 \r\nL 92.481176 292.318125 \r\nL 92.481176 287.498848 \r\nL 90.204496 287.498848 \r\nz\r\n\" style=\"fill:#1f77b4;\"/>\r\n   </g>\r\n   <g id=\"patch_24\">\r\n    <path clip-path=\"url(#p74952520c9)\" d=\"M 92.481176 292.318125 \r\nL 94.757856 292.318125 \r\nL 94.757856 288.53155 \r\nL 92.481176 288.53155 \r\nz\r\n\" style=\"fill:#1f77b4;\"/>\r\n   </g>\r\n   <g id=\"patch_25\">\r\n    <path clip-path=\"url(#p74952520c9)\" d=\"M 94.757856 292.318125 \r\nL 97.034536 292.318125 \r\nL 97.034536 288.187316 \r\nL 94.757856 288.187316 \r\nz\r\n\" style=\"fill:#1f77b4;\"/>\r\n   </g>\r\n   <g id=\"patch_26\">\r\n    <path clip-path=\"url(#p74952520c9)\" d=\"M 97.034536 292.318125 \r\nL 99.311215 292.318125 \r\nL 99.311215 291.285423 \r\nL 97.034536 291.285423 \r\nz\r\n\" style=\"fill:#1f77b4;\"/>\r\n   </g>\r\n   <g id=\"patch_27\">\r\n    <path clip-path=\"url(#p74952520c9)\" d=\"M 99.311215 292.318125 \r\nL 101.587895 292.318125 \r\nL 101.587895 289.908486 \r\nL 99.311215 289.908486 \r\nz\r\n\" style=\"fill:#1f77b4;\"/>\r\n   </g>\r\n   <g id=\"patch_28\">\r\n    <path clip-path=\"url(#p74952520c9)\" d=\"M 101.587895 292.318125 \r\nL 103.864575 292.318125 \r\nL 103.864575 288.875784 \r\nL 101.587895 288.875784 \r\nz\r\n\" style=\"fill:#1f77b4;\"/>\r\n   </g>\r\n   <g id=\"patch_29\">\r\n    <path clip-path=\"url(#p74952520c9)\" d=\"M 103.864575 292.318125 \r\nL 106.141255 292.318125 \r\nL 106.141255 289.564252 \r\nL 103.864575 289.564252 \r\nz\r\n\" style=\"fill:#1f77b4;\"/>\r\n   </g>\r\n   <g id=\"patch_30\">\r\n    <path clip-path=\"url(#p74952520c9)\" d=\"M 106.141255 292.318125 \r\nL 108.417935 292.318125 \r\nL 108.417935 290.941189 \r\nL 106.141255 290.941189 \r\nz\r\n\" style=\"fill:#1f77b4;\"/>\r\n   </g>\r\n   <g id=\"patch_31\">\r\n    <path clip-path=\"url(#p74952520c9)\" d=\"M 108.417935 292.318125 \r\nL 110.694615 292.318125 \r\nL 110.694615 291.285423 \r\nL 108.417935 291.285423 \r\nz\r\n\" style=\"fill:#1f77b4;\"/>\r\n   </g>\r\n   <g id=\"patch_32\">\r\n    <path clip-path=\"url(#p74952520c9)\" d=\"M 110.694615 292.318125 \r\nL 112.971294 292.318125 \r\nL 112.971294 291.629657 \r\nL 110.694615 291.629657 \r\nz\r\n\" style=\"fill:#1f77b4;\"/>\r\n   </g>\r\n   <g id=\"patch_33\">\r\n    <path clip-path=\"url(#p74952520c9)\" d=\"M 112.971294 292.318125 \r\nL 115.247974 292.318125 \r\nL 115.247974 288.875784 \r\nL 112.971294 288.875784 \r\nz\r\n\" style=\"fill:#1f77b4;\"/>\r\n   </g>\r\n   <g id=\"patch_34\">\r\n    <path clip-path=\"url(#p74952520c9)\" d=\"M 115.247974 292.318125 \r\nL 117.524654 292.318125 \r\nL 117.524654 290.941189 \r\nL 115.247974 290.941189 \r\nz\r\n\" style=\"fill:#1f77b4;\"/>\r\n   </g>\r\n   <g id=\"patch_35\">\r\n    <path clip-path=\"url(#p74952520c9)\" d=\"M 117.524654 292.318125 \r\nL 119.801334 292.318125 \r\nL 119.801334 289.908486 \r\nL 117.524654 289.908486 \r\nz\r\n\" style=\"fill:#1f77b4;\"/>\r\n   </g>\r\n   <g id=\"patch_36\">\r\n    <path clip-path=\"url(#p74952520c9)\" d=\"M 119.801334 292.318125 \r\nL 122.078014 292.318125 \r\nL 122.078014 291.973891 \r\nL 119.801334 291.973891 \r\nz\r\n\" style=\"fill:#1f77b4;\"/>\r\n   </g>\r\n   <g id=\"patch_37\">\r\n    <path clip-path=\"url(#p74952520c9)\" d=\"M 122.078014 292.318125 \r\nL 124.354694 292.318125 \r\nL 124.354694 291.629657 \r\nL 122.078014 291.629657 \r\nz\r\n\" style=\"fill:#1f77b4;\"/>\r\n   </g>\r\n   <g id=\"patch_38\">\r\n    <path clip-path=\"url(#p74952520c9)\" d=\"M 124.354694 292.318125 \r\nL 126.631374 292.318125 \r\nL 126.631374 289.908486 \r\nL 124.354694 289.908486 \r\nz\r\n\" style=\"fill:#1f77b4;\"/>\r\n   </g>\r\n   <g id=\"patch_39\">\r\n    <path clip-path=\"url(#p74952520c9)\" d=\"M 126.631374 292.318125 \r\nL 128.908053 292.318125 \r\nL 128.908053 290.941189 \r\nL 126.631374 290.941189 \r\nz\r\n\" style=\"fill:#1f77b4;\"/>\r\n   </g>\r\n   <g id=\"patch_40\">\r\n    <path clip-path=\"url(#p74952520c9)\" d=\"M 128.908053 292.318125 \r\nL 131.184733 292.318125 \r\nL 131.184733 291.973891 \r\nL 128.908053 291.973891 \r\nz\r\n\" style=\"fill:#1f77b4;\"/>\r\n   </g>\r\n   <g id=\"patch_41\">\r\n    <path clip-path=\"url(#p74952520c9)\" d=\"M 131.184733 292.318125 \r\nL 133.461413 292.318125 \r\nL 133.461413 291.973891 \r\nL 131.184733 291.973891 \r\nz\r\n\" style=\"fill:#1f77b4;\"/>\r\n   </g>\r\n   <g id=\"patch_42\">\r\n    <path clip-path=\"url(#p74952520c9)\" d=\"M 133.461413 292.318125 \r\nL 135.738093 292.318125 \r\nL 135.738093 291.973891 \r\nL 133.461413 291.973891 \r\nz\r\n\" style=\"fill:#1f77b4;\"/>\r\n   </g>\r\n   <g id=\"patch_43\">\r\n    <path clip-path=\"url(#p74952520c9)\" d=\"M 135.738093 292.318125 \r\nL 138.014773 292.318125 \r\nL 138.014773 291.629657 \r\nL 135.738093 291.629657 \r\nz\r\n\" style=\"fill:#1f77b4;\"/>\r\n   </g>\r\n   <g id=\"patch_44\">\r\n    <path clip-path=\"url(#p74952520c9)\" d=\"M 138.014773 292.318125 \r\nL 140.291453 292.318125 \r\nL 140.291453 291.285423 \r\nL 138.014773 291.285423 \r\nz\r\n\" style=\"fill:#1f77b4;\"/>\r\n   </g>\r\n   <g id=\"patch_45\">\r\n    <path clip-path=\"url(#p74952520c9)\" d=\"M 140.291453 292.318125 \r\nL 142.568132 292.318125 \r\nL 142.568132 291.973891 \r\nL 140.291453 291.973891 \r\nz\r\n\" style=\"fill:#1f77b4;\"/>\r\n   </g>\r\n   <g id=\"patch_46\">\r\n    <path clip-path=\"url(#p74952520c9)\" d=\"M 142.568132 292.318125 \r\nL 144.844812 292.318125 \r\nL 144.844812 292.318125 \r\nL 142.568132 292.318125 \r\nz\r\n\" style=\"fill:#1f77b4;\"/>\r\n   </g>\r\n   <g id=\"patch_47\">\r\n    <path clip-path=\"url(#p74952520c9)\" d=\"M 144.844812 292.318125 \r\nL 147.121492 292.318125 \r\nL 147.121492 291.973891 \r\nL 144.844812 291.973891 \r\nz\r\n\" style=\"fill:#1f77b4;\"/>\r\n   </g>\r\n   <g id=\"patch_48\">\r\n    <path clip-path=\"url(#p74952520c9)\" d=\"M 147.121492 292.318125 \r\nL 149.398172 292.318125 \r\nL 149.398172 291.973891 \r\nL 147.121492 291.973891 \r\nz\r\n\" style=\"fill:#1f77b4;\"/>\r\n   </g>\r\n   <g id=\"patch_49\">\r\n    <path clip-path=\"url(#p74952520c9)\" d=\"M 149.398172 292.318125 \r\nL 151.674852 292.318125 \r\nL 151.674852 292.318125 \r\nL 149.398172 292.318125 \r\nz\r\n\" style=\"fill:#1f77b4;\"/>\r\n   </g>\r\n   <g id=\"patch_50\">\r\n    <path clip-path=\"url(#p74952520c9)\" d=\"M 151.674852 292.318125 \r\nL 153.951532 292.318125 \r\nL 153.951532 291.973891 \r\nL 151.674852 291.973891 \r\nz\r\n\" style=\"fill:#1f77b4;\"/>\r\n   </g>\r\n   <g id=\"patch_51\">\r\n    <path clip-path=\"url(#p74952520c9)\" d=\"M 153.951532 292.318125 \r\nL 156.228211 292.318125 \r\nL 156.228211 290.596955 \r\nL 153.951532 290.596955 \r\nz\r\n\" style=\"fill:#1f77b4;\"/>\r\n   </g>\r\n   <g id=\"patch_52\">\r\n    <path clip-path=\"url(#p74952520c9)\" d=\"M 156.228211 292.318125 \r\nL 158.504891 292.318125 \r\nL 158.504891 292.318125 \r\nL 156.228211 292.318125 \r\nz\r\n\" style=\"fill:#1f77b4;\"/>\r\n   </g>\r\n   <g id=\"patch_53\">\r\n    <path clip-path=\"url(#p74952520c9)\" d=\"M 158.504891 292.318125 \r\nL 160.781571 292.318125 \r\nL 160.781571 291.629657 \r\nL 158.504891 291.629657 \r\nz\r\n\" style=\"fill:#1f77b4;\"/>\r\n   </g>\r\n   <g id=\"patch_54\">\r\n    <path clip-path=\"url(#p74952520c9)\" d=\"M 160.781571 292.318125 \r\nL 163.058251 292.318125 \r\nL 163.058251 292.318125 \r\nL 160.781571 292.318125 \r\nz\r\n\" style=\"fill:#1f77b4;\"/>\r\n   </g>\r\n   <g id=\"patch_55\">\r\n    <path clip-path=\"url(#p74952520c9)\" d=\"M 163.058251 292.318125 \r\nL 165.334931 292.318125 \r\nL 165.334931 291.973891 \r\nL 163.058251 291.973891 \r\nz\r\n\" style=\"fill:#1f77b4;\"/>\r\n   </g>\r\n   <g id=\"patch_56\">\r\n    <path clip-path=\"url(#p74952520c9)\" d=\"M 165.334931 292.318125 \r\nL 167.611611 292.318125 \r\nL 167.611611 292.318125 \r\nL 165.334931 292.318125 \r\nz\r\n\" style=\"fill:#1f77b4;\"/>\r\n   </g>\r\n   <g id=\"patch_57\">\r\n    <path clip-path=\"url(#p74952520c9)\" d=\"M 167.611611 292.318125 \r\nL 169.888291 292.318125 \r\nL 169.888291 292.318125 \r\nL 167.611611 292.318125 \r\nz\r\n\" style=\"fill:#1f77b4;\"/>\r\n   </g>\r\n   <g id=\"patch_58\">\r\n    <path clip-path=\"url(#p74952520c9)\" d=\"M 169.888291 292.318125 \r\nL 172.16497 292.318125 \r\nL 172.16497 292.318125 \r\nL 169.888291 292.318125 \r\nz\r\n\" style=\"fill:#1f77b4;\"/>\r\n   </g>\r\n   <g id=\"patch_59\">\r\n    <path clip-path=\"url(#p74952520c9)\" d=\"M 172.16497 292.318125 \r\nL 174.44165 292.318125 \r\nL 174.44165 292.318125 \r\nL 172.16497 292.318125 \r\nz\r\n\" style=\"fill:#1f77b4;\"/>\r\n   </g>\r\n   <g id=\"patch_60\">\r\n    <path clip-path=\"url(#p74952520c9)\" d=\"M 174.44165 292.318125 \r\nL 176.71833 292.318125 \r\nL 176.71833 292.318125 \r\nL 174.44165 292.318125 \r\nz\r\n\" style=\"fill:#1f77b4;\"/>\r\n   </g>\r\n   <g id=\"patch_61\">\r\n    <path clip-path=\"url(#p74952520c9)\" d=\"M 176.71833 292.318125 \r\nL 178.99501 292.318125 \r\nL 178.99501 292.318125 \r\nL 176.71833 292.318125 \r\nz\r\n\" style=\"fill:#1f77b4;\"/>\r\n   </g>\r\n   <g id=\"patch_62\">\r\n    <path clip-path=\"url(#p74952520c9)\" d=\"M 178.99501 292.318125 \r\nL 181.27169 292.318125 \r\nL 181.27169 292.318125 \r\nL 178.99501 292.318125 \r\nz\r\n\" style=\"fill:#1f77b4;\"/>\r\n   </g>\r\n   <g id=\"patch_63\">\r\n    <path clip-path=\"url(#p74952520c9)\" d=\"M 181.27169 292.318125 \r\nL 183.54837 292.318125 \r\nL 183.54837 292.318125 \r\nL 181.27169 292.318125 \r\nz\r\n\" style=\"fill:#1f77b4;\"/>\r\n   </g>\r\n   <g id=\"patch_64\">\r\n    <path clip-path=\"url(#p74952520c9)\" d=\"M 183.54837 292.318125 \r\nL 185.825049 292.318125 \r\nL 185.825049 292.318125 \r\nL 183.54837 292.318125 \r\nz\r\n\" style=\"fill:#1f77b4;\"/>\r\n   </g>\r\n   <g id=\"patch_65\">\r\n    <path clip-path=\"url(#p74952520c9)\" d=\"M 185.825049 292.318125 \r\nL 188.101729 292.318125 \r\nL 188.101729 292.318125 \r\nL 185.825049 292.318125 \r\nz\r\n\" style=\"fill:#1f77b4;\"/>\r\n   </g>\r\n   <g id=\"patch_66\">\r\n    <path clip-path=\"url(#p74952520c9)\" d=\"M 188.101729 292.318125 \r\nL 190.378409 292.318125 \r\nL 190.378409 292.318125 \r\nL 188.101729 292.318125 \r\nz\r\n\" style=\"fill:#1f77b4;\"/>\r\n   </g>\r\n   <g id=\"patch_67\">\r\n    <path clip-path=\"url(#p74952520c9)\" d=\"M 190.378409 292.318125 \r\nL 192.655089 292.318125 \r\nL 192.655089 291.629657 \r\nL 190.378409 291.629657 \r\nz\r\n\" style=\"fill:#1f77b4;\"/>\r\n   </g>\r\n   <g id=\"patch_68\">\r\n    <path clip-path=\"url(#p74952520c9)\" d=\"M 192.655089 292.318125 \r\nL 194.931769 292.318125 \r\nL 194.931769 292.318125 \r\nL 192.655089 292.318125 \r\nz\r\n\" style=\"fill:#1f77b4;\"/>\r\n   </g>\r\n   <g id=\"patch_69\">\r\n    <path clip-path=\"url(#p74952520c9)\" d=\"M 194.931769 292.318125 \r\nL 197.208449 292.318125 \r\nL 197.208449 292.318125 \r\nL 194.931769 292.318125 \r\nz\r\n\" style=\"fill:#1f77b4;\"/>\r\n   </g>\r\n   <g id=\"patch_70\">\r\n    <path clip-path=\"url(#p74952520c9)\" d=\"M 197.208449 292.318125 \r\nL 199.485128 292.318125 \r\nL 199.485128 291.973891 \r\nL 197.208449 291.973891 \r\nz\r\n\" style=\"fill:#1f77b4;\"/>\r\n   </g>\r\n   <g id=\"patch_71\">\r\n    <path clip-path=\"url(#p74952520c9)\" d=\"M 199.485128 292.318125 \r\nL 201.761808 292.318125 \r\nL 201.761808 292.318125 \r\nL 199.485128 292.318125 \r\nz\r\n\" style=\"fill:#1f77b4;\"/>\r\n   </g>\r\n   <g id=\"patch_72\">\r\n    <path clip-path=\"url(#p74952520c9)\" d=\"M 201.761808 292.318125 \r\nL 204.038488 292.318125 \r\nL 204.038488 291.973891 \r\nL 201.761808 291.973891 \r\nz\r\n\" style=\"fill:#1f77b4;\"/>\r\n   </g>\r\n   <g id=\"patch_73\">\r\n    <path clip-path=\"url(#p74952520c9)\" d=\"M 204.038488 292.318125 \r\nL 206.315168 292.318125 \r\nL 206.315168 292.318125 \r\nL 204.038488 292.318125 \r\nz\r\n\" style=\"fill:#1f77b4;\"/>\r\n   </g>\r\n   <g id=\"patch_74\">\r\n    <path clip-path=\"url(#p74952520c9)\" d=\"M 206.315168 292.318125 \r\nL 208.591848 292.318125 \r\nL 208.591848 292.318125 \r\nL 206.315168 292.318125 \r\nz\r\n\" style=\"fill:#1f77b4;\"/>\r\n   </g>\r\n   <g id=\"patch_75\">\r\n    <path clip-path=\"url(#p74952520c9)\" d=\"M 208.591848 292.318125 \r\nL 210.868528 292.318125 \r\nL 210.868528 292.318125 \r\nL 208.591848 292.318125 \r\nz\r\n\" style=\"fill:#1f77b4;\"/>\r\n   </g>\r\n   <g id=\"patch_76\">\r\n    <path clip-path=\"url(#p74952520c9)\" d=\"M 210.868528 292.318125 \r\nL 213.145208 292.318125 \r\nL 213.145208 292.318125 \r\nL 210.868528 292.318125 \r\nz\r\n\" style=\"fill:#1f77b4;\"/>\r\n   </g>\r\n   <g id=\"patch_77\">\r\n    <path clip-path=\"url(#p74952520c9)\" d=\"M 213.145208 292.318125 \r\nL 215.421887 292.318125 \r\nL 215.421887 292.318125 \r\nL 213.145208 292.318125 \r\nz\r\n\" style=\"fill:#1f77b4;\"/>\r\n   </g>\r\n   <g id=\"patch_78\">\r\n    <path clip-path=\"url(#p74952520c9)\" d=\"M 215.421887 292.318125 \r\nL 217.698567 292.318125 \r\nL 217.698567 292.318125 \r\nL 215.421887 292.318125 \r\nz\r\n\" style=\"fill:#1f77b4;\"/>\r\n   </g>\r\n   <g id=\"patch_79\">\r\n    <path clip-path=\"url(#p74952520c9)\" d=\"M 217.698567 292.318125 \r\nL 219.975247 292.318125 \r\nL 219.975247 292.318125 \r\nL 217.698567 292.318125 \r\nz\r\n\" style=\"fill:#1f77b4;\"/>\r\n   </g>\r\n   <g id=\"patch_80\">\r\n    <path clip-path=\"url(#p74952520c9)\" d=\"M 219.975247 292.318125 \r\nL 222.251927 292.318125 \r\nL 222.251927 292.318125 \r\nL 219.975247 292.318125 \r\nz\r\n\" style=\"fill:#1f77b4;\"/>\r\n   </g>\r\n   <g id=\"patch_81\">\r\n    <path clip-path=\"url(#p74952520c9)\" d=\"M 222.251927 292.318125 \r\nL 224.528607 292.318125 \r\nL 224.528607 292.318125 \r\nL 222.251927 292.318125 \r\nz\r\n\" style=\"fill:#1f77b4;\"/>\r\n   </g>\r\n   <g id=\"patch_82\">\r\n    <path clip-path=\"url(#p74952520c9)\" d=\"M 224.528607 292.318125 \r\nL 226.805287 292.318125 \r\nL 226.805287 292.318125 \r\nL 224.528607 292.318125 \r\nz\r\n\" style=\"fill:#1f77b4;\"/>\r\n   </g>\r\n   <g id=\"patch_83\">\r\n    <path clip-path=\"url(#p74952520c9)\" d=\"M 226.805287 292.318125 \r\nL 229.081966 292.318125 \r\nL 229.081966 292.318125 \r\nL 226.805287 292.318125 \r\nz\r\n\" style=\"fill:#1f77b4;\"/>\r\n   </g>\r\n   <g id=\"patch_84\">\r\n    <path clip-path=\"url(#p74952520c9)\" d=\"M 229.081966 292.318125 \r\nL 231.358646 292.318125 \r\nL 231.358646 292.318125 \r\nL 229.081966 292.318125 \r\nz\r\n\" style=\"fill:#1f77b4;\"/>\r\n   </g>\r\n   <g id=\"patch_85\">\r\n    <path clip-path=\"url(#p74952520c9)\" d=\"M 231.358646 292.318125 \r\nL 233.635326 292.318125 \r\nL 233.635326 292.318125 \r\nL 231.358646 292.318125 \r\nz\r\n\" style=\"fill:#1f77b4;\"/>\r\n   </g>\r\n   <g id=\"patch_86\">\r\n    <path clip-path=\"url(#p74952520c9)\" d=\"M 233.635326 292.318125 \r\nL 235.912006 292.318125 \r\nL 235.912006 292.318125 \r\nL 233.635326 292.318125 \r\nz\r\n\" style=\"fill:#1f77b4;\"/>\r\n   </g>\r\n   <g id=\"patch_87\">\r\n    <path clip-path=\"url(#p74952520c9)\" d=\"M 235.912006 292.318125 \r\nL 238.188686 292.318125 \r\nL 238.188686 292.318125 \r\nL 235.912006 292.318125 \r\nz\r\n\" style=\"fill:#1f77b4;\"/>\r\n   </g>\r\n   <g id=\"patch_88\">\r\n    <path clip-path=\"url(#p74952520c9)\" d=\"M 238.188686 292.318125 \r\nL 240.465366 292.318125 \r\nL 240.465366 292.318125 \r\nL 238.188686 292.318125 \r\nz\r\n\" style=\"fill:#1f77b4;\"/>\r\n   </g>\r\n   <g id=\"patch_89\">\r\n    <path clip-path=\"url(#p74952520c9)\" d=\"M 240.465366 292.318125 \r\nL 242.742045 292.318125 \r\nL 242.742045 291.973891 \r\nL 240.465366 291.973891 \r\nz\r\n\" style=\"fill:#1f77b4;\"/>\r\n   </g>\r\n   <g id=\"patch_90\">\r\n    <path clip-path=\"url(#p74952520c9)\" d=\"M 242.742045 292.318125 \r\nL 245.018725 292.318125 \r\nL 245.018725 292.318125 \r\nL 242.742045 292.318125 \r\nz\r\n\" style=\"fill:#1f77b4;\"/>\r\n   </g>\r\n   <g id=\"patch_91\">\r\n    <path clip-path=\"url(#p74952520c9)\" d=\"M 245.018725 292.318125 \r\nL 247.295405 292.318125 \r\nL 247.295405 292.318125 \r\nL 245.018725 292.318125 \r\nz\r\n\" style=\"fill:#1f77b4;\"/>\r\n   </g>\r\n   <g id=\"patch_92\">\r\n    <path clip-path=\"url(#p74952520c9)\" d=\"M 247.295405 292.318125 \r\nL 249.572085 292.318125 \r\nL 249.572085 292.318125 \r\nL 247.295405 292.318125 \r\nz\r\n\" style=\"fill:#1f77b4;\"/>\r\n   </g>\r\n   <g id=\"patch_93\">\r\n    <path clip-path=\"url(#p74952520c9)\" d=\"M 249.572085 292.318125 \r\nL 251.848765 292.318125 \r\nL 251.848765 292.318125 \r\nL 249.572085 292.318125 \r\nz\r\n\" style=\"fill:#1f77b4;\"/>\r\n   </g>\r\n   <g id=\"patch_94\">\r\n    <path clip-path=\"url(#p74952520c9)\" d=\"M 251.848765 292.318125 \r\nL 254.125445 292.318125 \r\nL 254.125445 292.318125 \r\nL 251.848765 292.318125 \r\nz\r\n\" style=\"fill:#1f77b4;\"/>\r\n   </g>\r\n   <g id=\"patch_95\">\r\n    <path clip-path=\"url(#p74952520c9)\" d=\"M 254.125445 292.318125 \r\nL 256.402125 292.318125 \r\nL 256.402125 292.318125 \r\nL 254.125445 292.318125 \r\nz\r\n\" style=\"fill:#1f77b4;\"/>\r\n   </g>\r\n   <g id=\"patch_96\">\r\n    <path clip-path=\"url(#p74952520c9)\" d=\"M 256.402125 292.318125 \r\nL 258.678804 292.318125 \r\nL 258.678804 292.318125 \r\nL 256.402125 292.318125 \r\nz\r\n\" style=\"fill:#1f77b4;\"/>\r\n   </g>\r\n   <g id=\"patch_97\">\r\n    <path clip-path=\"url(#p74952520c9)\" d=\"M 258.678804 292.318125 \r\nL 260.955484 292.318125 \r\nL 260.955484 292.318125 \r\nL 258.678804 292.318125 \r\nz\r\n\" style=\"fill:#1f77b4;\"/>\r\n   </g>\r\n   <g id=\"patch_98\">\r\n    <path clip-path=\"url(#p74952520c9)\" d=\"M 260.955484 292.318125 \r\nL 263.232164 292.318125 \r\nL 263.232164 292.318125 \r\nL 260.955484 292.318125 \r\nz\r\n\" style=\"fill:#1f77b4;\"/>\r\n   </g>\r\n   <g id=\"patch_99\">\r\n    <path clip-path=\"url(#p74952520c9)\" d=\"M 263.232164 292.318125 \r\nL 265.508844 292.318125 \r\nL 265.508844 292.318125 \r\nL 263.232164 292.318125 \r\nz\r\n\" style=\"fill:#1f77b4;\"/>\r\n   </g>\r\n   <g id=\"patch_100\">\r\n    <path clip-path=\"url(#p74952520c9)\" d=\"M 265.508844 292.318125 \r\nL 267.785524 292.318125 \r\nL 267.785524 292.318125 \r\nL 265.508844 292.318125 \r\nz\r\n\" style=\"fill:#1f77b4;\"/>\r\n   </g>\r\n   <g id=\"patch_101\">\r\n    <path clip-path=\"url(#p74952520c9)\" d=\"M 267.785524 292.318125 \r\nL 270.062204 292.318125 \r\nL 270.062204 292.318125 \r\nL 267.785524 292.318125 \r\nz\r\n\" style=\"fill:#1f77b4;\"/>\r\n   </g>\r\n   <g id=\"patch_102\">\r\n    <path clip-path=\"url(#p74952520c9)\" d=\"M 270.062204 292.318125 \r\nL 272.338883 292.318125 \r\nL 272.338883 291.973891 \r\nL 270.062204 291.973891 \r\nz\r\n\" style=\"fill:#1f77b4;\"/>\r\n   </g>\r\n   <g id=\"matplotlib.axis_1\">\r\n    <g id=\"xtick_1\">\r\n     <g id=\"line2d_1\">\r\n      <defs>\r\n       <path d=\"M 0 0 \r\nL 0 3.5 \r\n\" id=\"m70f10e8306\" style=\"stroke:#000000;stroke-width:0.8;\"/>\r\n      </defs>\r\n      <g>\r\n       <use style=\"stroke:#000000;stroke-width:0.8;\" x=\"44.169428\" xlink:href=\"#m70f10e8306\" y=\"292.318125\"/>\r\n      </g>\r\n     </g>\r\n     <g id=\"text_1\">\r\n      <!-- 0 -->\r\n      <g transform=\"translate(46.928803 305.680625)rotate(-90)scale(0.1 -0.1)\">\r\n       <defs>\r\n        <path d=\"M 31.78125 66.40625 \r\nQ 24.171875 66.40625 20.328125 58.90625 \r\nQ 16.5 51.421875 16.5 36.375 \r\nQ 16.5 21.390625 20.328125 13.890625 \r\nQ 24.171875 6.390625 31.78125 6.390625 \r\nQ 39.453125 6.390625 43.28125 13.890625 \r\nQ 47.125 21.390625 47.125 36.375 \r\nQ 47.125 51.421875 43.28125 58.90625 \r\nQ 39.453125 66.40625 31.78125 66.40625 \r\nz\r\nM 31.78125 74.21875 \r\nQ 44.046875 74.21875 50.515625 64.515625 \r\nQ 56.984375 54.828125 56.984375 36.375 \r\nQ 56.984375 17.96875 50.515625 8.265625 \r\nQ 44.046875 -1.421875 31.78125 -1.421875 \r\nQ 19.53125 -1.421875 13.0625 8.265625 \r\nQ 6.59375 17.96875 6.59375 36.375 \r\nQ 6.59375 54.828125 13.0625 64.515625 \r\nQ 19.53125 74.21875 31.78125 74.21875 \r\nz\r\n\" id=\"DejaVuSans-48\"/>\r\n       </defs>\r\n       <use xlink:href=\"#DejaVuSans-48\"/>\r\n      </g>\r\n     </g>\r\n    </g>\r\n    <g id=\"xtick_2\">\r\n     <g id=\"line2d_2\">\r\n      <g>\r\n       <use style=\"stroke:#000000;stroke-width:0.8;\" x=\"94.316561\" xlink:href=\"#m70f10e8306\" y=\"292.318125\"/>\r\n      </g>\r\n     </g>\r\n     <g id=\"text_2\">\r\n      <!-- 200 -->\r\n      <g transform=\"translate(97.075936 318.405625)rotate(-90)scale(0.1 -0.1)\">\r\n       <defs>\r\n        <path d=\"M 19.1875 8.296875 \r\nL 53.609375 8.296875 \r\nL 53.609375 0 \r\nL 7.328125 0 \r\nL 7.328125 8.296875 \r\nQ 12.9375 14.109375 22.625 23.890625 \r\nQ 32.328125 33.6875 34.8125 36.53125 \r\nQ 39.546875 41.84375 41.421875 45.53125 \r\nQ 43.3125 49.21875 43.3125 52.78125 \r\nQ 43.3125 58.59375 39.234375 62.25 \r\nQ 35.15625 65.921875 28.609375 65.921875 \r\nQ 23.96875 65.921875 18.8125 64.3125 \r\nQ 13.671875 62.703125 7.8125 59.421875 \r\nL 7.8125 69.390625 \r\nQ 13.765625 71.78125 18.9375 73 \r\nQ 24.125 74.21875 28.421875 74.21875 \r\nQ 39.75 74.21875 46.484375 68.546875 \r\nQ 53.21875 62.890625 53.21875 53.421875 \r\nQ 53.21875 48.921875 51.53125 44.890625 \r\nQ 49.859375 40.875 45.40625 35.40625 \r\nQ 44.1875 33.984375 37.640625 27.21875 \r\nQ 31.109375 20.453125 19.1875 8.296875 \r\nz\r\n\" id=\"DejaVuSans-50\"/>\r\n       </defs>\r\n       <use xlink:href=\"#DejaVuSans-50\"/>\r\n       <use x=\"63.623047\" xlink:href=\"#DejaVuSans-48\"/>\r\n       <use x=\"127.246094\" xlink:href=\"#DejaVuSans-48\"/>\r\n      </g>\r\n     </g>\r\n    </g>\r\n    <g id=\"xtick_3\">\r\n     <g id=\"line2d_3\">\r\n      <g>\r\n       <use style=\"stroke:#000000;stroke-width:0.8;\" x=\"144.463694\" xlink:href=\"#m70f10e8306\" y=\"292.318125\"/>\r\n      </g>\r\n     </g>\r\n     <g id=\"text_3\">\r\n      <!-- 400 -->\r\n      <g transform=\"translate(147.223069 318.405625)rotate(-90)scale(0.1 -0.1)\">\r\n       <defs>\r\n        <path d=\"M 37.796875 64.3125 \r\nL 12.890625 25.390625 \r\nL 37.796875 25.390625 \r\nz\r\nM 35.203125 72.90625 \r\nL 47.609375 72.90625 \r\nL 47.609375 25.390625 \r\nL 58.015625 25.390625 \r\nL 58.015625 17.1875 \r\nL 47.609375 17.1875 \r\nL 47.609375 0 \r\nL 37.796875 0 \r\nL 37.796875 17.1875 \r\nL 4.890625 17.1875 \r\nL 4.890625 26.703125 \r\nz\r\n\" id=\"DejaVuSans-52\"/>\r\n       </defs>\r\n       <use xlink:href=\"#DejaVuSans-52\"/>\r\n       <use x=\"63.623047\" xlink:href=\"#DejaVuSans-48\"/>\r\n       <use x=\"127.246094\" xlink:href=\"#DejaVuSans-48\"/>\r\n      </g>\r\n     </g>\r\n    </g>\r\n    <g id=\"xtick_4\">\r\n     <g id=\"line2d_4\">\r\n      <g>\r\n       <use style=\"stroke:#000000;stroke-width:0.8;\" x=\"194.610827\" xlink:href=\"#m70f10e8306\" y=\"292.318125\"/>\r\n      </g>\r\n     </g>\r\n     <g id=\"text_4\">\r\n      <!-- 600 -->\r\n      <g transform=\"translate(197.370202 318.405625)rotate(-90)scale(0.1 -0.1)\">\r\n       <defs>\r\n        <path d=\"M 33.015625 40.375 \r\nQ 26.375 40.375 22.484375 35.828125 \r\nQ 18.609375 31.296875 18.609375 23.390625 \r\nQ 18.609375 15.53125 22.484375 10.953125 \r\nQ 26.375 6.390625 33.015625 6.390625 \r\nQ 39.65625 6.390625 43.53125 10.953125 \r\nQ 47.40625 15.53125 47.40625 23.390625 \r\nQ 47.40625 31.296875 43.53125 35.828125 \r\nQ 39.65625 40.375 33.015625 40.375 \r\nz\r\nM 52.59375 71.296875 \r\nL 52.59375 62.3125 \r\nQ 48.875 64.0625 45.09375 64.984375 \r\nQ 41.3125 65.921875 37.59375 65.921875 \r\nQ 27.828125 65.921875 22.671875 59.328125 \r\nQ 17.53125 52.734375 16.796875 39.40625 \r\nQ 19.671875 43.65625 24.015625 45.921875 \r\nQ 28.375 48.1875 33.59375 48.1875 \r\nQ 44.578125 48.1875 50.953125 41.515625 \r\nQ 57.328125 34.859375 57.328125 23.390625 \r\nQ 57.328125 12.15625 50.6875 5.359375 \r\nQ 44.046875 -1.421875 33.015625 -1.421875 \r\nQ 20.359375 -1.421875 13.671875 8.265625 \r\nQ 6.984375 17.96875 6.984375 36.375 \r\nQ 6.984375 53.65625 15.1875 63.9375 \r\nQ 23.390625 74.21875 37.203125 74.21875 \r\nQ 40.921875 74.21875 44.703125 73.484375 \r\nQ 48.484375 72.75 52.59375 71.296875 \r\nz\r\n\" id=\"DejaVuSans-54\"/>\r\n       </defs>\r\n       <use xlink:href=\"#DejaVuSans-54\"/>\r\n       <use x=\"63.623047\" xlink:href=\"#DejaVuSans-48\"/>\r\n       <use x=\"127.246094\" xlink:href=\"#DejaVuSans-48\"/>\r\n      </g>\r\n     </g>\r\n    </g>\r\n    <g id=\"xtick_5\">\r\n     <g id=\"line2d_5\">\r\n      <g>\r\n       <use style=\"stroke:#000000;stroke-width:0.8;\" x=\"244.75796\" xlink:href=\"#m70f10e8306\" y=\"292.318125\"/>\r\n      </g>\r\n     </g>\r\n     <g id=\"text_5\">\r\n      <!-- 800 -->\r\n      <g transform=\"translate(247.517335 318.405625)rotate(-90)scale(0.1 -0.1)\">\r\n       <defs>\r\n        <path d=\"M 31.78125 34.625 \r\nQ 24.75 34.625 20.71875 30.859375 \r\nQ 16.703125 27.09375 16.703125 20.515625 \r\nQ 16.703125 13.921875 20.71875 10.15625 \r\nQ 24.75 6.390625 31.78125 6.390625 \r\nQ 38.8125 6.390625 42.859375 10.171875 \r\nQ 46.921875 13.96875 46.921875 20.515625 \r\nQ 46.921875 27.09375 42.890625 30.859375 \r\nQ 38.875 34.625 31.78125 34.625 \r\nz\r\nM 21.921875 38.8125 \r\nQ 15.578125 40.375 12.03125 44.71875 \r\nQ 8.5 49.078125 8.5 55.328125 \r\nQ 8.5 64.0625 14.71875 69.140625 \r\nQ 20.953125 74.21875 31.78125 74.21875 \r\nQ 42.671875 74.21875 48.875 69.140625 \r\nQ 55.078125 64.0625 55.078125 55.328125 \r\nQ 55.078125 49.078125 51.53125 44.71875 \r\nQ 48 40.375 41.703125 38.8125 \r\nQ 48.828125 37.15625 52.796875 32.3125 \r\nQ 56.78125 27.484375 56.78125 20.515625 \r\nQ 56.78125 9.90625 50.3125 4.234375 \r\nQ 43.84375 -1.421875 31.78125 -1.421875 \r\nQ 19.734375 -1.421875 13.25 4.234375 \r\nQ 6.78125 9.90625 6.78125 20.515625 \r\nQ 6.78125 27.484375 10.78125 32.3125 \r\nQ 14.796875 37.15625 21.921875 38.8125 \r\nz\r\nM 18.3125 54.390625 \r\nQ 18.3125 48.734375 21.84375 45.5625 \r\nQ 25.390625 42.390625 31.78125 42.390625 \r\nQ 38.140625 42.390625 41.71875 45.5625 \r\nQ 45.3125 48.734375 45.3125 54.390625 \r\nQ 45.3125 60.0625 41.71875 63.234375 \r\nQ 38.140625 66.40625 31.78125 66.40625 \r\nQ 25.390625 66.40625 21.84375 63.234375 \r\nQ 18.3125 60.0625 18.3125 54.390625 \r\nz\r\n\" id=\"DejaVuSans-56\"/>\r\n       </defs>\r\n       <use xlink:href=\"#DejaVuSans-56\"/>\r\n       <use x=\"63.623047\" xlink:href=\"#DejaVuSans-48\"/>\r\n       <use x=\"127.246094\" xlink:href=\"#DejaVuSans-48\"/>\r\n      </g>\r\n     </g>\r\n    </g>\r\n   </g>\r\n   <g id=\"matplotlib.axis_2\">\r\n    <g id=\"ytick_1\">\r\n     <g id=\"line2d_6\">\r\n      <defs>\r\n       <path d=\"M 0 0 \r\nL -3.5 0 \r\n\" id=\"m42899a6a9b\" style=\"stroke:#000000;stroke-width:0.8;\"/>\r\n      </defs>\r\n      <g>\r\n       <use style=\"stroke:#000000;stroke-width:0.8;\" x=\"33.2875\" xlink:href=\"#m42899a6a9b\" y=\"292.318125\"/>\r\n      </g>\r\n     </g>\r\n     <g id=\"text_6\">\r\n      <!-- 0 -->\r\n      <g transform=\"translate(19.925 296.117344)scale(0.1 -0.1)\">\r\n       <use xlink:href=\"#DejaVuSans-48\"/>\r\n      </g>\r\n     </g>\r\n    </g>\r\n    <g id=\"ytick_2\">\r\n     <g id=\"line2d_7\">\r\n      <g>\r\n       <use style=\"stroke:#000000;stroke-width:0.8;\" x=\"33.2875\" xlink:href=\"#m42899a6a9b\" y=\"257.894717\"/>\r\n      </g>\r\n     </g>\r\n     <g id=\"text_7\">\r\n      <!-- 100 -->\r\n      <g transform=\"translate(7.2 261.693936)scale(0.1 -0.1)\">\r\n       <defs>\r\n        <path d=\"M 12.40625 8.296875 \r\nL 28.515625 8.296875 \r\nL 28.515625 63.921875 \r\nL 10.984375 60.40625 \r\nL 10.984375 69.390625 \r\nL 28.421875 72.90625 \r\nL 38.28125 72.90625 \r\nL 38.28125 8.296875 \r\nL 54.390625 8.296875 \r\nL 54.390625 0 \r\nL 12.40625 0 \r\nz\r\n\" id=\"DejaVuSans-49\"/>\r\n       </defs>\r\n       <use xlink:href=\"#DejaVuSans-49\"/>\r\n       <use x=\"63.623047\" xlink:href=\"#DejaVuSans-48\"/>\r\n       <use x=\"127.246094\" xlink:href=\"#DejaVuSans-48\"/>\r\n      </g>\r\n     </g>\r\n    </g>\r\n    <g id=\"ytick_3\">\r\n     <g id=\"line2d_8\">\r\n      <g>\r\n       <use style=\"stroke:#000000;stroke-width:0.8;\" x=\"33.2875\" xlink:href=\"#m42899a6a9b\" y=\"223.471309\"/>\r\n      </g>\r\n     </g>\r\n     <g id=\"text_8\">\r\n      <!-- 200 -->\r\n      <g transform=\"translate(7.2 227.270528)scale(0.1 -0.1)\">\r\n       <use xlink:href=\"#DejaVuSans-50\"/>\r\n       <use x=\"63.623047\" xlink:href=\"#DejaVuSans-48\"/>\r\n       <use x=\"127.246094\" xlink:href=\"#DejaVuSans-48\"/>\r\n      </g>\r\n     </g>\r\n    </g>\r\n    <g id=\"ytick_4\">\r\n     <g id=\"line2d_9\">\r\n      <g>\r\n       <use style=\"stroke:#000000;stroke-width:0.8;\" x=\"33.2875\" xlink:href=\"#m42899a6a9b\" y=\"189.047901\"/>\r\n      </g>\r\n     </g>\r\n     <g id=\"text_9\">\r\n      <!-- 300 -->\r\n      <g transform=\"translate(7.2 192.84712)scale(0.1 -0.1)\">\r\n       <defs>\r\n        <path d=\"M 40.578125 39.3125 \r\nQ 47.65625 37.796875 51.625 33 \r\nQ 55.609375 28.21875 55.609375 21.1875 \r\nQ 55.609375 10.40625 48.1875 4.484375 \r\nQ 40.765625 -1.421875 27.09375 -1.421875 \r\nQ 22.515625 -1.421875 17.65625 -0.515625 \r\nQ 12.796875 0.390625 7.625 2.203125 \r\nL 7.625 11.71875 \r\nQ 11.71875 9.328125 16.59375 8.109375 \r\nQ 21.484375 6.890625 26.8125 6.890625 \r\nQ 36.078125 6.890625 40.9375 10.546875 \r\nQ 45.796875 14.203125 45.796875 21.1875 \r\nQ 45.796875 27.640625 41.28125 31.265625 \r\nQ 36.765625 34.90625 28.71875 34.90625 \r\nL 20.21875 34.90625 \r\nL 20.21875 43.015625 \r\nL 29.109375 43.015625 \r\nQ 36.375 43.015625 40.234375 45.921875 \r\nQ 44.09375 48.828125 44.09375 54.296875 \r\nQ 44.09375 59.90625 40.109375 62.90625 \r\nQ 36.140625 65.921875 28.71875 65.921875 \r\nQ 24.65625 65.921875 20.015625 65.03125 \r\nQ 15.375 64.15625 9.8125 62.3125 \r\nL 9.8125 71.09375 \r\nQ 15.4375 72.65625 20.34375 73.4375 \r\nQ 25.25 74.21875 29.59375 74.21875 \r\nQ 40.828125 74.21875 47.359375 69.109375 \r\nQ 53.90625 64.015625 53.90625 55.328125 \r\nQ 53.90625 49.265625 50.4375 45.09375 \r\nQ 46.96875 40.921875 40.578125 39.3125 \r\nz\r\n\" id=\"DejaVuSans-51\"/>\r\n       </defs>\r\n       <use xlink:href=\"#DejaVuSans-51\"/>\r\n       <use x=\"63.623047\" xlink:href=\"#DejaVuSans-48\"/>\r\n       <use x=\"127.246094\" xlink:href=\"#DejaVuSans-48\"/>\r\n      </g>\r\n     </g>\r\n    </g>\r\n    <g id=\"ytick_5\">\r\n     <g id=\"line2d_10\">\r\n      <g>\r\n       <use style=\"stroke:#000000;stroke-width:0.8;\" x=\"33.2875\" xlink:href=\"#m42899a6a9b\" y=\"154.624493\"/>\r\n      </g>\r\n     </g>\r\n     <g id=\"text_10\">\r\n      <!-- 400 -->\r\n      <g transform=\"translate(7.2 158.423712)scale(0.1 -0.1)\">\r\n       <use xlink:href=\"#DejaVuSans-52\"/>\r\n       <use x=\"63.623047\" xlink:href=\"#DejaVuSans-48\"/>\r\n       <use x=\"127.246094\" xlink:href=\"#DejaVuSans-48\"/>\r\n      </g>\r\n     </g>\r\n    </g>\r\n    <g id=\"ytick_6\">\r\n     <g id=\"line2d_11\">\r\n      <g>\r\n       <use style=\"stroke:#000000;stroke-width:0.8;\" x=\"33.2875\" xlink:href=\"#m42899a6a9b\" y=\"120.201085\"/>\r\n      </g>\r\n     </g>\r\n     <g id=\"text_11\">\r\n      <!-- 500 -->\r\n      <g transform=\"translate(7.2 124.000304)scale(0.1 -0.1)\">\r\n       <defs>\r\n        <path d=\"M 10.796875 72.90625 \r\nL 49.515625 72.90625 \r\nL 49.515625 64.59375 \r\nL 19.828125 64.59375 \r\nL 19.828125 46.734375 \r\nQ 21.96875 47.46875 24.109375 47.828125 \r\nQ 26.265625 48.1875 28.421875 48.1875 \r\nQ 40.625 48.1875 47.75 41.5 \r\nQ 54.890625 34.8125 54.890625 23.390625 \r\nQ 54.890625 11.625 47.5625 5.09375 \r\nQ 40.234375 -1.421875 26.90625 -1.421875 \r\nQ 22.3125 -1.421875 17.546875 -0.640625 \r\nQ 12.796875 0.140625 7.71875 1.703125 \r\nL 7.71875 11.625 \r\nQ 12.109375 9.234375 16.796875 8.0625 \r\nQ 21.484375 6.890625 26.703125 6.890625 \r\nQ 35.15625 6.890625 40.078125 11.328125 \r\nQ 45.015625 15.765625 45.015625 23.390625 \r\nQ 45.015625 31 40.078125 35.4375 \r\nQ 35.15625 39.890625 26.703125 39.890625 \r\nQ 22.75 39.890625 18.8125 39.015625 \r\nQ 14.890625 38.140625 10.796875 36.28125 \r\nz\r\n\" id=\"DejaVuSans-53\"/>\r\n       </defs>\r\n       <use xlink:href=\"#DejaVuSans-53\"/>\r\n       <use x=\"63.623047\" xlink:href=\"#DejaVuSans-48\"/>\r\n       <use x=\"127.246094\" xlink:href=\"#DejaVuSans-48\"/>\r\n      </g>\r\n     </g>\r\n    </g>\r\n    <g id=\"ytick_7\">\r\n     <g id=\"line2d_12\">\r\n      <g>\r\n       <use style=\"stroke:#000000;stroke-width:0.8;\" x=\"33.2875\" xlink:href=\"#m42899a6a9b\" y=\"85.777677\"/>\r\n      </g>\r\n     </g>\r\n     <g id=\"text_12\">\r\n      <!-- 600 -->\r\n      <g transform=\"translate(7.2 89.576896)scale(0.1 -0.1)\">\r\n       <use xlink:href=\"#DejaVuSans-54\"/>\r\n       <use x=\"63.623047\" xlink:href=\"#DejaVuSans-48\"/>\r\n       <use x=\"127.246094\" xlink:href=\"#DejaVuSans-48\"/>\r\n      </g>\r\n     </g>\r\n    </g>\r\n    <g id=\"ytick_8\">\r\n     <g id=\"line2d_13\">\r\n      <g>\r\n       <use style=\"stroke:#000000;stroke-width:0.8;\" x=\"33.2875\" xlink:href=\"#m42899a6a9b\" y=\"51.35427\"/>\r\n      </g>\r\n     </g>\r\n     <g id=\"text_13\">\r\n      <!-- 700 -->\r\n      <g transform=\"translate(7.2 55.153488)scale(0.1 -0.1)\">\r\n       <defs>\r\n        <path d=\"M 8.203125 72.90625 \r\nL 55.078125 72.90625 \r\nL 55.078125 68.703125 \r\nL 28.609375 0 \r\nL 18.3125 0 \r\nL 43.21875 64.59375 \r\nL 8.203125 64.59375 \r\nz\r\n\" id=\"DejaVuSans-55\"/>\r\n       </defs>\r\n       <use xlink:href=\"#DejaVuSans-55\"/>\r\n       <use x=\"63.623047\" xlink:href=\"#DejaVuSans-48\"/>\r\n       <use x=\"127.246094\" xlink:href=\"#DejaVuSans-48\"/>\r\n      </g>\r\n     </g>\r\n    </g>\r\n   </g>\r\n   <g id=\"patch_103\">\r\n    <path d=\"M 33.2875 292.318125 \r\nL 33.2875 22.318125 \r\n\" style=\"fill:none;stroke:#000000;stroke-linecap:square;stroke-linejoin:miter;stroke-width:0.8;\"/>\r\n   </g>\r\n   <g id=\"patch_104\">\r\n    <path d=\"M 283.722283 292.318125 \r\nL 283.722283 22.318125 \r\n\" style=\"fill:none;stroke:#000000;stroke-linecap:square;stroke-linejoin:miter;stroke-width:0.8;\"/>\r\n   </g>\r\n   <g id=\"patch_105\">\r\n    <path d=\"M 33.2875 292.318125 \r\nL 283.722283 292.318125 \r\n\" style=\"fill:none;stroke:#000000;stroke-linecap:square;stroke-linejoin:miter;stroke-width:0.8;\"/>\r\n   </g>\r\n   <g id=\"patch_106\">\r\n    <path d=\"M 33.2875 22.318125 \r\nL 283.722283 22.318125 \r\n\" style=\"fill:none;stroke:#000000;stroke-linecap:square;stroke-linejoin:miter;stroke-width:0.8;\"/>\r\n   </g>\r\n   <g id=\"text_14\">\r\n    <!-- ham -->\r\n    <g transform=\"translate(145.181141 16.318125)scale(0.12 -0.12)\">\r\n     <defs>\r\n      <path d=\"M 54.890625 33.015625 \r\nL 54.890625 0 \r\nL 45.90625 0 \r\nL 45.90625 32.71875 \r\nQ 45.90625 40.484375 42.875 44.328125 \r\nQ 39.84375 48.1875 33.796875 48.1875 \r\nQ 26.515625 48.1875 22.3125 43.546875 \r\nQ 18.109375 38.921875 18.109375 30.90625 \r\nL 18.109375 0 \r\nL 9.078125 0 \r\nL 9.078125 75.984375 \r\nL 18.109375 75.984375 \r\nL 18.109375 46.1875 \r\nQ 21.34375 51.125 25.703125 53.5625 \r\nQ 30.078125 56 35.796875 56 \r\nQ 45.21875 56 50.046875 50.171875 \r\nQ 54.890625 44.34375 54.890625 33.015625 \r\nz\r\n\" id=\"DejaVuSans-104\"/>\r\n      <path d=\"M 34.28125 27.484375 \r\nQ 23.390625 27.484375 19.1875 25 \r\nQ 14.984375 22.515625 14.984375 16.5 \r\nQ 14.984375 11.71875 18.140625 8.90625 \r\nQ 21.296875 6.109375 26.703125 6.109375 \r\nQ 34.1875 6.109375 38.703125 11.40625 \r\nQ 43.21875 16.703125 43.21875 25.484375 \r\nL 43.21875 27.484375 \r\nz\r\nM 52.203125 31.203125 \r\nL 52.203125 0 \r\nL 43.21875 0 \r\nL 43.21875 8.296875 \r\nQ 40.140625 3.328125 35.546875 0.953125 \r\nQ 30.953125 -1.421875 24.3125 -1.421875 \r\nQ 15.921875 -1.421875 10.953125 3.296875 \r\nQ 6 8.015625 6 15.921875 \r\nQ 6 25.140625 12.171875 29.828125 \r\nQ 18.359375 34.515625 30.609375 34.515625 \r\nL 43.21875 34.515625 \r\nL 43.21875 35.40625 \r\nQ 43.21875 41.609375 39.140625 45 \r\nQ 35.0625 48.390625 27.6875 48.390625 \r\nQ 23 48.390625 18.546875 47.265625 \r\nQ 14.109375 46.140625 10.015625 43.890625 \r\nL 10.015625 52.203125 \r\nQ 14.9375 54.109375 19.578125 55.046875 \r\nQ 24.21875 56 28.609375 56 \r\nQ 40.484375 56 46.34375 49.84375 \r\nQ 52.203125 43.703125 52.203125 31.203125 \r\nz\r\n\" id=\"DejaVuSans-97\"/>\r\n      <path d=\"M 52 44.1875 \r\nQ 55.375 50.25 60.0625 53.125 \r\nQ 64.75 56 71.09375 56 \r\nQ 79.640625 56 84.28125 50.015625 \r\nQ 88.921875 44.046875 88.921875 33.015625 \r\nL 88.921875 0 \r\nL 79.890625 0 \r\nL 79.890625 32.71875 \r\nQ 79.890625 40.578125 77.09375 44.375 \r\nQ 74.3125 48.1875 68.609375 48.1875 \r\nQ 61.625 48.1875 57.5625 43.546875 \r\nQ 53.515625 38.921875 53.515625 30.90625 \r\nL 53.515625 0 \r\nL 44.484375 0 \r\nL 44.484375 32.71875 \r\nQ 44.484375 40.625 41.703125 44.40625 \r\nQ 38.921875 48.1875 33.109375 48.1875 \r\nQ 26.21875 48.1875 22.15625 43.53125 \r\nQ 18.109375 38.875 18.109375 30.90625 \r\nL 18.109375 0 \r\nL 9.078125 0 \r\nL 9.078125 54.6875 \r\nL 18.109375 54.6875 \r\nL 18.109375 46.1875 \r\nQ 21.1875 51.21875 25.484375 53.609375 \r\nQ 29.78125 56 35.6875 56 \r\nQ 41.65625 56 45.828125 52.96875 \r\nQ 50 49.953125 52 44.1875 \r\nz\r\n\" id=\"DejaVuSans-109\"/>\r\n     </defs>\r\n     <use xlink:href=\"#DejaVuSans-104\"/>\r\n     <use x=\"63.378906\" xlink:href=\"#DejaVuSans-97\"/>\r\n     <use x=\"124.658203\" xlink:href=\"#DejaVuSans-109\"/>\r\n    </g>\r\n   </g>\r\n  </g>\r\n  <g id=\"axes_2\">\r\n   <g id=\"patch_107\">\r\n    <path d=\"M 358.852717 292.318125 \r\nL 609.2875 292.318125 \r\nL 609.2875 22.318125 \r\nL 358.852717 22.318125 \r\nz\r\n\" style=\"fill:#ffffff;\"/>\r\n   </g>\r\n   <g id=\"patch_108\">\r\n    <path clip-path=\"url(#p45145dcf55)\" d=\"M 370.236117 292.318125 \r\nL 372.512796 292.318125 \r\nL 372.512796 288.934666 \r\nL 370.236117 288.934666 \r\nz\r\n\" style=\"fill:#1f77b4;\"/>\r\n   </g>\r\n   <g id=\"patch_109\">\r\n    <path clip-path=\"url(#p45145dcf55)\" d=\"M 372.512796 292.318125 \r\nL 374.789476 292.318125 \r\nL 374.789476 292.318125 \r\nL 372.512796 292.318125 \r\nz\r\n\" style=\"fill:#1f77b4;\"/>\r\n   </g>\r\n   <g id=\"patch_110\">\r\n    <path clip-path=\"url(#p45145dcf55)\" d=\"M 374.789476 292.318125 \r\nL 377.066156 292.318125 \r\nL 377.066156 288.934666 \r\nL 374.789476 288.934666 \r\nz\r\n\" style=\"fill:#1f77b4;\"/>\r\n   </g>\r\n   <g id=\"patch_111\">\r\n    <path clip-path=\"url(#p45145dcf55)\" d=\"M 377.066156 292.318125 \r\nL 379.342836 292.318125 \r\nL 379.342836 292.318125 \r\nL 377.066156 292.318125 \r\nz\r\n\" style=\"fill:#1f77b4;\"/>\r\n   </g>\r\n   <g id=\"patch_112\">\r\n    <path clip-path=\"url(#p45145dcf55)\" d=\"M 379.342836 292.318125 \r\nL 381.619516 292.318125 \r\nL 381.619516 292.318125 \r\nL 379.342836 292.318125 \r\nz\r\n\" style=\"fill:#1f77b4;\"/>\r\n   </g>\r\n   <g id=\"patch_113\">\r\n    <path clip-path=\"url(#p45145dcf55)\" d=\"M 381.619516 292.318125 \r\nL 383.896196 292.318125 \r\nL 383.896196 288.934666 \r\nL 381.619516 288.934666 \r\nz\r\n\" style=\"fill:#1f77b4;\"/>\r\n   </g>\r\n   <g id=\"patch_114\">\r\n    <path clip-path=\"url(#p45145dcf55)\" d=\"M 383.896196 292.318125 \r\nL 386.172875 292.318125 \r\nL 386.172875 292.318125 \r\nL 383.896196 292.318125 \r\nz\r\n\" style=\"fill:#1f77b4;\"/>\r\n   </g>\r\n   <g id=\"patch_115\">\r\n    <path clip-path=\"url(#p45145dcf55)\" d=\"M 386.172875 292.318125 \r\nL 388.449555 292.318125 \r\nL 388.449555 292.318125 \r\nL 386.172875 292.318125 \r\nz\r\n\" style=\"fill:#1f77b4;\"/>\r\n   </g>\r\n   <g id=\"patch_116\">\r\n    <path clip-path=\"url(#p45145dcf55)\" d=\"M 388.449555 292.318125 \r\nL 390.726235 292.318125 \r\nL 390.726235 288.934666 \r\nL 388.449555 288.934666 \r\nz\r\n\" style=\"fill:#1f77b4;\"/>\r\n   </g>\r\n   <g id=\"patch_117\">\r\n    <path clip-path=\"url(#p45145dcf55)\" d=\"M 390.726235 292.318125 \r\nL 393.002915 292.318125 \r\nL 393.002915 282.167749 \r\nL 390.726235 282.167749 \r\nz\r\n\" style=\"fill:#1f77b4;\"/>\r\n   </g>\r\n   <g id=\"patch_118\">\r\n    <path clip-path=\"url(#p45145dcf55)\" d=\"M 393.002915 292.318125 \r\nL 395.279595 292.318125 \r\nL 395.279595 292.318125 \r\nL 393.002915 292.318125 \r\nz\r\n\" style=\"fill:#1f77b4;\"/>\r\n   </g>\r\n   <g id=\"patch_119\">\r\n    <path clip-path=\"url(#p45145dcf55)\" d=\"M 395.279595 292.318125 \r\nL 397.556275 292.318125 \r\nL 397.556275 288.934666 \r\nL 395.279595 288.934666 \r\nz\r\n\" style=\"fill:#1f77b4;\"/>\r\n   </g>\r\n   <g id=\"patch_120\">\r\n    <path clip-path=\"url(#p45145dcf55)\" d=\"M 397.556275 292.318125 \r\nL 399.832955 292.318125 \r\nL 399.832955 288.934666 \r\nL 397.556275 288.934666 \r\nz\r\n\" style=\"fill:#1f77b4;\"/>\r\n   </g>\r\n   <g id=\"patch_121\">\r\n    <path clip-path=\"url(#p45145dcf55)\" d=\"M 399.832955 292.318125 \r\nL 402.109634 292.318125 \r\nL 402.109634 285.551208 \r\nL 399.832955 285.551208 \r\nz\r\n\" style=\"fill:#1f77b4;\"/>\r\n   </g>\r\n   <g id=\"patch_122\">\r\n    <path clip-path=\"url(#p45145dcf55)\" d=\"M 402.109634 292.318125 \r\nL 404.386314 292.318125 \r\nL 404.386314 288.934666 \r\nL 402.109634 288.934666 \r\nz\r\n\" style=\"fill:#1f77b4;\"/>\r\n   </g>\r\n   <g id=\"patch_123\">\r\n    <path clip-path=\"url(#p45145dcf55)\" d=\"M 404.386314 292.318125 \r\nL 406.662994 292.318125 \r\nL 406.662994 288.934666 \r\nL 404.386314 288.934666 \r\nz\r\n\" style=\"fill:#1f77b4;\"/>\r\n   </g>\r\n   <g id=\"patch_124\">\r\n    <path clip-path=\"url(#p45145dcf55)\" d=\"M 406.662994 292.318125 \r\nL 408.939674 292.318125 \r\nL 408.939674 278.78429 \r\nL 406.662994 278.78429 \r\nz\r\n\" style=\"fill:#1f77b4;\"/>\r\n   </g>\r\n   <g id=\"patch_125\">\r\n    <path clip-path=\"url(#p45145dcf55)\" d=\"M 408.939674 292.318125 \r\nL 411.216354 292.318125 \r\nL 411.216354 278.78429 \r\nL 408.939674 278.78429 \r\nz\r\n\" style=\"fill:#1f77b4;\"/>\r\n   </g>\r\n   <g id=\"patch_126\">\r\n    <path clip-path=\"url(#p45145dcf55)\" d=\"M 411.216354 292.318125 \r\nL 413.493034 292.318125 \r\nL 413.493034 285.551208 \r\nL 411.216354 285.551208 \r\nz\r\n\" style=\"fill:#1f77b4;\"/>\r\n   </g>\r\n   <g id=\"patch_127\">\r\n    <path clip-path=\"url(#p45145dcf55)\" d=\"M 413.493034 292.318125 \r\nL 415.769713 292.318125 \r\nL 415.769713 292.318125 \r\nL 413.493034 292.318125 \r\nz\r\n\" style=\"fill:#1f77b4;\"/>\r\n   </g>\r\n   <g id=\"patch_128\">\r\n    <path clip-path=\"url(#p45145dcf55)\" d=\"M 415.769713 292.318125 \r\nL 418.046393 292.318125 \r\nL 418.046393 292.318125 \r\nL 415.769713 292.318125 \r\nz\r\n\" style=\"fill:#1f77b4;\"/>\r\n   </g>\r\n   <g id=\"patch_129\">\r\n    <path clip-path=\"url(#p45145dcf55)\" d=\"M 418.046393 292.318125 \r\nL 420.323073 292.318125 \r\nL 420.323073 288.934666 \r\nL 418.046393 288.934666 \r\nz\r\n\" style=\"fill:#1f77b4;\"/>\r\n   </g>\r\n   <g id=\"patch_130\">\r\n    <path clip-path=\"url(#p45145dcf55)\" d=\"M 420.323073 292.318125 \r\nL 422.599753 292.318125 \r\nL 422.599753 292.318125 \r\nL 420.323073 292.318125 \r\nz\r\n\" style=\"fill:#1f77b4;\"/>\r\n   </g>\r\n   <g id=\"patch_131\">\r\n    <path clip-path=\"url(#p45145dcf55)\" d=\"M 422.599753 292.318125 \r\nL 424.876433 292.318125 \r\nL 424.876433 288.934666 \r\nL 422.599753 288.934666 \r\nz\r\n\" style=\"fill:#1f77b4;\"/>\r\n   </g>\r\n   <g id=\"patch_132\">\r\n    <path clip-path=\"url(#p45145dcf55)\" d=\"M 424.876433 292.318125 \r\nL 427.153113 292.318125 \r\nL 427.153113 282.167749 \r\nL 424.876433 282.167749 \r\nz\r\n\" style=\"fill:#1f77b4;\"/>\r\n   </g>\r\n   <g id=\"patch_133\">\r\n    <path clip-path=\"url(#p45145dcf55)\" d=\"M 427.153113 292.318125 \r\nL 429.429792 292.318125 \r\nL 429.429792 288.934666 \r\nL 427.153113 288.934666 \r\nz\r\n\" style=\"fill:#1f77b4;\"/>\r\n   </g>\r\n   <g id=\"patch_134\">\r\n    <path clip-path=\"url(#p45145dcf55)\" d=\"M 429.429792 292.318125 \r\nL 431.706472 292.318125 \r\nL 431.706472 278.78429 \r\nL 429.429792 278.78429 \r\nz\r\n\" style=\"fill:#1f77b4;\"/>\r\n   </g>\r\n   <g id=\"patch_135\">\r\n    <path clip-path=\"url(#p45145dcf55)\" d=\"M 431.706472 292.318125 \r\nL 433.983152 292.318125 \r\nL 433.983152 278.78429 \r\nL 431.706472 278.78429 \r\nz\r\n\" style=\"fill:#1f77b4;\"/>\r\n   </g>\r\n   <g id=\"patch_136\">\r\n    <path clip-path=\"url(#p45145dcf55)\" d=\"M 433.983152 292.318125 \r\nL 436.259832 292.318125 \r\nL 436.259832 272.017373 \r\nL 433.983152 272.017373 \r\nz\r\n\" style=\"fill:#1f77b4;\"/>\r\n   </g>\r\n   <g id=\"patch_137\">\r\n    <path clip-path=\"url(#p45145dcf55)\" d=\"M 436.259832 292.318125 \r\nL 438.536512 292.318125 \r\nL 438.536512 282.167749 \r\nL 436.259832 282.167749 \r\nz\r\n\" style=\"fill:#1f77b4;\"/>\r\n   </g>\r\n   <g id=\"patch_138\">\r\n    <path clip-path=\"url(#p45145dcf55)\" d=\"M 438.536512 292.318125 \r\nL 440.813192 292.318125 \r\nL 440.813192 285.551208 \r\nL 438.536512 285.551208 \r\nz\r\n\" style=\"fill:#1f77b4;\"/>\r\n   </g>\r\n   <g id=\"patch_139\">\r\n    <path clip-path=\"url(#p45145dcf55)\" d=\"M 440.813192 292.318125 \r\nL 443.089872 292.318125 \r\nL 443.089872 292.318125 \r\nL 440.813192 292.318125 \r\nz\r\n\" style=\"fill:#1f77b4;\"/>\r\n   </g>\r\n   <g id=\"patch_140\">\r\n    <path clip-path=\"url(#p45145dcf55)\" d=\"M 443.089872 292.318125 \r\nL 445.366551 292.318125 \r\nL 445.366551 272.017373 \r\nL 443.089872 272.017373 \r\nz\r\n\" style=\"fill:#1f77b4;\"/>\r\n   </g>\r\n   <g id=\"patch_141\">\r\n    <path clip-path=\"url(#p45145dcf55)\" d=\"M 445.366551 292.318125 \r\nL 447.643231 292.318125 \r\nL 447.643231 285.551208 \r\nL 445.366551 285.551208 \r\nz\r\n\" style=\"fill:#1f77b4;\"/>\r\n   </g>\r\n   <g id=\"patch_142\">\r\n    <path clip-path=\"url(#p45145dcf55)\" d=\"M 447.643231 292.318125 \r\nL 449.919911 292.318125 \r\nL 449.919911 282.167749 \r\nL 447.643231 282.167749 \r\nz\r\n\" style=\"fill:#1f77b4;\"/>\r\n   </g>\r\n   <g id=\"patch_143\">\r\n    <path clip-path=\"url(#p45145dcf55)\" d=\"M 449.919911 292.318125 \r\nL 452.196591 292.318125 \r\nL 452.196591 292.318125 \r\nL 449.919911 292.318125 \r\nz\r\n\" style=\"fill:#1f77b4;\"/>\r\n   </g>\r\n   <g id=\"patch_144\">\r\n    <path clip-path=\"url(#p45145dcf55)\" d=\"M 452.196591 292.318125 \r\nL 454.473271 292.318125 \r\nL 454.473271 275.400832 \r\nL 452.196591 275.400832 \r\nz\r\n\" style=\"fill:#1f77b4;\"/>\r\n   </g>\r\n   <g id=\"patch_145\">\r\n    <path clip-path=\"url(#p45145dcf55)\" d=\"M 454.473271 292.318125 \r\nL 456.749951 292.318125 \r\nL 456.749951 292.318125 \r\nL 454.473271 292.318125 \r\nz\r\n\" style=\"fill:#1f77b4;\"/>\r\n   </g>\r\n   <g id=\"patch_146\">\r\n    <path clip-path=\"url(#p45145dcf55)\" d=\"M 456.749951 292.318125 \r\nL 459.02663 292.318125 \r\nL 459.02663 288.934666 \r\nL 456.749951 288.934666 \r\nz\r\n\" style=\"fill:#1f77b4;\"/>\r\n   </g>\r\n   <g id=\"patch_147\">\r\n    <path clip-path=\"url(#p45145dcf55)\" d=\"M 459.02663 292.318125 \r\nL 461.30331 292.318125 \r\nL 461.30331 275.400832 \r\nL 459.02663 275.400832 \r\nz\r\n\" style=\"fill:#1f77b4;\"/>\r\n   </g>\r\n   <g id=\"patch_148\">\r\n    <path clip-path=\"url(#p45145dcf55)\" d=\"M 461.30331 292.318125 \r\nL 463.57999 292.318125 \r\nL 463.57999 278.78429 \r\nL 461.30331 278.78429 \r\nz\r\n\" style=\"fill:#1f77b4;\"/>\r\n   </g>\r\n   <g id=\"patch_149\">\r\n    <path clip-path=\"url(#p45145dcf55)\" d=\"M 463.57999 292.318125 \r\nL 465.85667 292.318125 \r\nL 465.85667 261.866997 \r\nL 463.57999 261.866997 \r\nz\r\n\" style=\"fill:#1f77b4;\"/>\r\n   </g>\r\n   <g id=\"patch_150\">\r\n    <path clip-path=\"url(#p45145dcf55)\" d=\"M 465.85667 292.318125 \r\nL 468.13335 292.318125 \r\nL 468.13335 285.551208 \r\nL 465.85667 285.551208 \r\nz\r\n\" style=\"fill:#1f77b4;\"/>\r\n   </g>\r\n   <g id=\"patch_151\">\r\n    <path clip-path=\"url(#p45145dcf55)\" d=\"M 468.13335 292.318125 \r\nL 470.41003 292.318125 \r\nL 470.41003 278.78429 \r\nL 468.13335 278.78429 \r\nz\r\n\" style=\"fill:#1f77b4;\"/>\r\n   </g>\r\n   <g id=\"patch_152\">\r\n    <path clip-path=\"url(#p45145dcf55)\" d=\"M 470.41003 292.318125 \r\nL 472.686709 292.318125 \r\nL 472.686709 261.866997 \r\nL 470.41003 261.866997 \r\nz\r\n\" style=\"fill:#1f77b4;\"/>\r\n   </g>\r\n   <g id=\"patch_153\">\r\n    <path clip-path=\"url(#p45145dcf55)\" d=\"M 472.686709 292.318125 \r\nL 474.963389 292.318125 \r\nL 474.963389 272.017373 \r\nL 472.686709 272.017373 \r\nz\r\n\" style=\"fill:#1f77b4;\"/>\r\n   </g>\r\n   <g id=\"patch_154\">\r\n    <path clip-path=\"url(#p45145dcf55)\" d=\"M 474.963389 292.318125 \r\nL 477.240069 292.318125 \r\nL 477.240069 272.017373 \r\nL 474.963389 272.017373 \r\nz\r\n\" style=\"fill:#1f77b4;\"/>\r\n   </g>\r\n   <g id=\"patch_155\">\r\n    <path clip-path=\"url(#p45145dcf55)\" d=\"M 477.240069 292.318125 \r\nL 479.516749 292.318125 \r\nL 479.516749 282.167749 \r\nL 477.240069 282.167749 \r\nz\r\n\" style=\"fill:#1f77b4;\"/>\r\n   </g>\r\n   <g id=\"patch_156\">\r\n    <path clip-path=\"url(#p45145dcf55)\" d=\"M 479.516749 292.318125 \r\nL 481.793429 292.318125 \r\nL 481.793429 258.483539 \r\nL 479.516749 258.483539 \r\nz\r\n\" style=\"fill:#1f77b4;\"/>\r\n   </g>\r\n   <g id=\"patch_157\">\r\n    <path clip-path=\"url(#p45145dcf55)\" d=\"M 481.793429 292.318125 \r\nL 484.070109 292.318125 \r\nL 484.070109 288.934666 \r\nL 481.793429 288.934666 \r\nz\r\n\" style=\"fill:#1f77b4;\"/>\r\n   </g>\r\n   <g id=\"patch_158\">\r\n    <path clip-path=\"url(#p45145dcf55)\" d=\"M 484.070109 292.318125 \r\nL 486.346789 292.318125 \r\nL 486.346789 255.10008 \r\nL 484.070109 255.10008 \r\nz\r\n\" style=\"fill:#1f77b4;\"/>\r\n   </g>\r\n   <g id=\"patch_159\">\r\n    <path clip-path=\"url(#p45145dcf55)\" d=\"M 486.346789 292.318125 \r\nL 488.623468 292.318125 \r\nL 488.623468 258.483539 \r\nL 486.346789 258.483539 \r\nz\r\n\" style=\"fill:#1f77b4;\"/>\r\n   </g>\r\n   <g id=\"patch_160\">\r\n    <path clip-path=\"url(#p45145dcf55)\" d=\"M 488.623468 292.318125 \r\nL 490.900148 292.318125 \r\nL 490.900148 275.400832 \r\nL 488.623468 275.400832 \r\nz\r\n\" style=\"fill:#1f77b4;\"/>\r\n   </g>\r\n   <g id=\"patch_161\">\r\n    <path clip-path=\"url(#p45145dcf55)\" d=\"M 490.900148 292.318125 \r\nL 493.176828 292.318125 \r\nL 493.176828 258.483539 \r\nL 490.900148 258.483539 \r\nz\r\n\" style=\"fill:#1f77b4;\"/>\r\n   </g>\r\n   <g id=\"patch_162\">\r\n    <path clip-path=\"url(#p45145dcf55)\" d=\"M 493.176828 292.318125 \r\nL 495.453508 292.318125 \r\nL 495.453508 282.167749 \r\nL 493.176828 282.167749 \r\nz\r\n\" style=\"fill:#1f77b4;\"/>\r\n   </g>\r\n   <g id=\"patch_163\">\r\n    <path clip-path=\"url(#p45145dcf55)\" d=\"M 495.453508 292.318125 \r\nL 497.730188 292.318125 \r\nL 497.730188 258.483539 \r\nL 495.453508 258.483539 \r\nz\r\n\" style=\"fill:#1f77b4;\"/>\r\n   </g>\r\n   <g id=\"patch_164\">\r\n    <path clip-path=\"url(#p45145dcf55)\" d=\"M 497.730188 292.318125 \r\nL 500.006868 292.318125 \r\nL 500.006868 248.333163 \r\nL 497.730188 248.333163 \r\nz\r\n\" style=\"fill:#1f77b4;\"/>\r\n   </g>\r\n   <g id=\"patch_165\">\r\n    <path clip-path=\"url(#p45145dcf55)\" d=\"M 500.006868 292.318125 \r\nL 502.283547 292.318125 \r\nL 502.283547 244.949704 \r\nL 500.006868 244.949704 \r\nz\r\n\" style=\"fill:#1f77b4;\"/>\r\n   </g>\r\n   <g id=\"patch_166\">\r\n    <path clip-path=\"url(#p45145dcf55)\" d=\"M 502.283547 292.318125 \r\nL 504.560227 292.318125 \r\nL 504.560227 200.964742 \r\nL 502.283547 200.964742 \r\nz\r\n\" style=\"fill:#1f77b4;\"/>\r\n   </g>\r\n   <g id=\"patch_167\">\r\n    <path clip-path=\"url(#p45145dcf55)\" d=\"M 504.560227 292.318125 \r\nL 506.836907 292.318125 \r\nL 506.836907 231.415869 \r\nL 504.560227 231.415869 \r\nz\r\n\" style=\"fill:#1f77b4;\"/>\r\n   </g>\r\n   <g id=\"patch_168\">\r\n    <path clip-path=\"url(#p45145dcf55)\" d=\"M 506.836907 292.318125 \r\nL 509.113587 292.318125 \r\nL 509.113587 214.498576 \r\nL 506.836907 214.498576 \r\nz\r\n\" style=\"fill:#1f77b4;\"/>\r\n   </g>\r\n   <g id=\"patch_169\">\r\n    <path clip-path=\"url(#p45145dcf55)\" d=\"M 509.113587 292.318125 \r\nL 511.390267 292.318125 \r\nL 511.390267 207.731659 \r\nL 509.113587 207.731659 \r\nz\r\n\" style=\"fill:#1f77b4;\"/>\r\n   </g>\r\n   <g id=\"patch_170\">\r\n    <path clip-path=\"url(#p45145dcf55)\" d=\"M 511.390267 292.318125 \r\nL 513.666947 292.318125 \r\nL 513.666947 200.964742 \r\nL 511.390267 200.964742 \r\nz\r\n\" style=\"fill:#1f77b4;\"/>\r\n   </g>\r\n   <g id=\"patch_171\">\r\n    <path clip-path=\"url(#p45145dcf55)\" d=\"M 513.666947 292.318125 \r\nL 515.943626 292.318125 \r\nL 515.943626 184.047448 \r\nL 513.666947 184.047448 \r\nz\r\n\" style=\"fill:#1f77b4;\"/>\r\n   </g>\r\n   <g id=\"patch_172\">\r\n    <path clip-path=\"url(#p45145dcf55)\" d=\"M 515.943626 292.318125 \r\nL 518.220306 292.318125 \r\nL 518.220306 184.047448 \r\nL 515.943626 184.047448 \r\nz\r\n\" style=\"fill:#1f77b4;\"/>\r\n   </g>\r\n   <g id=\"patch_173\">\r\n    <path clip-path=\"url(#p45145dcf55)\" d=\"M 518.220306 292.318125 \r\nL 520.496986 292.318125 \r\nL 520.496986 231.415869 \r\nL 518.220306 231.415869 \r\nz\r\n\" style=\"fill:#1f77b4;\"/>\r\n   </g>\r\n   <g id=\"patch_174\">\r\n    <path clip-path=\"url(#p45145dcf55)\" d=\"M 520.496986 292.318125 \r\nL 522.773666 292.318125 \r\nL 522.773666 126.528651 \r\nL 520.496986 126.528651 \r\nz\r\n\" style=\"fill:#1f77b4;\"/>\r\n   </g>\r\n   <g id=\"patch_175\">\r\n    <path clip-path=\"url(#p45145dcf55)\" d=\"M 522.773666 292.318125 \r\nL 525.050346 292.318125 \r\nL 525.050346 96.077523 \r\nL 522.773666 96.077523 \r\nz\r\n\" style=\"fill:#1f77b4;\"/>\r\n   </g>\r\n   <g id=\"patch_176\">\r\n    <path clip-path=\"url(#p45145dcf55)\" d=\"M 525.050346 292.318125 \r\nL 527.327026 292.318125 \r\nL 527.327026 62.242937 \r\nL 525.050346 62.242937 \r\nz\r\n\" style=\"fill:#1f77b4;\"/>\r\n   </g>\r\n   <g id=\"patch_177\">\r\n    <path clip-path=\"url(#p45145dcf55)\" d=\"M 527.327026 292.318125 \r\nL 529.603706 292.318125 \r\nL 529.603706 35.175268 \r\nL 527.327026 35.175268 \r\nz\r\n\" style=\"fill:#1f77b4;\"/>\r\n   </g>\r\n   <g id=\"patch_178\">\r\n    <path clip-path=\"url(#p45145dcf55)\" d=\"M 529.603706 292.318125 \r\nL 531.880385 292.318125 \r\nL 531.880385 72.393313 \r\nL 529.603706 72.393313 \r\nz\r\n\" style=\"fill:#1f77b4;\"/>\r\n   </g>\r\n   <g id=\"patch_179\">\r\n    <path clip-path=\"url(#p45145dcf55)\" d=\"M 531.880385 292.318125 \r\nL 534.157065 292.318125 \r\nL 534.157065 272.017373 \r\nL 531.880385 272.017373 \r\nz\r\n\" style=\"fill:#1f77b4;\"/>\r\n   </g>\r\n   <g id=\"patch_180\">\r\n    <path clip-path=\"url(#p45145dcf55)\" d=\"M 534.157065 292.318125 \r\nL 536.433745 292.318125 \r\nL 536.433745 265.250456 \r\nL 534.157065 265.250456 \r\nz\r\n\" style=\"fill:#1f77b4;\"/>\r\n   </g>\r\n   <g id=\"patch_181\">\r\n    <path clip-path=\"url(#p45145dcf55)\" d=\"M 536.433745 292.318125 \r\nL 538.710425 292.318125 \r\nL 538.710425 288.934666 \r\nL 536.433745 288.934666 \r\nz\r\n\" style=\"fill:#1f77b4;\"/>\r\n   </g>\r\n   <g id=\"patch_182\">\r\n    <path clip-path=\"url(#p45145dcf55)\" d=\"M 538.710425 292.318125 \r\nL 540.987105 292.318125 \r\nL 540.987105 285.551208 \r\nL 538.710425 285.551208 \r\nz\r\n\" style=\"fill:#1f77b4;\"/>\r\n   </g>\r\n   <g id=\"patch_183\">\r\n    <path clip-path=\"url(#p45145dcf55)\" d=\"M 540.987105 292.318125 \r\nL 543.263785 292.318125 \r\nL 543.263785 285.551208 \r\nL 540.987105 285.551208 \r\nz\r\n\" style=\"fill:#1f77b4;\"/>\r\n   </g>\r\n   <g id=\"patch_184\">\r\n    <path clip-path=\"url(#p45145dcf55)\" d=\"M 543.263785 292.318125 \r\nL 545.540464 292.318125 \r\nL 545.540464 285.551208 \r\nL 543.263785 285.551208 \r\nz\r\n\" style=\"fill:#1f77b4;\"/>\r\n   </g>\r\n   <g id=\"patch_185\">\r\n    <path clip-path=\"url(#p45145dcf55)\" d=\"M 545.540464 292.318125 \r\nL 547.817144 292.318125 \r\nL 547.817144 285.551208 \r\nL 545.540464 285.551208 \r\nz\r\n\" style=\"fill:#1f77b4;\"/>\r\n   </g>\r\n   <g id=\"patch_186\">\r\n    <path clip-path=\"url(#p45145dcf55)\" d=\"M 547.817144 292.318125 \r\nL 550.093824 292.318125 \r\nL 550.093824 288.934666 \r\nL 547.817144 288.934666 \r\nz\r\n\" style=\"fill:#1f77b4;\"/>\r\n   </g>\r\n   <g id=\"patch_187\">\r\n    <path clip-path=\"url(#p45145dcf55)\" d=\"M 550.093824 292.318125 \r\nL 552.370504 292.318125 \r\nL 552.370504 292.318125 \r\nL 550.093824 292.318125 \r\nz\r\n\" style=\"fill:#1f77b4;\"/>\r\n   </g>\r\n   <g id=\"patch_188\">\r\n    <path clip-path=\"url(#p45145dcf55)\" d=\"M 552.370504 292.318125 \r\nL 554.647184 292.318125 \r\nL 554.647184 282.167749 \r\nL 552.370504 282.167749 \r\nz\r\n\" style=\"fill:#1f77b4;\"/>\r\n   </g>\r\n   <g id=\"patch_189\">\r\n    <path clip-path=\"url(#p45145dcf55)\" d=\"M 554.647184 292.318125 \r\nL 556.923864 292.318125 \r\nL 556.923864 292.318125 \r\nL 554.647184 292.318125 \r\nz\r\n\" style=\"fill:#1f77b4;\"/>\r\n   </g>\r\n   <g id=\"patch_190\">\r\n    <path clip-path=\"url(#p45145dcf55)\" d=\"M 556.923864 292.318125 \r\nL 559.200543 292.318125 \r\nL 559.200543 292.318125 \r\nL 556.923864 292.318125 \r\nz\r\n\" style=\"fill:#1f77b4;\"/>\r\n   </g>\r\n   <g id=\"patch_191\">\r\n    <path clip-path=\"url(#p45145dcf55)\" d=\"M 559.200543 292.318125 \r\nL 561.477223 292.318125 \r\nL 561.477223 292.318125 \r\nL 559.200543 292.318125 \r\nz\r\n\" style=\"fill:#1f77b4;\"/>\r\n   </g>\r\n   <g id=\"patch_192\">\r\n    <path clip-path=\"url(#p45145dcf55)\" d=\"M 561.477223 292.318125 \r\nL 563.753903 292.318125 \r\nL 563.753903 292.318125 \r\nL 561.477223 292.318125 \r\nz\r\n\" style=\"fill:#1f77b4;\"/>\r\n   </g>\r\n   <g id=\"patch_193\">\r\n    <path clip-path=\"url(#p45145dcf55)\" d=\"M 563.753903 292.318125 \r\nL 566.030583 292.318125 \r\nL 566.030583 292.318125 \r\nL 563.753903 292.318125 \r\nz\r\n\" style=\"fill:#1f77b4;\"/>\r\n   </g>\r\n   <g id=\"patch_194\">\r\n    <path clip-path=\"url(#p45145dcf55)\" d=\"M 566.030583 292.318125 \r\nL 568.307263 292.318125 \r\nL 568.307263 292.318125 \r\nL 566.030583 292.318125 \r\nz\r\n\" style=\"fill:#1f77b4;\"/>\r\n   </g>\r\n   <g id=\"patch_195\">\r\n    <path clip-path=\"url(#p45145dcf55)\" d=\"M 568.307263 292.318125 \r\nL 570.583943 292.318125 \r\nL 570.583943 288.934666 \r\nL 568.307263 288.934666 \r\nz\r\n\" style=\"fill:#1f77b4;\"/>\r\n   </g>\r\n   <g id=\"patch_196\">\r\n    <path clip-path=\"url(#p45145dcf55)\" d=\"M 570.583943 292.318125 \r\nL 572.860623 292.318125 \r\nL 572.860623 292.318125 \r\nL 570.583943 292.318125 \r\nz\r\n\" style=\"fill:#1f77b4;\"/>\r\n   </g>\r\n   <g id=\"patch_197\">\r\n    <path clip-path=\"url(#p45145dcf55)\" d=\"M 572.860623 292.318125 \r\nL 575.137302 292.318125 \r\nL 575.137302 292.318125 \r\nL 572.860623 292.318125 \r\nz\r\n\" style=\"fill:#1f77b4;\"/>\r\n   </g>\r\n   <g id=\"patch_198\">\r\n    <path clip-path=\"url(#p45145dcf55)\" d=\"M 575.137302 292.318125 \r\nL 577.413982 292.318125 \r\nL 577.413982 292.318125 \r\nL 575.137302 292.318125 \r\nz\r\n\" style=\"fill:#1f77b4;\"/>\r\n   </g>\r\n   <g id=\"patch_199\">\r\n    <path clip-path=\"url(#p45145dcf55)\" d=\"M 577.413982 292.318125 \r\nL 579.690662 292.318125 \r\nL 579.690662 292.318125 \r\nL 577.413982 292.318125 \r\nz\r\n\" style=\"fill:#1f77b4;\"/>\r\n   </g>\r\n   <g id=\"patch_200\">\r\n    <path clip-path=\"url(#p45145dcf55)\" d=\"M 579.690662 292.318125 \r\nL 581.967342 292.318125 \r\nL 581.967342 292.318125 \r\nL 579.690662 292.318125 \r\nz\r\n\" style=\"fill:#1f77b4;\"/>\r\n   </g>\r\n   <g id=\"patch_201\">\r\n    <path clip-path=\"url(#p45145dcf55)\" d=\"M 581.967342 292.318125 \r\nL 584.244022 292.318125 \r\nL 584.244022 292.318125 \r\nL 581.967342 292.318125 \r\nz\r\n\" style=\"fill:#1f77b4;\"/>\r\n   </g>\r\n   <g id=\"patch_202\">\r\n    <path clip-path=\"url(#p45145dcf55)\" d=\"M 584.244022 292.318125 \r\nL 586.520702 292.318125 \r\nL 586.520702 292.318125 \r\nL 584.244022 292.318125 \r\nz\r\n\" style=\"fill:#1f77b4;\"/>\r\n   </g>\r\n   <g id=\"patch_203\">\r\n    <path clip-path=\"url(#p45145dcf55)\" d=\"M 586.520702 292.318125 \r\nL 588.797381 292.318125 \r\nL 588.797381 292.318125 \r\nL 586.520702 292.318125 \r\nz\r\n\" style=\"fill:#1f77b4;\"/>\r\n   </g>\r\n   <g id=\"patch_204\">\r\n    <path clip-path=\"url(#p45145dcf55)\" d=\"M 588.797381 292.318125 \r\nL 591.074061 292.318125 \r\nL 591.074061 292.318125 \r\nL 588.797381 292.318125 \r\nz\r\n\" style=\"fill:#1f77b4;\"/>\r\n   </g>\r\n   <g id=\"patch_205\">\r\n    <path clip-path=\"url(#p45145dcf55)\" d=\"M 591.074061 292.318125 \r\nL 593.350741 292.318125 \r\nL 593.350741 292.318125 \r\nL 591.074061 292.318125 \r\nz\r\n\" style=\"fill:#1f77b4;\"/>\r\n   </g>\r\n   <g id=\"patch_206\">\r\n    <path clip-path=\"url(#p45145dcf55)\" d=\"M 593.350741 292.318125 \r\nL 595.627421 292.318125 \r\nL 595.627421 292.318125 \r\nL 593.350741 292.318125 \r\nz\r\n\" style=\"fill:#1f77b4;\"/>\r\n   </g>\r\n   <g id=\"patch_207\">\r\n    <path clip-path=\"url(#p45145dcf55)\" d=\"M 595.627421 292.318125 \r\nL 597.904101 292.318125 \r\nL 597.904101 288.934666 \r\nL 595.627421 288.934666 \r\nz\r\n\" style=\"fill:#1f77b4;\"/>\r\n   </g>\r\n   <g id=\"matplotlib.axis_3\">\r\n    <g id=\"xtick_6\">\r\n     <g id=\"line2d_14\">\r\n      <g>\r\n       <use style=\"stroke:#000000;stroke-width:0.8;\" x=\"410.349047\" xlink:href=\"#m70f10e8306\" y=\"292.318125\"/>\r\n      </g>\r\n     </g>\r\n     <g id=\"text_15\">\r\n      <!-- 50 -->\r\n      <g transform=\"translate(413.108422 312.043125)rotate(-90)scale(0.1 -0.1)\">\r\n       <use xlink:href=\"#DejaVuSans-53\"/>\r\n       <use x=\"63.623047\" xlink:href=\"#DejaVuSans-48\"/>\r\n      </g>\r\n     </g>\r\n    </g>\r\n    <g id=\"xtick_7\">\r\n     <g id=\"line2d_15\">\r\n      <g>\r\n       <use style=\"stroke:#000000;stroke-width:0.8;\" x=\"464.55571\" xlink:href=\"#m70f10e8306\" y=\"292.318125\"/>\r\n      </g>\r\n     </g>\r\n     <g id=\"text_16\">\r\n      <!-- 100 -->\r\n      <g transform=\"translate(467.315085 318.405625)rotate(-90)scale(0.1 -0.1)\">\r\n       <use xlink:href=\"#DejaVuSans-49\"/>\r\n       <use x=\"63.623047\" xlink:href=\"#DejaVuSans-48\"/>\r\n       <use x=\"127.246094\" xlink:href=\"#DejaVuSans-48\"/>\r\n      </g>\r\n     </g>\r\n    </g>\r\n    <g id=\"xtick_8\">\r\n     <g id=\"line2d_16\">\r\n      <g>\r\n       <use style=\"stroke:#000000;stroke-width:0.8;\" x=\"518.762373\" xlink:href=\"#m70f10e8306\" y=\"292.318125\"/>\r\n      </g>\r\n     </g>\r\n     <g id=\"text_17\">\r\n      <!-- 150 -->\r\n      <g transform=\"translate(521.521748 318.405625)rotate(-90)scale(0.1 -0.1)\">\r\n       <use xlink:href=\"#DejaVuSans-49\"/>\r\n       <use x=\"63.623047\" xlink:href=\"#DejaVuSans-53\"/>\r\n       <use x=\"127.246094\" xlink:href=\"#DejaVuSans-48\"/>\r\n      </g>\r\n     </g>\r\n    </g>\r\n    <g id=\"xtick_9\">\r\n     <g id=\"line2d_17\">\r\n      <g>\r\n       <use style=\"stroke:#000000;stroke-width:0.8;\" x=\"572.969036\" xlink:href=\"#m70f10e8306\" y=\"292.318125\"/>\r\n      </g>\r\n     </g>\r\n     <g id=\"text_18\">\r\n      <!-- 200 -->\r\n      <g transform=\"translate(575.728411 318.405625)rotate(-90)scale(0.1 -0.1)\">\r\n       <use xlink:href=\"#DejaVuSans-50\"/>\r\n       <use x=\"63.623047\" xlink:href=\"#DejaVuSans-48\"/>\r\n       <use x=\"127.246094\" xlink:href=\"#DejaVuSans-48\"/>\r\n      </g>\r\n     </g>\r\n    </g>\r\n   </g>\r\n   <g id=\"matplotlib.axis_4\">\r\n    <g id=\"ytick_9\">\r\n     <g id=\"line2d_18\">\r\n      <g>\r\n       <use style=\"stroke:#000000;stroke-width:0.8;\" x=\"358.852717\" xlink:href=\"#m42899a6a9b\" y=\"292.318125\"/>\r\n      </g>\r\n     </g>\r\n     <g id=\"text_19\">\r\n      <!-- 0 -->\r\n      <g transform=\"translate(345.490217 296.117344)scale(0.1 -0.1)\">\r\n       <use xlink:href=\"#DejaVuSans-48\"/>\r\n      </g>\r\n     </g>\r\n    </g>\r\n    <g id=\"ytick_10\">\r\n     <g id=\"line2d_19\">\r\n      <g>\r\n       <use style=\"stroke:#000000;stroke-width:0.8;\" x=\"358.852717\" xlink:href=\"#m42899a6a9b\" y=\"258.483539\"/>\r\n      </g>\r\n     </g>\r\n     <g id=\"text_20\">\r\n      <!-- 10 -->\r\n      <g transform=\"translate(339.127717 262.282757)scale(0.1 -0.1)\">\r\n       <use xlink:href=\"#DejaVuSans-49\"/>\r\n       <use x=\"63.623047\" xlink:href=\"#DejaVuSans-48\"/>\r\n      </g>\r\n     </g>\r\n    </g>\r\n    <g id=\"ytick_11\">\r\n     <g id=\"line2d_20\">\r\n      <g>\r\n       <use style=\"stroke:#000000;stroke-width:0.8;\" x=\"358.852717\" xlink:href=\"#m42899a6a9b\" y=\"224.648952\"/>\r\n      </g>\r\n     </g>\r\n     <g id=\"text_21\">\r\n      <!-- 20 -->\r\n      <g transform=\"translate(339.127717 228.448171)scale(0.1 -0.1)\">\r\n       <use xlink:href=\"#DejaVuSans-50\"/>\r\n       <use x=\"63.623047\" xlink:href=\"#DejaVuSans-48\"/>\r\n      </g>\r\n     </g>\r\n    </g>\r\n    <g id=\"ytick_12\">\r\n     <g id=\"line2d_21\">\r\n      <g>\r\n       <use style=\"stroke:#000000;stroke-width:0.8;\" x=\"358.852717\" xlink:href=\"#m42899a6a9b\" y=\"190.814366\"/>\r\n      </g>\r\n     </g>\r\n     <g id=\"text_22\">\r\n      <!-- 30 -->\r\n      <g transform=\"translate(339.127717 194.613584)scale(0.1 -0.1)\">\r\n       <use xlink:href=\"#DejaVuSans-51\"/>\r\n       <use x=\"63.623047\" xlink:href=\"#DejaVuSans-48\"/>\r\n      </g>\r\n     </g>\r\n    </g>\r\n    <g id=\"ytick_13\">\r\n     <g id=\"line2d_22\">\r\n      <g>\r\n       <use style=\"stroke:#000000;stroke-width:0.8;\" x=\"358.852717\" xlink:href=\"#m42899a6a9b\" y=\"156.979779\"/>\r\n      </g>\r\n     </g>\r\n     <g id=\"text_23\">\r\n      <!-- 40 -->\r\n      <g transform=\"translate(339.127717 160.778998)scale(0.1 -0.1)\">\r\n       <use xlink:href=\"#DejaVuSans-52\"/>\r\n       <use x=\"63.623047\" xlink:href=\"#DejaVuSans-48\"/>\r\n      </g>\r\n     </g>\r\n    </g>\r\n    <g id=\"ytick_14\">\r\n     <g id=\"line2d_23\">\r\n      <g>\r\n       <use style=\"stroke:#000000;stroke-width:0.8;\" x=\"358.852717\" xlink:href=\"#m42899a6a9b\" y=\"123.145193\"/>\r\n      </g>\r\n     </g>\r\n     <g id=\"text_24\">\r\n      <!-- 50 -->\r\n      <g transform=\"translate(339.127717 126.944411)scale(0.1 -0.1)\">\r\n       <use xlink:href=\"#DejaVuSans-53\"/>\r\n       <use x=\"63.623047\" xlink:href=\"#DejaVuSans-48\"/>\r\n      </g>\r\n     </g>\r\n    </g>\r\n    <g id=\"ytick_15\">\r\n     <g id=\"line2d_24\">\r\n      <g>\r\n       <use style=\"stroke:#000000;stroke-width:0.8;\" x=\"358.852717\" xlink:href=\"#m42899a6a9b\" y=\"89.310606\"/>\r\n      </g>\r\n     </g>\r\n     <g id=\"text_25\">\r\n      <!-- 60 -->\r\n      <g transform=\"translate(339.127717 93.109825)scale(0.1 -0.1)\">\r\n       <use xlink:href=\"#DejaVuSans-54\"/>\r\n       <use x=\"63.623047\" xlink:href=\"#DejaVuSans-48\"/>\r\n      </g>\r\n     </g>\r\n    </g>\r\n    <g id=\"ytick_16\">\r\n     <g id=\"line2d_25\">\r\n      <g>\r\n       <use style=\"stroke:#000000;stroke-width:0.8;\" x=\"358.852717\" xlink:href=\"#m42899a6a9b\" y=\"55.47602\"/>\r\n      </g>\r\n     </g>\r\n     <g id=\"text_26\">\r\n      <!-- 70 -->\r\n      <g transform=\"translate(339.127717 59.275238)scale(0.1 -0.1)\">\r\n       <use xlink:href=\"#DejaVuSans-55\"/>\r\n       <use x=\"63.623047\" xlink:href=\"#DejaVuSans-48\"/>\r\n      </g>\r\n     </g>\r\n    </g>\r\n   </g>\r\n   <g id=\"patch_208\">\r\n    <path d=\"M 358.852717 292.318125 \r\nL 358.852717 22.318125 \r\n\" style=\"fill:none;stroke:#000000;stroke-linecap:square;stroke-linejoin:miter;stroke-width:0.8;\"/>\r\n   </g>\r\n   <g id=\"patch_209\">\r\n    <path d=\"M 609.2875 292.318125 \r\nL 609.2875 22.318125 \r\n\" style=\"fill:none;stroke:#000000;stroke-linecap:square;stroke-linejoin:miter;stroke-width:0.8;\"/>\r\n   </g>\r\n   <g id=\"patch_210\">\r\n    <path d=\"M 358.852717 292.318125 \r\nL 609.2875 292.318125 \r\n\" style=\"fill:none;stroke:#000000;stroke-linecap:square;stroke-linejoin:miter;stroke-width:0.8;\"/>\r\n   </g>\r\n   <g id=\"patch_211\">\r\n    <path d=\"M 358.852717 22.318125 \r\nL 609.2875 22.318125 \r\n\" style=\"fill:none;stroke:#000000;stroke-linecap:square;stroke-linejoin:miter;stroke-width:0.8;\"/>\r\n   </g>\r\n   <g id=\"text_27\">\r\n    <!-- spam -->\r\n    <g transform=\"translate(467.614171 16.318125)scale(0.12 -0.12)\">\r\n     <defs>\r\n      <path d=\"M 44.28125 53.078125 \r\nL 44.28125 44.578125 \r\nQ 40.484375 46.53125 36.375 47.5 \r\nQ 32.28125 48.484375 27.875 48.484375 \r\nQ 21.1875 48.484375 17.84375 46.4375 \r\nQ 14.5 44.390625 14.5 40.28125 \r\nQ 14.5 37.15625 16.890625 35.375 \r\nQ 19.28125 33.59375 26.515625 31.984375 \r\nL 29.59375 31.296875 \r\nQ 39.15625 29.25 43.1875 25.515625 \r\nQ 47.21875 21.78125 47.21875 15.09375 \r\nQ 47.21875 7.46875 41.1875 3.015625 \r\nQ 35.15625 -1.421875 24.609375 -1.421875 \r\nQ 20.21875 -1.421875 15.453125 -0.5625 \r\nQ 10.6875 0.296875 5.421875 2 \r\nL 5.421875 11.28125 \r\nQ 10.40625 8.6875 15.234375 7.390625 \r\nQ 20.0625 6.109375 24.8125 6.109375 \r\nQ 31.15625 6.109375 34.5625 8.28125 \r\nQ 37.984375 10.453125 37.984375 14.40625 \r\nQ 37.984375 18.0625 35.515625 20.015625 \r\nQ 33.0625 21.96875 24.703125 23.78125 \r\nL 21.578125 24.515625 \r\nQ 13.234375 26.265625 9.515625 29.90625 \r\nQ 5.8125 33.546875 5.8125 39.890625 \r\nQ 5.8125 47.609375 11.28125 51.796875 \r\nQ 16.75 56 26.8125 56 \r\nQ 31.78125 56 36.171875 55.265625 \r\nQ 40.578125 54.546875 44.28125 53.078125 \r\nz\r\n\" id=\"DejaVuSans-115\"/>\r\n      <path d=\"M 18.109375 8.203125 \r\nL 18.109375 -20.796875 \r\nL 9.078125 -20.796875 \r\nL 9.078125 54.6875 \r\nL 18.109375 54.6875 \r\nL 18.109375 46.390625 \r\nQ 20.953125 51.265625 25.265625 53.625 \r\nQ 29.59375 56 35.59375 56 \r\nQ 45.5625 56 51.78125 48.09375 \r\nQ 58.015625 40.1875 58.015625 27.296875 \r\nQ 58.015625 14.40625 51.78125 6.484375 \r\nQ 45.5625 -1.421875 35.59375 -1.421875 \r\nQ 29.59375 -1.421875 25.265625 0.953125 \r\nQ 20.953125 3.328125 18.109375 8.203125 \r\nz\r\nM 48.6875 27.296875 \r\nQ 48.6875 37.203125 44.609375 42.84375 \r\nQ 40.53125 48.484375 33.40625 48.484375 \r\nQ 26.265625 48.484375 22.1875 42.84375 \r\nQ 18.109375 37.203125 18.109375 27.296875 \r\nQ 18.109375 17.390625 22.1875 11.75 \r\nQ 26.265625 6.109375 33.40625 6.109375 \r\nQ 40.53125 6.109375 44.609375 11.75 \r\nQ 48.6875 17.390625 48.6875 27.296875 \r\nz\r\n\" id=\"DejaVuSans-112\"/>\r\n     </defs>\r\n     <use xlink:href=\"#DejaVuSans-115\"/>\r\n     <use x=\"52.099609\" xlink:href=\"#DejaVuSans-112\"/>\r\n     <use x=\"115.576172\" xlink:href=\"#DejaVuSans-97\"/>\r\n     <use x=\"176.855469\" xlink:href=\"#DejaVuSans-109\"/>\r\n    </g>\r\n   </g>\r\n  </g>\r\n </g>\r\n <defs>\r\n  <clipPath id=\"p74952520c9\">\r\n   <rect height=\"270\" width=\"250.434783\" x=\"33.2875\" y=\"22.318125\"/>\r\n  </clipPath>\r\n  <clipPath id=\"p45145dcf55\">\r\n   <rect height=\"270\" width=\"250.434783\" x=\"358.852717\" y=\"22.318125\"/>\r\n  </clipPath>\r\n </defs>\r\n</svg>\r\n",
      "image/png": "[encoded data removed]"
     },
     "metadata": {
      "needs_background": "light"
     }
    }
   ],
   "source": [
    "mensajesdf.hist(column=\"Longitud\",by=\"Etiqueta\",bins=100,figsize=(10,5))"
   ]
  },
  {
   "cell_type": "code",
   "execution_count": 17,
   "metadata": {},
   "outputs": [],
   "source": [
    "#Procesamiento de textos"
   ]
  },
  {
   "cell_type": "code",
   "execution_count": 18,
   "metadata": {},
   "outputs": [],
   "source": [
    "import string"
   ]
  },
  {
   "cell_type": "code",
   "execution_count": 19,
   "metadata": {},
   "outputs": [
    {
     "output_type": "execute_result",
     "data": {
      "text/plain": [
       "'Mensaje de ejemplo! Nota: Este mensaje tiene signos de puntuacion :'"
      ]
     },
     "metadata": {},
     "execution_count": 19
    }
   ],
   "source": [
    "cadena = 'Mensaje de ejemplo! Nota: Este mensaje tiene signos de puntuacion :'\n",
    "cadena"
   ]
  },
  {
   "cell_type": "code",
   "execution_count": 20,
   "metadata": {},
   "outputs": [
    {
     "output_type": "execute_result",
     "data": {
      "text/plain": [
       "'!\"#$%&\\'()*+,-./:;<=>?@[\\\\]^_`{|}~'"
      ]
     },
     "metadata": {},
     "execution_count": 20
    }
   ],
   "source": [
    "string.punctuation"
   ]
  },
  {
   "cell_type": "code",
   "execution_count": 21,
   "metadata": {},
   "outputs": [],
   "source": [
    "sinpuntuacion = [c for c in cadena if c not in string.punctuation]"
   ]
  },
  {
   "cell_type": "code",
   "execution_count": 22,
   "metadata": {},
   "outputs": [],
   "source": [
    "sinpuntuacion = ''.join(sinpuntuacion)"
   ]
  },
  {
   "cell_type": "code",
   "execution_count": 23,
   "metadata": {},
   "outputs": [
    {
     "output_type": "execute_result",
     "data": {
      "text/plain": [
       "'Mensaje de ejemplo Nota Este mensaje tiene signos de puntuacion '"
      ]
     },
     "metadata": {},
     "execution_count": 23
    }
   ],
   "source": [
    "sinpuntuacion"
   ]
  },
  {
   "cell_type": "code",
   "execution_count": 24,
   "metadata": {},
   "outputs": [
    {
     "output_type": "stream",
     "name": "stderr",
     "text": [
      "[nltk_data] Downloading package stopwords to C:\\Users\\NüVO Gamer\n[nltk_data]     Station\\AppData\\Roaming\\nltk_data...\n[nltk_data]   Package stopwords is already up-to-date!\n"
     ]
    }
   ],
   "source": [
    "nltk.download('stopwords')\n",
    "from nltk.corpus import stopwords\n"
   ]
  },
  {
   "cell_type": "code",
   "execution_count": 25,
   "metadata": {},
   "outputs": [
    {
     "output_type": "execute_result",
     "data": {
      "text/plain": [
       "['de',\n",
       " 'la',\n",
       " 'que',\n",
       " 'el',\n",
       " 'en',\n",
       " 'y',\n",
       " 'a',\n",
       " 'los',\n",
       " 'del',\n",
       " 'se',\n",
       " 'las',\n",
       " 'por',\n",
       " 'un',\n",
       " 'para',\n",
       " 'con',\n",
       " 'no',\n",
       " 'una',\n",
       " 'su',\n",
       " 'al',\n",
       " 'lo',\n",
       " 'como',\n",
       " 'más',\n",
       " 'pero',\n",
       " 'sus',\n",
       " 'le',\n",
       " 'ya',\n",
       " 'o',\n",
       " 'este',\n",
       " 'sí',\n",
       " 'porque',\n",
       " 'esta',\n",
       " 'entre',\n",
       " 'cuando',\n",
       " 'muy',\n",
       " 'sin',\n",
       " 'sobre',\n",
       " 'también',\n",
       " 'me',\n",
       " 'hasta',\n",
       " 'hay',\n",
       " 'donde',\n",
       " 'quien',\n",
       " 'desde',\n",
       " 'todo',\n",
       " 'nos',\n",
       " 'durante',\n",
       " 'todos',\n",
       " 'uno',\n",
       " 'les',\n",
       " 'ni',\n",
       " 'contra',\n",
       " 'otros',\n",
       " 'ese',\n",
       " 'eso',\n",
       " 'ante',\n",
       " 'ellos',\n",
       " 'e',\n",
       " 'esto',\n",
       " 'mí',\n",
       " 'antes',\n",
       " 'algunos',\n",
       " 'qué',\n",
       " 'unos',\n",
       " 'yo',\n",
       " 'otro',\n",
       " 'otras',\n",
       " 'otra',\n",
       " 'él',\n",
       " 'tanto',\n",
       " 'esa',\n",
       " 'estos',\n",
       " 'mucho',\n",
       " 'quienes',\n",
       " 'nada',\n",
       " 'muchos',\n",
       " 'cual',\n",
       " 'poco',\n",
       " 'ella',\n",
       " 'estar',\n",
       " 'estas',\n",
       " 'algunas',\n",
       " 'algo',\n",
       " 'nosotros',\n",
       " 'mi',\n",
       " 'mis',\n",
       " 'tú',\n",
       " 'te',\n",
       " 'ti',\n",
       " 'tu',\n",
       " 'tus',\n",
       " 'ellas',\n",
       " 'nosotras',\n",
       " 'vosotros',\n",
       " 'vosotras',\n",
       " 'os',\n",
       " 'mío',\n",
       " 'mía',\n",
       " 'míos',\n",
       " 'mías',\n",
       " 'tuyo',\n",
       " 'tuya',\n",
       " 'tuyos',\n",
       " 'tuyas',\n",
       " 'suyo',\n",
       " 'suya',\n",
       " 'suyos',\n",
       " 'suyas',\n",
       " 'nuestro',\n",
       " 'nuestra',\n",
       " 'nuestros',\n",
       " 'nuestras',\n",
       " 'vuestro',\n",
       " 'vuestra',\n",
       " 'vuestros',\n",
       " 'vuestras',\n",
       " 'esos',\n",
       " 'esas',\n",
       " 'estoy',\n",
       " 'estás',\n",
       " 'está',\n",
       " 'estamos',\n",
       " 'estáis',\n",
       " 'están',\n",
       " 'esté',\n",
       " 'estés',\n",
       " 'estemos',\n",
       " 'estéis',\n",
       " 'estén',\n",
       " 'estaré',\n",
       " 'estarás',\n",
       " 'estará',\n",
       " 'estaremos',\n",
       " 'estaréis',\n",
       " 'estarán',\n",
       " 'estaría',\n",
       " 'estarías',\n",
       " 'estaríamos',\n",
       " 'estaríais',\n",
       " 'estarían',\n",
       " 'estaba',\n",
       " 'estabas',\n",
       " 'estábamos',\n",
       " 'estabais',\n",
       " 'estaban',\n",
       " 'estuve',\n",
       " 'estuviste',\n",
       " 'estuvo',\n",
       " 'estuvimos',\n",
       " 'estuvisteis',\n",
       " 'estuvieron',\n",
       " 'estuviera',\n",
       " 'estuvieras',\n",
       " 'estuviéramos',\n",
       " 'estuvierais',\n",
       " 'estuvieran',\n",
       " 'estuviese',\n",
       " 'estuvieses',\n",
       " 'estuviésemos',\n",
       " 'estuvieseis',\n",
       " 'estuviesen',\n",
       " 'estando',\n",
       " 'estado',\n",
       " 'estada',\n",
       " 'estados',\n",
       " 'estadas',\n",
       " 'estad',\n",
       " 'he',\n",
       " 'has',\n",
       " 'ha',\n",
       " 'hemos',\n",
       " 'habéis',\n",
       " 'han',\n",
       " 'haya',\n",
       " 'hayas',\n",
       " 'hayamos',\n",
       " 'hayáis',\n",
       " 'hayan',\n",
       " 'habré',\n",
       " 'habrás',\n",
       " 'habrá',\n",
       " 'habremos',\n",
       " 'habréis',\n",
       " 'habrán',\n",
       " 'habría',\n",
       " 'habrías',\n",
       " 'habríamos',\n",
       " 'habríais',\n",
       " 'habrían',\n",
       " 'había',\n",
       " 'habías',\n",
       " 'habíamos',\n",
       " 'habíais',\n",
       " 'habían',\n",
       " 'hube',\n",
       " 'hubiste',\n",
       " 'hubo',\n",
       " 'hubimos',\n",
       " 'hubisteis',\n",
       " 'hubieron',\n",
       " 'hubiera',\n",
       " 'hubieras',\n",
       " 'hubiéramos',\n",
       " 'hubierais',\n",
       " 'hubieran',\n",
       " 'hubiese',\n",
       " 'hubieses',\n",
       " 'hubiésemos',\n",
       " 'hubieseis',\n",
       " 'hubiesen',\n",
       " 'habiendo',\n",
       " 'habido',\n",
       " 'habida',\n",
       " 'habidos',\n",
       " 'habidas',\n",
       " 'soy',\n",
       " 'eres',\n",
       " 'es',\n",
       " 'somos',\n",
       " 'sois',\n",
       " 'son',\n",
       " 'sea',\n",
       " 'seas',\n",
       " 'seamos',\n",
       " 'seáis',\n",
       " 'sean',\n",
       " 'seré',\n",
       " 'serás',\n",
       " 'será',\n",
       " 'seremos',\n",
       " 'seréis',\n",
       " 'serán',\n",
       " 'sería',\n",
       " 'serías',\n",
       " 'seríamos',\n",
       " 'seríais',\n",
       " 'serían',\n",
       " 'era',\n",
       " 'eras',\n",
       " 'éramos',\n",
       " 'erais',\n",
       " 'eran',\n",
       " 'fui',\n",
       " 'fuiste',\n",
       " 'fue',\n",
       " 'fuimos',\n",
       " 'fuisteis',\n",
       " 'fueron',\n",
       " 'fuera',\n",
       " 'fueras',\n",
       " 'fuéramos',\n",
       " 'fuerais',\n",
       " 'fueran',\n",
       " 'fuese',\n",
       " 'fueses',\n",
       " 'fuésemos',\n",
       " 'fueseis',\n",
       " 'fuesen',\n",
       " 'sintiendo',\n",
       " 'sentido',\n",
       " 'sentida',\n",
       " 'sentidos',\n",
       " 'sentidas',\n",
       " 'siente',\n",
       " 'sentid',\n",
       " 'tengo',\n",
       " 'tienes',\n",
       " 'tiene',\n",
       " 'tenemos',\n",
       " 'tenéis',\n",
       " 'tienen',\n",
       " 'tenga',\n",
       " 'tengas',\n",
       " 'tengamos',\n",
       " 'tengáis',\n",
       " 'tengan',\n",
       " 'tendré',\n",
       " 'tendrás',\n",
       " 'tendrá',\n",
       " 'tendremos',\n",
       " 'tendréis',\n",
       " 'tendrán',\n",
       " 'tendría',\n",
       " 'tendrías',\n",
       " 'tendríamos',\n",
       " 'tendríais',\n",
       " 'tendrían',\n",
       " 'tenía',\n",
       " 'tenías',\n",
       " 'teníamos',\n",
       " 'teníais',\n",
       " 'tenían',\n",
       " 'tuve',\n",
       " 'tuviste',\n",
       " 'tuvo',\n",
       " 'tuvimos',\n",
       " 'tuvisteis',\n",
       " 'tuvieron',\n",
       " 'tuviera',\n",
       " 'tuvieras',\n",
       " 'tuviéramos',\n",
       " 'tuvierais',\n",
       " 'tuvieran',\n",
       " 'tuviese',\n",
       " 'tuvieses',\n",
       " 'tuviésemos',\n",
       " 'tuvieseis',\n",
       " 'tuviesen',\n",
       " 'teniendo',\n",
       " 'tenido',\n",
       " 'tenida',\n",
       " 'tenidos',\n",
       " 'tenidas',\n",
       " 'tened']"
      ]
     },
     "metadata": {},
     "execution_count": 25
    }
   ],
   "source": [
    "stopwords.words(\"spanish\")"
   ]
  },
  {
   "cell_type": "code",
   "execution_count": 26,
   "metadata": {},
   "outputs": [],
   "source": [
    "palabras = sinpuntuacion.split()"
   ]
  },
  {
   "cell_type": "code",
   "execution_count": 27,
   "metadata": {},
   "outputs": [],
   "source": [
    "cadena_limpia = [palabra for palabra in palabras if palabra.lower() not in stopwords.words(\"spanish\")]"
   ]
  },
  {
   "cell_type": "code",
   "execution_count": 28,
   "metadata": {},
   "outputs": [
    {
     "output_type": "execute_result",
     "data": {
      "text/plain": [
       "['Mensaje', 'ejemplo', 'Nota', 'mensaje', 'signos', 'puntuacion']"
      ]
     },
     "metadata": {},
     "execution_count": 28
    }
   ],
   "source": [
    "cadena_limpia"
   ]
  },
  {
   "cell_type": "code",
   "execution_count": 29,
   "metadata": {},
   "outputs": [],
   "source": [
    "def procesar_texto(cadena):\n",
    "    sinpuntuacion = [c for c in cadena if c not in string.punctuation]\n",
    "    sinpuntuacion = ''.join(sinpuntuacion)\n",
    "    palabras = sinpuntuacion.split()\n",
    "    cadena_limpia = [palabra for palabra in palabras if palabra.lower() not in stopwords.words(\"spanish\")]\n",
    "    return cadena_limpia"
   ]
  },
  {
   "cell_type": "code",
   "execution_count": 30,
   "metadata": {},
   "outputs": [
    {
     "output_type": "stream",
     "name": "stdout",
     "text": [
      "['Mensaje', 'ejemplo', 'Nota', 'mensaje', 'signos', 'puntuacion']\n"
     ]
    }
   ],
   "source": [
    "resultado = procesar_texto('Mensaje de ejemplo! Nota: Este mensaje tiene signos de puntuacion :')\n",
    "print(resultado)"
   ]
  },
  {
   "cell_type": "code",
   "execution_count": 31,
   "metadata": {},
   "outputs": [
    {
     "output_type": "execute_result",
     "data": {
      "text/plain": [
       "0    [Go, until, jurong, point, crazy, Available, o...\n",
       "1                       [Ok, lar, Joking, wif, u, oni]\n",
       "2    [Free, entry, in, 2, wkly, comp, to, win, FA, ...\n",
       "3    [U, dun, say, so, early, hor, U, c, already, t...\n",
       "4    [Nah, I, dont, think, goes, to, usf, lives, ar...\n",
       "Name: Mensaje, dtype: object"
      ]
     },
     "metadata": {},
     "execution_count": 31
    }
   ],
   "source": [
    "mensajesdf[\"Mensaje\"].head(5).apply(procesar_texto)"
   ]
  },
  {
   "cell_type": "code",
   "execution_count": 32,
   "metadata": {},
   "outputs": [],
   "source": [
    "from sklearn.feature_extraction.text import CountVectorizer"
   ]
  },
  {
   "cell_type": "code",
   "execution_count": 33,
   "metadata": {},
   "outputs": [],
   "source": [
    "transformador = CountVectorizer(analyzer = procesar_texto).fit(mensajesdf[\"Mensaje\"])"
   ]
  },
  {
   "cell_type": "code",
   "execution_count": 35,
   "metadata": {
    "tags": [
     "outputPrepend"
    ]
   },
   "outputs": [
    {
     "output_type": "stream",
     "name": "stdout",
     "text": [
      "tel': 4766, 'virgin': 11129, 'sumfing': 10438, '86888': 866, 'Subscribe6GBPmnth': 3913, '3hrs': 595, 'stoptxtStop': 10343, 'hopeSo': 7381, 'hunny': 7455, 'amnow': 4821, 'feelin': 6708, 'ithink': 7663, 'tonsolitusaswell': 10810, 'iam': 7482, 'layin': 7940, 'bedreal': 5154, 'lotsof': 8114, 'PUTTIN': 3276, 'hiphop': 7333, 'managed': 8226, 'oxygen': 8912, 'resort': 9605, 'roller': 9685, 'recorder': 9498, 'canname': 5504, 'capital': 5513, 'Australia': 1129, 'MQUIZ': 2825, 'SHOWR': 3590, 'Received': 3491, 'acted': 4675, 'upon': 11020, 'ceiling': 5576, 'presnts': 9252, 'bcz': 5134, 'jeevithathile': 7714, 'irulinae': 7639, 'neekunna': 8610, 'prakasamanu': 9224, 'sneham': 10117, 'prakasam': 9223, 'ennal': 6509, 'prabha': 9215, 'mns': 8423, 'isLOVE': 7642, 'blowing': 5274, '7634': 784, '7684': 785, 'Everybody': 1846, 'firmware': 6773, 'vijaykanth': 11119, 'comedy': 5789, 'captain': 5516, 'tvhe': 10926, 'hide': 7318, 'anythiing': 4879, 'ripped': 9664, 'wwwclubmobycom': 11493, '08717509990': 147, 'polytruePixRingtonesGames': 9158, 'keypad': 7811, 'btwn': 5394, 'decades': 6101, 'BEER': 1175, 'PETROL': 3221, 'goverment': 7107, 'expects': 6608, 'DRINK': 1647, 'DRIVE': 1648, 'REWARD': 3447, 'WAITING': 4332, 'loyal': 8142, 'customers': 6008, '09066380611': 267, 'spice': 10224, 'Prasanth': 3368, 'ettans': 6552, '08718738002': 168, '48922': 645, '211104': 439, 'APPY': 979, 'FIZZ': 1893, 'contains': 5873, 'Ladies': 2669, 'genus': 7015, 'robinson': 9675, 'Nottel': 3096, 'print': 9276, 'outs': 8888, 'REALY': 3433, 'SOZ': 3629, 'IMAT': 2368, 'MUMS': 2837, 'IDIOT': 2354, 'COMPETITION': 1423, 'FREINDS': 1913, 'FOREVER': 1901, 'msgsometext': 8503, '07099833605': 25, 'Ref9280114': 3496, 'Chloe': 1512, '150ptext': 374, 'Wewa': 4454, '130': 342, 'Iriver': 2448, '255': 459, '128': 335, 'bw': 5439, 'Sry': 3875, 'dajst': 6033, 'Eatin': 1802, 'Hmmmbut': 2297, 'Surly': 3935, '07808726822': 40, '08718729758': 164, 'dumb': 6394, 'dokey': 6305, 'i‘ll': 7683, 'Mmmmmmm': 2922, 'snuggles': 10124, 'contented': 5875, 'whispers': 11320, 'error': 6532, 'healthy': 7261, 'Wif': 4476, '2bold': 507, 'givits': 7048, 'kanoanyway': 7789, 'brother‘s': 5379, 'scraped': 9811, 'barrel': 5103, 'misfits': 8401, 'S8': 3546, 'switch': 10503, 'Her': 2271, 'sleepin': 10061, 'sections': 9839, 'clearer': 5723, 'PEACH': 3216, 'CAKE': 1372, 'TASTS': 3957, 'LUSH': 2665, 'GAME': 2012, 'Rayman': 3480, 'Golf': 2112, 'activ8': 4679, 'Termsapply': 4069, 'Therell': 4097, 'minor': 8387, 'shindig': 9936, 'Jason': 2500, 'CameraVideo': 1465, 'minstexts': 8391, 'Career': 1476, 'INDYAROCKSCOM': 2378, 'phonebook': 9061, 'Keng': 2567, 'rocking': 9678, 'ashes': 4971, 'xins': 11531, 'Shijutta': 3766, 'kafter': 7777, 'offense': 8765, 'BBDthts': 1163, 'dvg': 6406, 'coldheard': 5770, 'vinobanagar': 11125, 'conditionand': 5841, 'ovulatewhen': 8901, '3wks': 603, 'woah': 11397, 'realising': 9458, 'Thinking': 4108, 'Orh': 3193, 'beauty': 5145, 'hides': 7319, 'secrets': 9836, 'n8': 8553, 'darlinim': 6054, 'soonxxx': 10166, 'CoolMob': 1555, 'FrogAXEL': 1998, 'AkonLonely': 1052, 'EyedDont': 1869, 'wasted': 11216, 'Cashbincouk': 1483, 'wwwcashbincouk': 11492, 'EVER': 1781, 'canteen': 5509, 'stressfull': 10362, 'Laugh': 2679, 'adds': 4693, 'ni8swt': 8638, 'continued': 5879, 'Name': 3029, 'President': 3376, 'é': 11685, '140': 347, 'ardÉ': 4930, '180': 388, 'leastWhich': 7953, 'bedrm': 5155, 'pleasured': 9125, 'Hitechnical': 2288, 'supportproviding': 10463, 'assistance': 4986, 'BUS': 1228, '1172': 323, 'reLation': 9442, 'built': 5405, 'atlast': 4999, 'lonlines': 8090, 'lotz': 8118, 'memories': 8327, 'LOU': 2653, 'GOODNITE': 2049, 'SHAME': 3580, 'CAME': 1378, 'GAILxx': 2011, 'Hii': 2283, 'complacent': 5812, 'SEEN': 3568, 'BABY': 1148, 'COMMON': 1422, 'ROOM': 3457, 'denis': 6142, 'mina': 8376, 'Sen': 3728, 'miwa': 8419, 'senthil': 9880, 'hsbc': 7420, 'statement': 10296, 'woulda': 11447, 'Indeed': 2428, '09066649731from': 270, 'Holy': 2315, 'mth': 8509, 'opposite': 8838, 'heavily': 7275, 'Saw': 3709, 'Guys': 2150, 'Dolls': 1731, 'Patrick': 3294, 'Swayze': 3937, 'Santa': 3698, '09077818151': 275, 'Calls150ppm': 1459, '30s': 553, 'wwwsantacallingcom': 11512, 'miserable': 8400, 'total': 10837, 'quarter': 9382, 'nervous': 8618, 'fired': 6769, 'limping': 8021, 'aa': 4625, '0784987': 43, '08719180219': 170, '060505': 19, 'oga': 8783, 'poorly': 9167, 'punishment': 9357, 'Brb': 1336, 'kill': 7826, 'Predicte': 3372, 'situations': 10040, 'Before': 1272, 'loosing': 8099, 'smaller': 10086, 'capacity': 5512, 'Out': 3199, 'Videos': 4311, 'smsshsexnetUN': 10111, 'fgkslpoPW': 6725, 'fgkslpo': 6724, '0871277810710pmin': 121, 'Drink': 1749, 'defer': 6120, 'admission': 4700, 'Checkmate': 1503, 'chess': 5648, 'Persian': 3303, 'phrase': 9067, 'Shah': 3749, 'Maat': 2846, 'Po': 3342, 'Rats': 3478, 'themes': 10653, 'pee': 9012, 'burns': 5418, 'BEST': 1179, 'PETE': 3219, '2GEVA': 485, 'LONGER': 2645, 'THAN': 3978, 'photoshop': 9066, 'manageable': 8225, '08715203652': 134, '42810': 622, '29100': 476, 'shoppin': 9955, 'toopray': 10818, 'inshah': 7585, 'allah': 4787, 'Ashley': 1113, 'Sthis': 3892, 'increase': 7548, 'winning': 11359, 'Gain': 2069, 'wifedont': 11337, 'iti': 7664, 'tooLets': 10812, 'north': 8687, 'carolina': 5540, 'texas': 10611, 'gre': 7130, 'bomb': 5287, 'breathing': 5351, 'Response': 3517, 'powerful': 9208, 'weapon': 11240, 'nightswt': 8651, 'dreamstake': 6350, 'lovly': 8137, 'MESSAGEThanks': 2785, 'Subscription': 3915, '150pMSGRCVD': 357, 'Skip': 3809, 'CustomerCare': 1590, '08718726270': 155, 'playi': 9117, 'clas': 5712, 'lit': 8048, 'Loooooool': 2726, 'couch': 5922, 'Wasnt': 4423, 'celebration': 5580, 'rents': 9567, 'swashbuckling': 10488, 'Waste': 4424, 'Innocent': 2439, '5Terror': 708, '6Cruel': 757, '7Romantic': 793, '8Lovable': 900, '9decent': 927, 'joker': 7742, 'Dips': 1708, 'Texting': 4076, 'gek1510': 7006, 'Wuld': 4519, 'nuther': 8733, 'lyricalladie21F': 8174, 'YES910': 4555, 'NO910': 3009, 'wwwSMSacuhmmross': 11487, 'happiest': 7226, 'characters': 5608, 'differences': 6215, 'lists': 8047, 'tylers': 10941, 'crisis': 5971, 'Whenwhere': 4465, 'antibiotic': 4870, 'abdomen': 4628, 'gynae': 7184, 'infections': 7558, 'bone': 5288, 'Poor': 3359, 'lmao': 8059, '6times': 771, 'exposed': 6620, 'chastity': 5621, 'device': 6180, 'beatings': 5141, 'uses': 11048, 'Miserable': 2910, 'gut': 7177, 'wrenching': 11454, 'tallahassee': 10541, 'ou': 8872, 'Taka': 4042, 'SUPER': 3673, 'PoBox202': 3346, 'NR31': 3019, '7ZS': 795, '450pw': 638, 'ritten': 9668, 'fold': 6825, 'Warner': 4421, 'Village': 4314, '83118': 836, 'Colin': 1533, 'Farrell': 1938, 'SWAT': 3681, 'PopcornJust': 3360, 'msgticketkioskValid': 8505, '4712': 642, 'kiosk': 7837, 'SONY': 3621, 'mre': 8493, 'solihull': 10135, 'REGRET': 3439, 'INFORM': 2379, 'NHS': 2996, 'MISTAKEU': 2800, 'ACTUALLY': 940, 'BORNPLEASE': 1200, 'REPORT': 3444, 'YOR': 4561, 'LOCAL': 2640, 'HOSPITAL': 2201, '2B': 478, 'TERMINATEDWE': 3969, 'INCONVENIENCE': 2375, 'dentists': 6146, 'Goal': 2105, 'Arsenal': 1109, 'Henry': 2270, 'yards': 11550, 'Bergkamp': 1278, 'margin': 8242, '78': 787, 'parent': 8957, 'Itsnot': 2459, 'childs': 5674, 'parentnot': 8958, 'Ride': 3520, 'unintentional': 10989, 'nonetheless': 8678, 'hooch': 7375, 'toaday': 10769, 'Splat': 3864, 'Grazed': 2130, 'Re': 3481, 'confirmdeny': 5850, 'hearin': 7265, 'yah': 11545, 'torture': 10832, 'england': 6503, 'hopeing': 7386, 'wasn‘t': 11214, 'sisters': 10032, 'SEXYCHAT': 3578, 'lips': 8038, 'Match': 2873, 'startedindia': 10288, 'Kkcongratulation': 2589, 'court': 5937, 'chapel': 5604, 'frontierville': 6930, 'mountain': 8481, 'deer': 6117, 'maili': 8209, 'mailed': 8208, 'varma': 11083, 'membershiptake': 8325, 'careinsha': 5529, 'Wrong': 4517, 'secure': 9840, 'Amy': 1080, 'parties': 8971, 'james': 7694, 'farting': 6677, 'ortxt': 8863, 'Select': 3727, 'trained': 10853, 'advisors': 4716, 'dialling': 6190, '402': 609, 'woot': 11412, 'stuffing': 10389, 'Ahhhhjust': 1042, 'uphad': 11016, 'thoso': 10693, 'viveki': 11141, '96': 919, 'dado': 6026, 'holder': 7353, 'dining': 6231, 'experiencehttpwwwvouch4mecometlpdiningasp': 6611, 'kaila': 7778, '09058094507': 200, 'donate': 6310, 'UNICEFs': 4212, 'Asian': 1114, 'Tsunami': 4180, 'disaster': 6247, 'fund': 6951, 'DONATE': 1632, '864233': 864, 'cme': 5748, 'hos': 7394, '2morow': 519, 'xuhui': 11535, 'collapsed': 5772, 'Stuff': 3906, 'DOES': 1627, 'cumming': 5994, 'JADE': 2474, 'PAUL': 3212, 'DIDN\\x92T': 1619, 'REMEMBER': 3440, 'BARMED': 1158, 'TALK': 3950, 'Spending': 3859, 'Slept': 3815, 'thinkThis': 10678, 'dangerous': 6043, 'goldviking': 7079, '29M': 477, 'YES762': 4554, 'NO762': 3008, 'wwwSMSacugoldviking': 11486, 'L8r': 2612, 'rushing': 9727, 'channel': 5603, 'coulda': 5926, 'Phony': 3318, 'Eta': 1834, '1230': 333, 'okday': 8790, 'BUZ': 1231, 'WEDLUNCH': 4344, 'OUTSOMEWHERE': 3141, 'ADRINK': 945, 'TOWNCUD': 4025, '2WATERSHD': 503, 'PPL': 3261, 'FROMWRK': 1923, 'BTHERE': 1222, 'PETEXXX': 3220, 'Esplanade': 1833, 'Hmph': 2303, 'baller': 5084, 'punto': 9358, 'ayo': 5056, 'travelled': 10872, 'Looking': 2723, '£125': 11636, 'Freeentry': 1988, 'xt': 11534, 'wwwldewcom1win150ppmx3age16': 11503, 'toyota': 10847, 'camry': 5494, 'olayiwolas': 8799, 'Mileage': 2901, 'kits': 7843, 'landing': 7900, 'Holla': 2313, 'clover': 5743, 'numberpls': 8727, 'idconvey': 7494, 'achanammaRakheshQatar': 4667, 'rencontre': 9559, 'Mountains': 2958, '08714712412': 129, 'galsU': 6975, 'nìte': 8741, 'puppy': 9359, 'noise': 8669, 'sarasota': 9765, '150pmeg': 366, 'HGSuite3422lands': 2181, 'RowW1j6HL': 3538, '08715203685': 137, 'Code4xx26': 1530, '131004': 343, 'crossing': 5974, 'deepest': 6116, 'darkest': 6049, 'fantasies': 6672, '09094646631': 279, 'nat': 8577, 'inconvenient': 7547, 'vldo': 11143, 'adsense': 4707, 'approved': 4917, 'dudette': 6390, 'perumbavoor': 9047, 'stage': 10269, 'cherish': 5646, 'clarify': 5711, 'preponed': 9245, 'Natalie': 3032, '20F': 434, 'YES165': 4551, 'NO165': 3005, 'wwwSMSacunatalie2k9': 11489, 'younger': 11593, 'Jamster': 2494, 'wallpaper': 11188, '08701213186': 76, 'liver': 8053, 'stylish': 10398, 'Hmmmstill': 2301, 'opener': 8825, 'guides': 7173, 'watched': 11220, 'loneliness': 8086, 'skyving': 10056, 'Pilates': 3324, 'dads': 6027, 'Afternoon': 1033, 'onwords': 8822, 'mtnl': 8511, 'mumbai': 8524, '83039': 833, '62735£450': 735, 'AccommodationVouchers': 1014, 'mustprovide': 8540, '15541': 380, 'Rajitha': 3471, 'Ranju': 3476, '5p': 718, 'styles': 10396, 'Starting': 3884, 'TsCs08714740323': 4177, '1Winawk': 410, '£150perweeksub': 11644, 'dearslp': 6095, 'welltake': 11279, 'careswt': 5533, 'dreamsMuah': 6349, '09066361921': 257, 'disagreeable': 6244, 'Guy': 2149, 'afterwards': 4732, 'battle': 5123, 'VIVEKANAND': 4292, 'SD': 3563, 'UAWAKEFEELLIKW': 4202, 'SHITJUSTFOUND': 3586, 'VIA': 4286, 'ALETTER': 962, 'THATMUM': 3984, 'GOTMARRIED': 2056, '4thNOVBEHIND': 674, 'OURBACKS': 3138, 'FUCKINNICESELFISHDEVIOUSBITCHANYWAYI\\x92L': 1928, 'rearrange': 9466, 'Dormitory': 1739, 'Dirty': 1710, 'Astronomer': 1118, 'Moon': 2944, 'starer': 10281, 'Election': 1814, 'Lies': 2694, 'recount': 9500, 'Motherinlaw': 2955, 'Woman': 4499, 'Hitler': 2289, 'Eleven': 1815, 'Twelve': 4188, 'worms': 11434, 'suffering': 10425, 'dysentry': 6409, 'andre': 4839, 'virgils': 11128, 'lorgoin': 8102, 'Gokila': 2110, 'ShanilRakhesh': 3755, 'herethanksi': 7301, 'exchanged': 6591, 'uncut': 10971, 'diamond': 6192, 'stuffleaving': 10390, 'Dino': 1706, 'Prem': 3373, 'Kkthis': 2595, 'kotees': 7870, 'TheMobHit': 4090, 'Pink': 3326, 'Panther': 3285, 'Sugababes': 3918, 'Zebra': 4621, 'badass': 5074, 'Hoody': 2321, 'wallpaperall': 11189, 'resent': 9594, 'Queries': 3411, 'customersqueriesnetvisionukcom': 6009, 'hassling': 7237, 'andres': 4840, 'HAUGHAIGHGTUJHYGUJ': 2161, 'Ding': 1705, 'fassyole': 6678, 'Blacko': 1296, 'londn': 8084, 'KISS': 2547, '4EVA': 649, 'responsibilities': 9612, '08715205273': 139, 'VCo': 4284, 'humanities': 7446, 'Fills': 1950, 'calm': 5486, 'reassurance': 9470, 'Aslamalaikkuminsha': 1117, 'tohar': 10780, 'beeen': 5158, 'muht': 8519, 'albi': 4770, 'mufti': 8518, 'mahfuuzmeaning': 8206, '078': 36, 'ENUFCREDEIT': 1773, 'TOCALLSHALL': 4008, 'ILEAVE': 2364, 'UNI': 4211, 'Chikku': 1507, 'treats': 10880, 'Okors': 3162, 'ibored': 7484, 'adding': 4690, 'zeros': 11619, 'savings': 9783, 'goigng': 7073, 'perfume': 9032, 'Sday': 3720, 'joinedso': 7739, 'grocers': 7146, 'pubs': 9349, 'Frankie': 1980, 'Bennys': 1277, 'warner': 11206, 'VE': 4285, 'changing': 5602, 'diapers': 6194, 'owed': 8905, 'Unlike': 4254, 'patients': 8992, 'turkeys': 10919, 'helens': 7281, 'princes': 9274, 'dawhere': 6067, 'unintentionally': 10990, 'garden': 6985, 'bulbs': 5406, 'seeds': 9843, '£3350': 11657, 'Scotsman': 3719, 'go2': 7059, 'notxtcouk': 8703, 'wenever': 11283, 'familymay': 6665, 'stability': 10264, 'tranquility': 10858, 'vibrant': 11104, 'colourful': 5782, 'bawling': 5124, 'failure': 6648, 'failing': 6647, 'YEARS': 4548, 'BOYFRIEND': 1212, 'SI': 3592, 'Velusamy': 4304, 'sirs': 10029, 'facilities': 6639, 'karnan': 7794, 'bluray': 5279, 'I‘ve': 2471, 'salt': 9752, 'wounds': 11449, 'Water': 4429, 'logging': 8075, 'Geoenvironmental': 2087, 'implications': 7524, 'gently': 7013, 'Sms': 3826, 'Fuuuuck': 2005, 'salmon': 9750, 'uploaded': 11018, 'WRKIN': 4397, 'ree': 9508, 'compensation': 5810, 'awkward': 5053, 'i‘m': 7684, 'splash': 10231, 'leg': 7962, 'Musta': 2974, 'overdid': 8896, 'wwwtelediscountcouk': 11516, 'STUDENT': 3662, 'DISCOUNT': 1623, 'BOOKS': 1197, '2StopTxt': 500, 'Hiwhat': 2290, 'gastroenteritis': 6989, 'replace': 9573, 'reduce': 9507, 'limiting': 8019, 'illness': 7512, 'Jane': 2497, 'wrk': 11457, 'lst': 8144, 'Foned': 1967, 'chuck': 5698, 'nightsWe': 8650, 'port': 9175, 'step': 10314, 'liaoToo': 7990, 'stuffs': 10391, 'JUSWOKE': 2490, 'BOATIN': 1194, 'DOCKS': 1626, 'SLEPT': 3607, 'WID': 4364, 'OLD': 3124, 'SPINOUT': 3636, 'GIV': 2030, 'GOSSIP': 2053, 'remet': 9550, 'nichols': 8640, '08715203656': 135, '42049': 619, '261004': 463, 'realise': 9456, 'Started': 3883, 'uworld': 11064, 'qbank': 9377, 'assessment': 4984, 'Someonone': 3837, '09064015307': 239, 'BOX334SK38ch': 1205, 'tke': 10758, 'tease': 10576, 'temales': 10595, 'vidnot': 11116, 'finishd': 6762, '09061213237': 215, '177': 386, 'M227XY': 2755, 'dull': 6393, 'studies': 10381, 'anyones': 4877, 'treadmill': 10875, 'Craigslist': 1571, 'absolutely': 4639, 'South': 3852, 'Park': 3288, 'drmstake': 6366, 'SOMETHIN': 3619, 'CALLED': 1375, 'SWAN': 3679, 'PARENTS': 3205, 'ER': 1774, 'INDIANS': 2377, 'MOyeP': 2823, 'SaLL': 3685, 'gOoD': 6966, 'HehE': 2257, 'shexy': 9935, 'Xx': 4541, 'teethif': 10583, 'asapok': 4969, 'HelloHow': 2262, 'doingWhat': 6301, '2When': 506, 'lamp': 7898, 'latebut': 7922, 'kwish': 7876, 'foward': 6879, '09061790126': 231, 'Vikky': 4313, 'misundrstud': 8416, '2u2': 537, 'genes': 7009, 'wwwLdewcom1win150ppmx3age16subscription': 11483, 'resuming': 9629, 'minimum': 8386, 'reapply': 9465, 'london': 8085, 'treatin': 10879, 'treacle': 10874, 'mumHas': 8523, 'beendropping': 5161, 'theplace': 10657, 'adress': 4705, 'Jolly': 2522, 'moneyi': 8454, 'favorite': 6695, 'oyster': 8913, 'sashimi': 9769, 'rumbling': 9718, 'Kothi': 2603, 'marandratha': 8240, 'topic': 10823, 'correctly': 5911, 'bless': 5255, 'SirSalam': 3800, 'AlaikkumPride': 1053, 'Tea': 4051, 'ShopWe': 3774, 'QatarRakhesh': 3408, 'IndianPls': 2432, 'NumberRespectful': 3104, 'Regards': 3501, 'Gal': 2070, 'galcan': 6971, 'boyy': 5332, 'galno': 6973, 'heaven': 7274, 'princeGN': 9273, 'pisces': 9092, 'aquarius': 4925, '2yrs': 542, 'steyn': 10321, 'wicket': 11332, 'Neither': 3040, 'sterm': 10318, 'resolved': 9604, 'Garbage': 2076, 'eggs': 6455, 'jam': 7693, 'hannaford': 7218, 'wheat': 11304, 'chex': 5650, 'pride': 9269, 'grownup': 7156, 'stuffwhy': 10392, 'costume': 5919, 'Jerk': 2509, 'stink': 10328, 'TEXTCOMP': 3974, 'follows': 6831, 'subsequent': 10412, 'charged150pmsg2': 5611, '84128custcare': 850, 'openings': 8828, 'upcharge': 11012, '8hr': 904, 'Guai': 2137, 'Being': 1274, 'bottle': 5314, 'amused': 4830, 'select': 9856, 'astrology': 4993, 'ryans': 9729, 'program': 9312, 'slacking': 10057, 'officestill': 8772, 'filling': 6742, 'formsdon': 6867, 'mentor': 8336, 'percent': 9025, '09095350301': 281, 'erotic': 6531, 'ecstacy': 6433, 'dept': 6155, '13404': 345, '08717507382': 145, 'datingi': 6062, 'coincidence': 5766, 'sane': 9760, 'helping': 7290, 'leading': 7946, '151': 377, 'pause': 8996, 'gr8prizes': 7113, '8800': 876, 'PSP': 3272, 'wkTXT': 11385, 'httpwwwgr8prizescom': 7432, 'spacebucks': 10195, 'weathers': 11246, '02070836089': 10, 'squeezed': 10257, 'tooPray': 10813, 'meRemove': 8290, 'maintaining': 8212, '5I\\x92m': 705, 'dreading': 6345, 'thou': 10695, 'suggestion': 10431, 'Lands': 2672, 'helps': 7291, 'forgt': 6860, 'Soon': 3844, 'FIGHTS': 1884, 'ajith': 4767, 'Ooooooh': 3179, 'yoville': 11607, 'mega': 8312, 'asda': 4970, 'counts': 5932, 'officer': 8771, 'respectful': 9607, 'bffs': 5208, 'carly': 5539, 'HARD': 2156, 'express': 6622, 'someonethat': 10144, 'seperated鈥┾〨ud': 9882, 'Babes': 1237, 'brolly': 5373, 'English': 1825, 'Franxx': 1981, 'welli': 11278, 'prometazine': 9318, 'syrup': 10511, '5mls': 717, 'feed': 6706, 'shu': 9986, 'singapore': 10021, 'victoria': 11108, 'island': 7647, 'traffic': 10851, 'whens': 11309, 'pocay': 9139, 'wocay': 11398, '4eva': 661, '2morrowxxxx': 522, 'East': 1798, 'broth': 5375, 'ramen': 9418, 'fowler': 6880, 'ksry': 7872, 'sivatats': 10041, 'flew': 6797, 'Calling': 1457, '09058094583': 202, '1526': 378, 'pubcafe': 9346, 'attention': 5010, 'tix': 10756, 'Mode': 2933, 'biolas': 5228, 'fne': 6823, 'youdoing': 11585, 'Sar': 3700, 'worc': 11415, 'foregate': 6848, 'shrub': 9985, 'get4an18th': 7019, '32000': 560, 'legitimat': 7964, 'efreefone': 6450, 'shopthe': 9957, 'receipts': 9479, 'pendent': 9018, 'toilet': 10781, 'stolen': 10332, 'cops': 5902, 'HU': 2212, 'navigate': 8587, 'choosing': 5689, 'require': 9587, 'guidance': 7171, 'Except': 1859, 'chick': 5656, 'boobs': 5292, 'revealing': 9639, 'sparkling': 10202, 'breaks': 5347, '45': 634, '0121': 3, '2025050': 433, 'wwwshortbreaksorguk': 11513, 'Gyno': 2151, 'belong': 5185, 'wwwgambtv': 11500, 'treasure': 10876, 'wmlid820554ad0a1705572711firsttrue¡C': 11394, 'Ringtone¡': 3527, '09050000332': 181, 'slide': 10069, 'mummys': 8526, 'positive': 9182, 'negative': 8611, 'Hmmmm': 2300, 'Dhoni': 1695, 'titleso': 10754, 'command': 5800, 'stressful': 10361, 'Holby': 2309, '09064017295': 240, 'li': 7987, 'lecturer': 7959, 'repeating': 9571, 'yeovil': 11559, 'motor': 8479, 'max': 8274, 'rhode': 9644, 'bong': 5289, 'Ofcourse': 3147, '2p': 532, '08448350055': 67, 'PlanetTalkInstantcom': 3330, 'loti': 8110, 'Marvel': 2872, 'Ultimate': 4240, 'Spiderman': 3860, 'SPIDER': 3635, '83338': 839, '8Ball': 899, 'tamilnaduthen': 10543, 'tip': 10746, '07808247860': 39, '08719899229': 177, '40411': 611, '061104': 20, 'Apo': 1093, 'Perhaps': 3301, 'identification': 7498, 'limit': 8018, 'boundaries': 5318, 'endless': 6492, 'Machan': 2849, 'reassuring': 9471, 'lorWe': 8101, 'young': 11592, 'referin': 9512, 'meis': 8316, 'liaoSo': 7989, 'Miles': 2902, 'saibaba': 9741, 'colany': 5768, 'chic': 5655, 'Common': 1540, 'Declare': 1677, '49557': 646, '261104': 464, 'disappointment': 6246, 'irritation': 7638, 'tantrums': 10546, 'Compliments': 1545, 'adventuring': 4712, 'chief': 5659, 'Gsex': 2136, '2667': 465, 'WC1N': 4341, '3XX': 591, '3MOBILE': 582, 'CHATLINES': 1402, 'INCLU': 2374, 'MINS': 2794, 'CUST': 1444, 'SERVs': 3576, 'SED': 3564, 'L8ER': 2609, 'MEGA': 2780, 'BILL': 1184, 'BAILIFF': 1153, 'DUE': 1650, 'Armand': 1105, 'mouse': 8482, 'desk': 6163, 'Ic': 2407, 'childporn': 5672, 'jumpers': 7764, 'hat': 7238, 'belt': 5189, 'Cribbs': 1575, 'spiritual': 10229, 'barring': 5104, 'sudden': 10420, 'influx': 7560, 'Yeh': 4582, 'Tho': 4113, 'kane': 7786, 'shud': 9987, 'Mite': 2915, 'Pshewmissing': 3393, 'units': 10993, 'accent': 4649, '4years': 683, 'dental': 6144, 'nmde': 8664, 'dump': 6395, 'heap': 7262, 'lowes': 8140, 'BORING': 1199, 'salesman': 9748, 'REMINDER': 3441, '£750': 11676, '087187272008': 160, 'NOW1': 3017, 'Pity': 3328, 'Soany': 3830, 'suggestions': 10432, 'bitching': 5238}\n"
     ]
    }
   ],
   "source": [
    "print(transformador.vocabulary_)"
   ]
  },
  {
   "cell_type": "code",
   "execution_count": 36,
   "metadata": {},
   "outputs": [],
   "source": [
    "mensaje3 = mensajesdf[\"Mensaje\"][3]"
   ]
  },
  {
   "cell_type": "code",
   "execution_count": 37,
   "metadata": {},
   "outputs": [
    {
     "output_type": "execute_result",
     "data": {
      "text/plain": [
       "'U dun say so early hor... U c already then say...'"
      ]
     },
     "metadata": {},
     "execution_count": 37
    }
   ],
   "source": [
    "mensaje3"
   ]
  },
  {
   "cell_type": "code",
   "execution_count": 38,
   "metadata": {},
   "outputs": [],
   "source": [
    "mensaje3_transformado = transformador.transform([mensaje3])"
   ]
  },
  {
   "cell_type": "code",
   "execution_count": 39,
   "metadata": {},
   "outputs": [
    {
     "output_type": "stream",
     "name": "stdout",
     "text": [
      "  (0, 4199)\t2\n  (0, 4799)\t1\n  (0, 5447)\t1\n  (0, 6396)\t1\n  (0, 6415)\t1\n  (0, 7389)\t1\n  (0, 9785)\t2\n  (0, 10125)\t1\n  (0, 10654)\t1\n"
     ]
    }
   ],
   "source": [
    "print(mensaje3_transformado)"
   ]
  },
  {
   "cell_type": "code",
   "execution_count": 44,
   "metadata": {},
   "outputs": [
    {
     "output_type": "execute_result",
     "data": {
      "text/plain": [
       "'say'"
      ]
     },
     "metadata": {},
     "execution_count": 44
    }
   ],
   "source": [
    "transformador.get_feature_names()[9785]"
   ]
  },
  {
   "cell_type": "code",
   "execution_count": 45,
   "metadata": {},
   "outputs": [],
   "source": [
    "# Predicciones"
   ]
  },
  {
   "cell_type": "code",
   "execution_count": 48,
   "metadata": {},
   "outputs": [],
   "source": [
    "from sklearn.feature_extraction.text import TfidfTransformer\n",
    "from sklearn.ensemble import RandomForestClassifier\n",
    "from sklearn.model_selection import train_test_split\n",
    "from sklearn.pipeline import Pipeline\n",
    "from sklearn.metrics import classification_report"
   ]
  },
  {
   "cell_type": "code",
   "execution_count": 49,
   "metadata": {},
   "outputs": [],
   "source": [
    "m_ent, m_pru, e_ent, e_pru = train_test_split(mensajesdf[\"Mensaje\"],mensajesdf[\"Etiqueta\"],test_size=0.3)"
   ]
  },
  {
   "cell_type": "code",
   "execution_count": 52,
   "metadata": {},
   "outputs": [],
   "source": [
    "pipeline = Pipeline([\n",
    "    ('vectorizar',CountVectorizer(analyzer=procesar_texto)),\n",
    "    ('transformar',TfidfTransformer()),\n",
    "    ('clasificar',RandomForestClassifier())])"
   ]
  },
  {
   "cell_type": "code",
   "execution_count": 53,
   "metadata": {},
   "outputs": [
    {
     "output_type": "execute_result",
     "data": {
      "text/plain": [
       "Pipeline(steps=[('vectorizar',\n",
       "                 CountVectorizer(analyzer=<function procesar_texto at 0x00000132048780D8>)),\n",
       "                ('transformar', TfidfTransformer()),\n",
       "                ('clasificar', RandomForestClassifier())])"
      ]
     },
     "metadata": {},
     "execution_count": 53
    }
   ],
   "source": [
    "pipeline.fit(m_ent,e_ent)"
   ]
  },
  {
   "cell_type": "code",
   "execution_count": 54,
   "metadata": {},
   "outputs": [],
   "source": [
    "predicciones = pipeline.predict(m_pru)"
   ]
  },
  {
   "cell_type": "code",
   "execution_count": 55,
   "metadata": {},
   "outputs": [
    {
     "output_type": "stream",
     "name": "stdout",
     "text": [
      "              precision    recall  f1-score   support\n\n         ham       0.96      1.00      0.98      1434\n        spam       1.00      0.77      0.87       238\n\n    accuracy                           0.97      1672\n   macro avg       0.98      0.89      0.93      1672\nweighted avg       0.97      0.97      0.97      1672\n\n"
     ]
    }
   ],
   "source": [
    "print(classification_report(e_pru,predicciones))"
   ]
  },
  {
   "cell_type": "code",
   "execution_count": null,
   "metadata": {},
   "outputs": [],
   "source": []
  }
 ]
}